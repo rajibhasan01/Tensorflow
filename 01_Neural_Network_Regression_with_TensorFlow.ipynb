{
  "nbformat": 4,
  "nbformat_minor": 0,
  "metadata": {
    "colab": {
      "name": "01_Neural_Network_Regression_with_TensorFlow.ipynb",
      "provenance": [],
      "collapsed_sections": [],
      "mount_file_id": "1TfLZy58s19NLcVWAtBRNhP4WJxupaUPa",
      "authorship_tag": "ABX9TyNgzVK8jW8PawDYyV7NUpFN",
      "include_colab_link": true
    },
    "kernelspec": {
      "name": "python3",
      "display_name": "Python 3"
    },
    "language_info": {
      "name": "python"
    }
  },
  "cells": [
    {
      "cell_type": "markdown",
      "metadata": {
        "id": "view-in-github",
        "colab_type": "text"
      },
      "source": [
        "<a href=\"https://colab.research.google.com/github/rajibhasan01/Tensorflow/blob/main/01_Neural_Network_Regression_with_TensorFlow.ipynb\" target=\"_parent\"><img src=\"https://colab.research.google.com/assets/colab-badge.svg\" alt=\"Open In Colab\"/></a>"
      ]
    },
    {
      "cell_type": "code",
      "execution_count": null,
      "metadata": {
        "colab": {
          "base_uri": "https://localhost:8080/"
        },
        "id": "JiNI7wZdGtXO",
        "outputId": "5e6e2526-a79a-42a7-b83c-4452b48d9247"
      },
      "outputs": [
        {
          "output_type": "stream",
          "name": "stdout",
          "text": [
            "2.8.0\n"
          ]
        }
      ],
      "source": [
        "#Import TensorFlow\n",
        "import tensorflow as tf\n",
        "import numpy as np\n",
        "\n",
        "print(tf.__version__)"
      ]
    },
    {
      "cell_type": "markdown",
      "source": [
        "## Creating data to view and fit"
      ],
      "metadata": {
        "id": "k2C9TVpwTpwf"
      }
    },
    {
      "cell_type": "code",
      "source": [
        "import numpy as np\n",
        "import matplotlib.pyplot as plt\n",
        "\n",
        "# Create features\n",
        "X = np.array([-7.0, -4.0, -1.0, 2.0, 5.0, 8.0, 11.0, 14.0])\n",
        "\n",
        "# Create labels\n",
        "Y = np.array([3.0, 6.0, 9.0, 12.0, 15.0, 18.0, 21.0, 24.0])\n",
        "\n",
        "# Visualize it\n",
        "plt.scatter(X,Y)"
      ],
      "metadata": {
        "colab": {
          "base_uri": "https://localhost:8080/",
          "height": 286
        },
        "id": "1lhX9bY2TvUQ",
        "outputId": "7b722dc1-5e99-4c97-d967-ea14bec02623"
      },
      "execution_count": null,
      "outputs": [
        {
          "output_type": "execute_result",
          "data": {
            "text/plain": [
              "<matplotlib.collections.PathCollection at 0x7f3bf42fb890>"
            ]
          },
          "metadata": {},
          "execution_count": 2
        },
        {
          "output_type": "display_data",
          "data": {
            "text/plain": [
              "<Figure size 432x288 with 1 Axes>"
            ],
            "image/png": "[encoded data removed]"
          },
          "metadata": {
            "needs_background": "light"
          }
        }
      ]
    },
    {
      "cell_type": "code",
      "source": [
        "Y == X + 10"
      ],
      "metadata": {
        "colab": {
          "base_uri": "https://localhost:8080/"
        },
        "id": "CzYEDjX-ULHu",
        "outputId": "23ad91f5-fc2f-41b6-cda5-42f6313a70ba"
      },
      "execution_count": null,
      "outputs": [
        {
          "output_type": "execute_result",
          "data": {
            "text/plain": [
              "array([ True,  True,  True,  True,  True,  True,  True,  True])"
            ]
          },
          "metadata": {},
          "execution_count": 3
        }
      ]
    },
    {
      "cell_type": "markdown",
      "source": [
        "## Input and output shapes"
      ],
      "metadata": {
        "id": "5BWdUCaNVGtH"
      }
    },
    {
      "cell_type": "code",
      "source": [
        "# Create a demo tensor for our housing price prediction problem\n",
        "house_info = tf.constant([\"bedroom\", \"bathroom\", \"garage\"])\n",
        "house_price = tf.constant([939700])\n",
        "house_info, house_price\n"
      ],
      "metadata": {
        "colab": {
          "base_uri": "https://localhost:8080/"
        },
        "id": "tknVj9jCVR_N",
        "outputId": "446f6594-e43c-42f9-d1a6-d0a629221f92"
      },
      "execution_count": null,
      "outputs": [
        {
          "output_type": "execute_result",
          "data": {
            "text/plain": [
              "(<tf.Tensor: shape=(3,), dtype=string, numpy=array([b'bedroom', b'bathroom', b'garage'], dtype=object)>,\n",
              " <tf.Tensor: shape=(1,), dtype=int32, numpy=array([939700], dtype=int32)>)"
            ]
          },
          "metadata": {},
          "execution_count": 4
        }
      ]
    },
    {
      "cell_type": "code",
      "source": [
        "input_shape = X.shape\n",
        "output_shape = Y.shape\n",
        "input_shape, output_shape"
      ],
      "metadata": {
        "colab": {
          "base_uri": "https://localhost:8080/"
        },
        "id": "PiN7baXeXMaq",
        "outputId": "fdf96da5-7634-4966-e739-69fc7bbc21c7"
      },
      "execution_count": null,
      "outputs": [
        {
          "output_type": "execute_result",
          "data": {
            "text/plain": [
              "((8,), (8,))"
            ]
          },
          "metadata": {},
          "execution_count": 5
        }
      ]
    },
    {
      "cell_type": "code",
      "source": [
        "X[0], Y[0]"
      ],
      "metadata": {
        "colab": {
          "base_uri": "https://localhost:8080/"
        },
        "id": "hRopqKyFXmhA",
        "outputId": "7ffe1976-0cd4-4515-c8f4-68dfe78e21da"
      },
      "execution_count": null,
      "outputs": [
        {
          "output_type": "execute_result",
          "data": {
            "text/plain": [
              "(-7.0, 3.0)"
            ]
          },
          "metadata": {},
          "execution_count": 6
        }
      ]
    },
    {
      "cell_type": "code",
      "source": [
        "# Turn our Numpy arrays into tensors\n",
        "X = tf.cast(tf.constant(X), dtype=tf.float32)\n",
        "Y = tf.cast(tf.constant(Y), dtype=tf.float32)\n",
        "X, Y"
      ],
      "metadata": {
        "colab": {
          "base_uri": "https://localhost:8080/"
        },
        "id": "zvj3qzNRXwVj",
        "outputId": "93a64f16-af16-476f-873c-0a7063ef0481"
      },
      "execution_count": null,
      "outputs": [
        {
          "output_type": "execute_result",
          "data": {
            "text/plain": [
              "(<tf.Tensor: shape=(8,), dtype=float32, numpy=array([-7., -4., -1.,  2.,  5.,  8., 11., 14.], dtype=float32)>,\n",
              " <tf.Tensor: shape=(8,), dtype=float32, numpy=array([ 3.,  6.,  9., 12., 15., 18., 21., 24.], dtype=float32)>)"
            ]
          },
          "metadata": {},
          "execution_count": 7
        }
      ]
    },
    {
      "cell_type": "code",
      "source": [
        "input_shape = X[0].shape\n",
        "output_shape = Y[0].shape"
      ],
      "metadata": {
        "id": "A81SfaDJa73q"
      },
      "execution_count": null,
      "outputs": []
    },
    {
      "cell_type": "code",
      "source": [
        "input_shape, output_shape"
      ],
      "metadata": {
        "colab": {
          "base_uri": "https://localhost:8080/"
        },
        "id": "rgQxKCftbFbL",
        "outputId": "fd1a1542-a559-4ae1-f48a-4bc7a603cb24"
      },
      "execution_count": null,
      "outputs": [
        {
          "output_type": "execute_result",
          "data": {
            "text/plain": [
              "(TensorShape([]), TensorShape([]))"
            ]
          },
          "metadata": {},
          "execution_count": 9
        }
      ]
    },
    {
      "cell_type": "code",
      "source": [
        "plt.scatter(X,Y)"
      ],
      "metadata": {
        "colab": {
          "base_uri": "https://localhost:8080/",
          "height": 286
        },
        "id": "onJuP1FmbIlt",
        "outputId": "e119dd5c-a5a4-4a98-8500-161e052ba589"
      },
      "execution_count": null,
      "outputs": [
        {
          "output_type": "execute_result",
          "data": {
            "text/plain": [
              "<matplotlib.collections.PathCollection at 0x7f3bf30141d0>"
            ]
          },
          "metadata": {},
          "execution_count": 10
        },
        {
          "output_type": "display_data",
          "data": {
            "text/plain": [
              "<Figure size 432x288 with 1 Axes>"
            ],
            "image/png": "[encoded data removed]"
          },
          "metadata": {
            "needs_background": "light"
          }
        }
      ]
    },
    {
      "cell_type": "markdown",
      "source": [
        "# steps in modelling with Tensorflow"
      ],
      "metadata": {
        "id": "Ls8ReRvRbQHn"
      }
    },
    {
      "cell_type": "markdown",
      "source": [
        "1. Creating a model - define the input and output layers, as well as the hidden layers of a deep learning model.\n",
        "2. Compiling a model - define the loss function (in other words, the function which tells our model how wrong it is) and the optimizer (tells our model how to improve the patterns its learning) and evaluation metrics (what we can use to interpret the performance of our model).\n",
        "3. Fitting a model - letting the model try to find patterns between X & Y (features and labels)"
      ],
      "metadata": {
        "id": "N9EETPzbbXpw"
      }
    },
    {
      "cell_type": "code",
      "source": [
        "# Set random seed\n",
        "tf.random.set_seed(42)\n",
        "\n",
        "# 1. Create a model using the Sequential API\n",
        "model = tf.keras.Sequential([\n",
        "                            tf.keras.layers.Input(shape=(1,)),\n",
        "                            tf.keras.layers.Dense(1)\n",
        "])\n",
        "\n",
        "# 2. Compile the model\n",
        "model.compile(loss=tf.keras.losses.mae, # mae is short for mean absolute error\n",
        "              optimizer=tf.keras.optimizers.SGD(), # SGD is short for stochastic descent\n",
        "              metrics=[\"mae\"])\n",
        "\n",
        "# 3. Fit the model\n",
        "model.fit(X,Y, epochs=5)"
      ],
      "metadata": {
        "colab": {
          "base_uri": "https://localhost:8080/"
        },
        "id": "u12aadJ_lSV1",
        "outputId": "e902d693-defa-4b63-db33-265d42b8e75a"
      },
      "execution_count": null,
      "outputs": [
        {
          "output_type": "stream",
          "name": "stdout",
          "text": [
            "Epoch 1/5\n",
            "1/1 [==============================] - 0s 349ms/step - loss: 11.5048 - mae: 11.5048\n",
            "Epoch 2/5\n",
            "1/1 [==============================] - 0s 7ms/step - loss: 11.3723 - mae: 11.3723\n",
            "Epoch 3/5\n",
            "1/1 [==============================] - 0s 10ms/step - loss: 11.2398 - mae: 11.2398\n",
            "Epoch 4/5\n",
            "1/1 [==============================] - 0s 12ms/step - loss: 11.1073 - mae: 11.1073\n",
            "Epoch 5/5\n",
            "1/1 [==============================] - 0s 8ms/step - loss: 10.9748 - mae: 10.9748\n"
          ]
        },
        {
          "output_type": "execute_result",
          "data": {
            "text/plain": [
              "<keras.callbacks.History at 0x7f3bee990110>"
            ]
          },
          "metadata": {},
          "execution_count": 11
        }
      ]
    },
    {
      "cell_type": "code",
      "source": [
        "# Check out X and Y\n",
        "X, Y"
      ],
      "metadata": {
        "colab": {
          "base_uri": "https://localhost:8080/"
        },
        "id": "vtxT-6Fxtdpk",
        "outputId": "0689db58-df4b-4c8d-a30e-2c32259d7e1c"
      },
      "execution_count": null,
      "outputs": [
        {
          "output_type": "execute_result",
          "data": {
            "text/plain": [
              "(<tf.Tensor: shape=(8,), dtype=float32, numpy=array([-7., -4., -1.,  2.,  5.,  8., 11., 14.], dtype=float32)>,\n",
              " <tf.Tensor: shape=(8,), dtype=float32, numpy=array([ 3.,  6.,  9., 12., 15., 18., 21., 24.], dtype=float32)>)"
            ]
          },
          "metadata": {},
          "execution_count": 12
        }
      ]
    },
    {
      "cell_type": "code",
      "source": [
        "# Try and make a prediction using our model\n",
        "model.predict([17.0])"
      ],
      "metadata": {
        "colab": {
          "base_uri": "https://localhost:8080/"
        },
        "id": "gnvKJjR30iZB",
        "outputId": "acde1219-2ec6-45fb-b884-fad533b3600b"
      },
      "execution_count": null,
      "outputs": [
        {
          "output_type": "execute_result",
          "data": {
            "text/plain": [
              "array([[12.716021]], dtype=float32)"
            ]
          },
          "metadata": {},
          "execution_count": 13
        }
      ]
    },
    {
      "cell_type": "markdown",
      "source": [
        "### Improving our model\n",
        "\n",
        "We can improve our model, by altering the steps we took to create a model.\n",
        "\n",
        "1. **Creating a model** - Here we might add more layers, increase the number of hidden units (all called neurons) within each of the hidden layers, change the activation function of each layer.\n",
        "2. **Compliling a model** - Here we might change the optimization function or perhaps the learning rate of the optimization function.\n",
        "3. **Fitting a model** - Here we might fit a model for more epochs (leave it training for longer) or on more data (give the model more examples to learn from)."
      ],
      "metadata": {
        "id": "V9P6K-n7159V"
      }
    },
    {
      "cell_type": "code",
      "source": [
        "# Let's rebuild our model\n",
        "\n",
        "# 1. Create the model\n",
        "model = tf.keras.Sequential([\n",
        "                             tf.keras.layers.Input(shape=(1,)),\n",
        "                             tf.keras.layers.Dense(1)\n",
        "])\n",
        "\n",
        "# 2. Compile the model\n",
        "model.compile(loss=tf.keras.losses.mae, \n",
        "              optimizer=tf.keras.optimizers.SGD(), \n",
        "              metrics=[\"mae\"])\n",
        "\n",
        "# 3. Fit the model (this time we'll train for longer)\n",
        "model.fit(X,Y, epochs=100)"
      ],
      "metadata": {
        "colab": {
          "base_uri": "https://localhost:8080/"
        },
        "id": "Kg-zkSIH2fVp",
        "outputId": "c973805c-2503-4823-a273-29a085da126a"
      },
      "execution_count": null,
      "outputs": [
        {
          "output_type": "stream",
          "name": "stdout",
          "text": [
            "Epoch 1/100\n",
            "1/1 [==============================] - 0s 288ms/step - loss: 11.2219 - mae: 11.2219\n",
            "Epoch 2/100\n",
            "1/1 [==============================] - 0s 7ms/step - loss: 11.0894 - mae: 11.0894\n",
            "Epoch 3/100\n",
            "1/1 [==============================] - 0s 8ms/step - loss: 10.9569 - mae: 10.9569\n",
            "Epoch 4/100\n",
            "1/1 [==============================] - 0s 6ms/step - loss: 10.8244 - mae: 10.8244\n",
            "Epoch 5/100\n",
            "1/1 [==============================] - 0s 6ms/step - loss: 10.6919 - mae: 10.6919\n",
            "Epoch 6/100\n",
            "1/1 [==============================] - 0s 10ms/step - loss: 10.5594 - mae: 10.5594\n",
            "Epoch 7/100\n",
            "1/1 [==============================] - 0s 7ms/step - loss: 10.4269 - mae: 10.4269\n",
            "Epoch 8/100\n",
            "1/1 [==============================] - 0s 12ms/step - loss: 10.2944 - mae: 10.2944\n",
            "Epoch 9/100\n",
            "1/1 [==============================] - 0s 9ms/step - loss: 10.1619 - mae: 10.1619\n",
            "Epoch 10/100\n",
            "1/1 [==============================] - 0s 9ms/step - loss: 10.0294 - mae: 10.0294\n",
            "Epoch 11/100\n",
            "1/1 [==============================] - 0s 6ms/step - loss: 9.8969 - mae: 9.8969\n",
            "Epoch 12/100\n",
            "1/1 [==============================] - 0s 12ms/step - loss: 9.7644 - mae: 9.7644\n",
            "Epoch 13/100\n",
            "1/1 [==============================] - 0s 15ms/step - loss: 9.6319 - mae: 9.6319\n",
            "Epoch 14/100\n",
            "1/1 [==============================] - 0s 11ms/step - loss: 9.4994 - mae: 9.4994\n",
            "Epoch 15/100\n",
            "1/1 [==============================] - 0s 10ms/step - loss: 9.3669 - mae: 9.3669\n",
            "Epoch 16/100\n",
            "1/1 [==============================] - 0s 7ms/step - loss: 9.2344 - mae: 9.2344\n",
            "Epoch 17/100\n",
            "1/1 [==============================] - 0s 10ms/step - loss: 9.1019 - mae: 9.1019\n",
            "Epoch 18/100\n",
            "1/1 [==============================] - 0s 8ms/step - loss: 8.9694 - mae: 8.9694\n",
            "Epoch 19/100\n",
            "1/1 [==============================] - 0s 12ms/step - loss: 8.8369 - mae: 8.8369\n",
            "Epoch 20/100\n",
            "1/1 [==============================] - 0s 10ms/step - loss: 8.7044 - mae: 8.7044\n",
            "Epoch 21/100\n",
            "1/1 [==============================] - 0s 9ms/step - loss: 8.5719 - mae: 8.5719\n",
            "Epoch 22/100\n",
            "1/1 [==============================] - 0s 6ms/step - loss: 8.4394 - mae: 8.4394\n",
            "Epoch 23/100\n",
            "1/1 [==============================] - 0s 6ms/step - loss: 8.3069 - mae: 8.3069\n",
            "Epoch 24/100\n",
            "1/1 [==============================] - 0s 7ms/step - loss: 8.1744 - mae: 8.1744\n",
            "Epoch 25/100\n",
            "1/1 [==============================] - 0s 8ms/step - loss: 8.0419 - mae: 8.0419\n",
            "Epoch 26/100\n",
            "1/1 [==============================] - 0s 6ms/step - loss: 7.9094 - mae: 7.9094\n",
            "Epoch 27/100\n",
            "1/1 [==============================] - 0s 6ms/step - loss: 7.7769 - mae: 7.7769\n",
            "Epoch 28/100\n",
            "1/1 [==============================] - 0s 7ms/step - loss: 7.6444 - mae: 7.6444\n",
            "Epoch 29/100\n",
            "1/1 [==============================] - 0s 7ms/step - loss: 7.5119 - mae: 7.5119\n",
            "Epoch 30/100\n",
            "1/1 [==============================] - 0s 7ms/step - loss: 7.3794 - mae: 7.3794\n",
            "Epoch 31/100\n",
            "1/1 [==============================] - 0s 6ms/step - loss: 7.2750 - mae: 7.2750\n",
            "Epoch 32/100\n",
            "1/1 [==============================] - 0s 7ms/step - loss: 7.2694 - mae: 7.2694\n",
            "Epoch 33/100\n",
            "1/1 [==============================] - 0s 7ms/step - loss: 7.2638 - mae: 7.2638\n",
            "Epoch 34/100\n",
            "1/1 [==============================] - 0s 7ms/step - loss: 7.2581 - mae: 7.2581\n",
            "Epoch 35/100\n",
            "1/1 [==============================] - 0s 6ms/step - loss: 7.2525 - mae: 7.2525\n",
            "Epoch 36/100\n",
            "1/1 [==============================] - 0s 9ms/step - loss: 7.2469 - mae: 7.2469\n",
            "Epoch 37/100\n",
            "1/1 [==============================] - 0s 10ms/step - loss: 7.2412 - mae: 7.2412\n",
            "Epoch 38/100\n",
            "1/1 [==============================] - 0s 6ms/step - loss: 7.2356 - mae: 7.2356\n",
            "Epoch 39/100\n",
            "1/1 [==============================] - 0s 5ms/step - loss: 7.2300 - mae: 7.2300\n",
            "Epoch 40/100\n",
            "1/1 [==============================] - 0s 7ms/step - loss: 7.2244 - mae: 7.2244\n",
            "Epoch 41/100\n",
            "1/1 [==============================] - 0s 17ms/step - loss: 7.2188 - mae: 7.2188\n",
            "Epoch 42/100\n",
            "1/1 [==============================] - 0s 6ms/step - loss: 7.2131 - mae: 7.2131\n",
            "Epoch 43/100\n",
            "1/1 [==============================] - 0s 7ms/step - loss: 7.2075 - mae: 7.2075\n",
            "Epoch 44/100\n",
            "1/1 [==============================] - 0s 6ms/step - loss: 7.2019 - mae: 7.2019\n",
            "Epoch 45/100\n",
            "1/1 [==============================] - 0s 6ms/step - loss: 7.1962 - mae: 7.1962\n",
            "Epoch 46/100\n",
            "1/1 [==============================] - 0s 19ms/step - loss: 7.1906 - mae: 7.1906\n",
            "Epoch 47/100\n",
            "1/1 [==============================] - 0s 9ms/step - loss: 7.1850 - mae: 7.1850\n",
            "Epoch 48/100\n",
            "1/1 [==============================] - 0s 12ms/step - loss: 7.1794 - mae: 7.1794\n",
            "Epoch 49/100\n",
            "1/1 [==============================] - 0s 16ms/step - loss: 7.1737 - mae: 7.1737\n",
            "Epoch 50/100\n",
            "1/1 [==============================] - 0s 6ms/step - loss: 7.1681 - mae: 7.1681\n",
            "Epoch 51/100\n",
            "1/1 [==============================] - 0s 9ms/step - loss: 7.1625 - mae: 7.1625\n",
            "Epoch 52/100\n",
            "1/1 [==============================] - 0s 9ms/step - loss: 7.1569 - mae: 7.1569\n",
            "Epoch 53/100\n",
            "1/1 [==============================] - 0s 6ms/step - loss: 7.1512 - mae: 7.1512\n",
            "Epoch 54/100\n",
            "1/1 [==============================] - 0s 7ms/step - loss: 7.1456 - mae: 7.1456\n",
            "Epoch 55/100\n",
            "1/1 [==============================] - 0s 6ms/step - loss: 7.1400 - mae: 7.1400\n",
            "Epoch 56/100\n",
            "1/1 [==============================] - 0s 7ms/step - loss: 7.1344 - mae: 7.1344\n",
            "Epoch 57/100\n",
            "1/1 [==============================] - 0s 10ms/step - loss: 7.1287 - mae: 7.1287\n",
            "Epoch 58/100\n",
            "1/1 [==============================] - 0s 13ms/step - loss: 7.1231 - mae: 7.1231\n",
            "Epoch 59/100\n",
            "1/1 [==============================] - 0s 18ms/step - loss: 7.1175 - mae: 7.1175\n",
            "Epoch 60/100\n",
            "1/1 [==============================] - 0s 6ms/step - loss: 7.1119 - mae: 7.1119\n",
            "Epoch 61/100\n",
            "1/1 [==============================] - 0s 10ms/step - loss: 7.1062 - mae: 7.1062\n",
            "Epoch 62/100\n",
            "1/1 [==============================] - 0s 9ms/step - loss: 7.1006 - mae: 7.1006\n",
            "Epoch 63/100\n",
            "1/1 [==============================] - 0s 17ms/step - loss: 7.0950 - mae: 7.0950\n",
            "Epoch 64/100\n",
            "1/1 [==============================] - 0s 28ms/step - loss: 7.0894 - mae: 7.0894\n",
            "Epoch 65/100\n",
            "1/1 [==============================] - 0s 20ms/step - loss: 7.0838 - mae: 7.0838\n",
            "Epoch 66/100\n",
            "1/1 [==============================] - 0s 10ms/step - loss: 7.0781 - mae: 7.0781\n",
            "Epoch 67/100\n",
            "1/1 [==============================] - 0s 15ms/step - loss: 7.0725 - mae: 7.0725\n",
            "Epoch 68/100\n",
            "1/1 [==============================] - 0s 17ms/step - loss: 7.0669 - mae: 7.0669\n",
            "Epoch 69/100\n",
            "1/1 [==============================] - 0s 11ms/step - loss: 7.0613 - mae: 7.0613\n",
            "Epoch 70/100\n",
            "1/1 [==============================] - 0s 17ms/step - loss: 7.0556 - mae: 7.0556\n",
            "Epoch 71/100\n",
            "1/1 [==============================] - 0s 19ms/step - loss: 7.0500 - mae: 7.0500\n",
            "Epoch 72/100\n",
            "1/1 [==============================] - 0s 47ms/step - loss: 7.0444 - mae: 7.0444\n",
            "Epoch 73/100\n",
            "1/1 [==============================] - 0s 39ms/step - loss: 7.0388 - mae: 7.0388\n",
            "Epoch 74/100\n",
            "1/1 [==============================] - 0s 26ms/step - loss: 7.0331 - mae: 7.0331\n",
            "Epoch 75/100\n",
            "1/1 [==============================] - 0s 28ms/step - loss: 7.0275 - mae: 7.0275\n",
            "Epoch 76/100\n",
            "1/1 [==============================] - 0s 10ms/step - loss: 7.0219 - mae: 7.0219\n",
            "Epoch 77/100\n",
            "1/1 [==============================] - 0s 20ms/step - loss: 7.0163 - mae: 7.0163\n",
            "Epoch 78/100\n",
            "1/1 [==============================] - 0s 18ms/step - loss: 7.0106 - mae: 7.0106\n",
            "Epoch 79/100\n",
            "1/1 [==============================] - 0s 11ms/step - loss: 7.0050 - mae: 7.0050\n",
            "Epoch 80/100\n",
            "1/1 [==============================] - 0s 17ms/step - loss: 6.9994 - mae: 6.9994\n",
            "Epoch 81/100\n",
            "1/1 [==============================] - 0s 23ms/step - loss: 6.9938 - mae: 6.9938\n",
            "Epoch 82/100\n",
            "1/1 [==============================] - 0s 19ms/step - loss: 6.9881 - mae: 6.9881\n",
            "Epoch 83/100\n",
            "1/1 [==============================] - 0s 21ms/step - loss: 6.9825 - mae: 6.9825\n",
            "Epoch 84/100\n",
            "1/1 [==============================] - 0s 20ms/step - loss: 6.9769 - mae: 6.9769\n",
            "Epoch 85/100\n",
            "1/1 [==============================] - 0s 27ms/step - loss: 6.9713 - mae: 6.9713\n",
            "Epoch 86/100\n",
            "1/1 [==============================] - 0s 15ms/step - loss: 6.9656 - mae: 6.9656\n",
            "Epoch 87/100\n",
            "1/1 [==============================] - 0s 12ms/step - loss: 6.9600 - mae: 6.9600\n",
            "Epoch 88/100\n",
            "1/1 [==============================] - 0s 8ms/step - loss: 6.9544 - mae: 6.9544\n",
            "Epoch 89/100\n",
            "1/1 [==============================] - 0s 6ms/step - loss: 6.9488 - mae: 6.9488\n",
            "Epoch 90/100\n",
            "1/1 [==============================] - 0s 8ms/step - loss: 6.9431 - mae: 6.9431\n",
            "Epoch 91/100\n",
            "1/1 [==============================] - 0s 9ms/step - loss: 6.9375 - mae: 6.9375\n",
            "Epoch 92/100\n",
            "1/1 [==============================] - 0s 17ms/step - loss: 6.9319 - mae: 6.9319\n",
            "Epoch 93/100\n",
            "1/1 [==============================] - 0s 11ms/step - loss: 6.9263 - mae: 6.9263\n",
            "Epoch 94/100\n",
            "1/1 [==============================] - 0s 7ms/step - loss: 6.9206 - mae: 6.9206\n",
            "Epoch 95/100\n",
            "1/1 [==============================] - 0s 13ms/step - loss: 6.9150 - mae: 6.9150\n",
            "Epoch 96/100\n",
            "1/1 [==============================] - 0s 14ms/step - loss: 6.9094 - mae: 6.9094\n",
            "Epoch 97/100\n",
            "1/1 [==============================] - 0s 10ms/step - loss: 6.9038 - mae: 6.9038\n",
            "Epoch 98/100\n",
            "1/1 [==============================] - 0s 15ms/step - loss: 6.8981 - mae: 6.8981\n",
            "Epoch 99/100\n",
            "1/1 [==============================] - 0s 10ms/step - loss: 6.8925 - mae: 6.8925\n",
            "Epoch 100/100\n",
            "1/1 [==============================] - 0s 6ms/step - loss: 6.8869 - mae: 6.8869\n"
          ]
        },
        {
          "output_type": "execute_result",
          "data": {
            "text/plain": [
              "<keras.callbacks.History at 0x7f3bee847b10>"
            ]
          },
          "metadata": {},
          "execution_count": 14
        }
      ]
    },
    {
      "cell_type": "code",
      "source": [
        "model.predict([17.0])"
      ],
      "metadata": {
        "colab": {
          "base_uri": "https://localhost:8080/"
        },
        "id": "CdyilCxH5mKo",
        "outputId": "592df269-c995-4a4b-d7f7-d40a8b905306"
      },
      "execution_count": null,
      "outputs": [
        {
          "output_type": "execute_result",
          "data": {
            "text/plain": [
              "array([[29.739855]], dtype=float32)"
            ]
          },
          "metadata": {},
          "execution_count": 15
        }
      ]
    },
    {
      "cell_type": "code",
      "source": [
        "# Let's see if we can make another to improve our model\n",
        "\n",
        "# 1. Create the model (this time with an extra hidden layer wwith 100 hidden units)\n",
        "model = tf.keras.Sequential([\n",
        "                             tf.keras.layers.Input(shape=(1,)),\n",
        "                             tf.keras.layers.Dense(50, activation=None),\n",
        "                             tf.keras.layers.Dense(1)\n",
        "])\n",
        "\n",
        "# 2. Compile the model\n",
        "model.compile(loss=\"mae\",\n",
        "              optimizer=tf.keras.optimizers.Adam(lr=0.01),\n",
        "              metrics=[\"mae\"])\n",
        "\n",
        "# 3. Fit the model\n",
        "model.fit(X,Y, epochs=100)"
      ],
      "metadata": {
        "id": "R_iA_A1r539B",
        "colab": {
          "base_uri": "https://localhost:8080/"
        },
        "outputId": "c3190713-c074-4458-b2c2-82eae6bd01a1"
      },
      "execution_count": null,
      "outputs": [
        {
          "output_type": "stream",
          "name": "stdout",
          "text": [
            "Epoch 1/100\n"
          ]
        },
        {
          "output_type": "stream",
          "name": "stderr",
          "text": [
            "/usr/local/lib/python3.7/dist-packages/keras/optimizer_v2/adam.py:105: UserWarning: The `lr` argument is deprecated, use `learning_rate` instead.\n",
            "  super(Adam, self).__init__(name, **kwargs)\n"
          ]
        },
        {
          "output_type": "stream",
          "name": "stdout",
          "text": [
            "1/1 [==============================] - 1s 745ms/step - loss: 11.7682 - mae: 11.7682\n",
            "Epoch 2/100\n",
            "1/1 [==============================] - 0s 9ms/step - loss: 11.0963 - mae: 11.0963\n",
            "Epoch 3/100\n",
            "1/1 [==============================] - 0s 17ms/step - loss: 10.4150 - mae: 10.4150\n",
            "Epoch 4/100\n",
            "1/1 [==============================] - 0s 12ms/step - loss: 9.7212 - mae: 9.7212\n",
            "Epoch 5/100\n",
            "1/1 [==============================] - 0s 13ms/step - loss: 9.0104 - mae: 9.0104\n",
            "Epoch 6/100\n",
            "1/1 [==============================] - 0s 17ms/step - loss: 8.2778 - mae: 8.2778\n",
            "Epoch 7/100\n",
            "1/1 [==============================] - 0s 6ms/step - loss: 7.5198 - mae: 7.5198\n",
            "Epoch 8/100\n",
            "1/1 [==============================] - 0s 6ms/step - loss: 6.9648 - mae: 6.9648\n",
            "Epoch 9/100\n",
            "1/1 [==============================] - 0s 7ms/step - loss: 7.0672 - mae: 7.0672\n",
            "Epoch 10/100\n",
            "1/1 [==============================] - 0s 11ms/step - loss: 7.3315 - mae: 7.3315\n",
            "Epoch 11/100\n",
            "1/1 [==============================] - 0s 15ms/step - loss: 7.4673 - mae: 7.4673\n",
            "Epoch 12/100\n",
            "1/1 [==============================] - 0s 16ms/step - loss: 7.5285 - mae: 7.5285\n",
            "Epoch 13/100\n",
            "1/1 [==============================] - 0s 17ms/step - loss: 7.4011 - mae: 7.4011\n",
            "Epoch 14/100\n",
            "1/1 [==============================] - 0s 14ms/step - loss: 7.1923 - mae: 7.1923\n",
            "Epoch 15/100\n",
            "1/1 [==============================] - 0s 26ms/step - loss: 6.9575 - mae: 6.9575\n",
            "Epoch 16/100\n",
            "1/1 [==============================] - 0s 8ms/step - loss: 6.6953 - mae: 6.6953\n",
            "Epoch 17/100\n",
            "1/1 [==============================] - 0s 7ms/step - loss: 6.4127 - mae: 6.4127\n",
            "Epoch 18/100\n",
            "1/1 [==============================] - 0s 16ms/step - loss: 6.3048 - mae: 6.3048\n",
            "Epoch 19/100\n",
            "1/1 [==============================] - 0s 15ms/step - loss: 6.2575 - mae: 6.2575\n",
            "Epoch 20/100\n",
            "1/1 [==============================] - 0s 12ms/step - loss: 6.3982 - mae: 6.3982\n",
            "Epoch 21/100\n",
            "1/1 [==============================] - 0s 13ms/step - loss: 6.4551 - mae: 6.4551\n",
            "Epoch 22/100\n",
            "1/1 [==============================] - 0s 11ms/step - loss: 6.4000 - mae: 6.4000\n",
            "Epoch 23/100\n",
            "1/1 [==============================] - 0s 9ms/step - loss: 6.2482 - mae: 6.2482\n",
            "Epoch 24/100\n",
            "1/1 [==============================] - 0s 12ms/step - loss: 6.0105 - mae: 6.0105\n",
            "Epoch 25/100\n",
            "1/1 [==============================] - 0s 8ms/step - loss: 5.7876 - mae: 5.7876\n",
            "Epoch 26/100\n",
            "1/1 [==============================] - 0s 12ms/step - loss: 5.6809 - mae: 5.6809\n",
            "Epoch 27/100\n",
            "1/1 [==============================] - 0s 16ms/step - loss: 5.5715 - mae: 5.5715\n",
            "Epoch 28/100\n",
            "1/1 [==============================] - 0s 18ms/step - loss: 5.6122 - mae: 5.6122\n",
            "Epoch 29/100\n",
            "1/1 [==============================] - 0s 15ms/step - loss: 5.6074 - mae: 5.6074\n",
            "Epoch 30/100\n",
            "1/1 [==============================] - 0s 13ms/step - loss: 5.5541 - mae: 5.5541\n",
            "Epoch 31/100\n",
            "1/1 [==============================] - 0s 13ms/step - loss: 5.4568 - mae: 5.4568\n",
            "Epoch 32/100\n",
            "1/1 [==============================] - 0s 18ms/step - loss: 5.3199 - mae: 5.3199\n",
            "Epoch 33/100\n",
            "1/1 [==============================] - 0s 17ms/step - loss: 5.1477 - mae: 5.1477\n",
            "Epoch 34/100\n",
            "1/1 [==============================] - 0s 18ms/step - loss: 4.9442 - mae: 4.9442\n",
            "Epoch 35/100\n",
            "1/1 [==============================] - 0s 15ms/step - loss: 4.8239 - mae: 4.8239\n",
            "Epoch 36/100\n",
            "1/1 [==============================] - 0s 14ms/step - loss: 4.7389 - mae: 4.7389\n",
            "Epoch 37/100\n",
            "1/1 [==============================] - 0s 9ms/step - loss: 4.6657 - mae: 4.6657\n",
            "Epoch 38/100\n",
            "1/1 [==============================] - 0s 7ms/step - loss: 4.5846 - mae: 4.5846\n",
            "Epoch 39/100\n",
            "1/1 [==============================] - 0s 9ms/step - loss: 4.4027 - mae: 4.4027\n",
            "Epoch 40/100\n",
            "1/1 [==============================] - 0s 15ms/step - loss: 4.2653 - mae: 4.2653\n",
            "Epoch 41/100\n",
            "1/1 [==============================] - 0s 13ms/step - loss: 4.1212 - mae: 4.1212\n",
            "Epoch 42/100\n",
            "1/1 [==============================] - 0s 17ms/step - loss: 3.9702 - mae: 3.9702\n",
            "Epoch 43/100\n",
            "1/1 [==============================] - 0s 12ms/step - loss: 3.8272 - mae: 3.8272\n",
            "Epoch 44/100\n",
            "1/1 [==============================] - 0s 27ms/step - loss: 3.7041 - mae: 3.7041\n",
            "Epoch 45/100\n",
            "1/1 [==============================] - 0s 12ms/step - loss: 3.5320 - mae: 3.5320\n",
            "Epoch 46/100\n",
            "1/1 [==============================] - 0s 16ms/step - loss: 3.3664 - mae: 3.3664\n",
            "Epoch 47/100\n",
            "1/1 [==============================] - 0s 13ms/step - loss: 3.2116 - mae: 3.2116\n",
            "Epoch 48/100\n",
            "1/1 [==============================] - 0s 15ms/step - loss: 3.0463 - mae: 3.0463\n",
            "Epoch 49/100\n",
            "1/1 [==============================] - 0s 11ms/step - loss: 2.8705 - mae: 2.8705\n",
            "Epoch 50/100\n",
            "1/1 [==============================] - 0s 12ms/step - loss: 2.6840 - mae: 2.6840\n",
            "Epoch 51/100\n",
            "1/1 [==============================] - 0s 11ms/step - loss: 2.4868 - mae: 2.4868\n",
            "Epoch 52/100\n",
            "1/1 [==============================] - 0s 12ms/step - loss: 2.2787 - mae: 2.2787\n",
            "Epoch 53/100\n",
            "1/1 [==============================] - 0s 11ms/step - loss: 2.0596 - mae: 2.0596\n",
            "Epoch 54/100\n",
            "1/1 [==============================] - 0s 14ms/step - loss: 1.8293 - mae: 1.8293\n",
            "Epoch 55/100\n",
            "1/1 [==============================] - 0s 19ms/step - loss: 1.5876 - mae: 1.5876\n",
            "Epoch 56/100\n",
            "1/1 [==============================] - 0s 9ms/step - loss: 1.3530 - mae: 1.3530\n",
            "Epoch 57/100\n",
            "1/1 [==============================] - 0s 18ms/step - loss: 1.0849 - mae: 1.0849\n",
            "Epoch 58/100\n",
            "1/1 [==============================] - 0s 9ms/step - loss: 0.8224 - mae: 0.8224\n",
            "Epoch 59/100\n",
            "1/1 [==============================] - 0s 9ms/step - loss: 0.5467 - mae: 0.5467\n",
            "Epoch 60/100\n",
            "1/1 [==============================] - 0s 11ms/step - loss: 0.2758 - mae: 0.2758\n",
            "Epoch 61/100\n",
            "1/1 [==============================] - 0s 10ms/step - loss: 0.1354 - mae: 0.1354\n",
            "Epoch 62/100\n",
            "1/1 [==============================] - 0s 10ms/step - loss: 0.4494 - mae: 0.4494\n",
            "Epoch 63/100\n",
            "1/1 [==============================] - 0s 6ms/step - loss: 0.6498 - mae: 0.6498\n",
            "Epoch 64/100\n",
            "1/1 [==============================] - 0s 11ms/step - loss: 0.6216 - mae: 0.6216\n",
            "Epoch 65/100\n",
            "1/1 [==============================] - 0s 10ms/step - loss: 0.8036 - mae: 0.8036\n",
            "Epoch 66/100\n",
            "1/1 [==============================] - 0s 15ms/step - loss: 0.7995 - mae: 0.7995\n",
            "Epoch 67/100\n",
            "1/1 [==============================] - 0s 9ms/step - loss: 0.7409 - mae: 0.7409\n",
            "Epoch 68/100\n",
            "1/1 [==============================] - 0s 14ms/step - loss: 0.7806 - mae: 0.7806\n",
            "Epoch 69/100\n",
            "1/1 [==============================] - 0s 13ms/step - loss: 0.6305 - mae: 0.6305\n",
            "Epoch 70/100\n",
            "1/1 [==============================] - 0s 26ms/step - loss: 0.5556 - mae: 0.5556\n",
            "Epoch 71/100\n",
            "1/1 [==============================] - 0s 12ms/step - loss: 0.4306 - mae: 0.4306\n",
            "Epoch 72/100\n",
            "1/1 [==============================] - 0s 14ms/step - loss: 0.2786 - mae: 0.2786\n",
            "Epoch 73/100\n",
            "1/1 [==============================] - 0s 11ms/step - loss: 0.1378 - mae: 0.1378\n",
            "Epoch 74/100\n",
            "1/1 [==============================] - 0s 18ms/step - loss: 0.1193 - mae: 0.1193\n",
            "Epoch 75/100\n",
            "1/1 [==============================] - 0s 10ms/step - loss: 0.2777 - mae: 0.2777\n",
            "Epoch 76/100\n",
            "1/1 [==============================] - 0s 11ms/step - loss: 0.3245 - mae: 0.3245\n",
            "Epoch 77/100\n",
            "1/1 [==============================] - 0s 12ms/step - loss: 0.4157 - mae: 0.4157\n",
            "Epoch 78/100\n",
            "1/1 [==============================] - 0s 17ms/step - loss: 0.4319 - mae: 0.4319\n",
            "Epoch 79/100\n",
            "1/1 [==============================] - 0s 8ms/step - loss: 0.3391 - mae: 0.3391\n",
            "Epoch 80/100\n",
            "1/1 [==============================] - 0s 20ms/step - loss: 0.2968 - mae: 0.2968\n",
            "Epoch 81/100\n",
            "1/1 [==============================] - 0s 8ms/step - loss: 0.2355 - mae: 0.2355\n",
            "Epoch 82/100\n",
            "1/1 [==============================] - 0s 6ms/step - loss: 0.1633 - mae: 0.1633\n",
            "Epoch 83/100\n",
            "1/1 [==============================] - 0s 20ms/step - loss: 0.1339 - mae: 0.1339\n",
            "Epoch 84/100\n",
            "1/1 [==============================] - 0s 9ms/step - loss: 0.1262 - mae: 0.1262\n",
            "Epoch 85/100\n",
            "1/1 [==============================] - 0s 12ms/step - loss: 0.1702 - mae: 0.1702\n",
            "Epoch 86/100\n",
            "1/1 [==============================] - 0s 23ms/step - loss: 0.2124 - mae: 0.2124\n",
            "Epoch 87/100\n",
            "1/1 [==============================] - 0s 15ms/step - loss: 0.2288 - mae: 0.2288\n",
            "Epoch 88/100\n",
            "1/1 [==============================] - 0s 16ms/step - loss: 0.1901 - mae: 0.1901\n",
            "Epoch 89/100\n",
            "1/1 [==============================] - 0s 10ms/step - loss: 0.1354 - mae: 0.1354\n",
            "Epoch 90/100\n",
            "1/1 [==============================] - 0s 13ms/step - loss: 0.1218 - mae: 0.1218\n",
            "Epoch 91/100\n",
            "1/1 [==============================] - 0s 12ms/step - loss: 0.0382 - mae: 0.0382\n",
            "Epoch 92/100\n",
            "1/1 [==============================] - 0s 9ms/step - loss: 0.2197 - mae: 0.2197\n",
            "Epoch 93/100\n",
            "1/1 [==============================] - 0s 11ms/step - loss: 0.2189 - mae: 0.2189\n",
            "Epoch 94/100\n",
            "1/1 [==============================] - 0s 8ms/step - loss: 0.1427 - mae: 0.1427\n",
            "Epoch 95/100\n",
            "1/1 [==============================] - 0s 17ms/step - loss: 0.1168 - mae: 0.1168\n",
            "Epoch 96/100\n",
            "1/1 [==============================] - 0s 16ms/step - loss: 0.2069 - mae: 0.2069\n",
            "Epoch 97/100\n",
            "1/1 [==============================] - 0s 19ms/step - loss: 0.1524 - mae: 0.1524\n",
            "Epoch 98/100\n",
            "1/1 [==============================] - 0s 11ms/step - loss: 0.2133 - mae: 0.2133\n",
            "Epoch 99/100\n",
            "1/1 [==============================] - 0s 10ms/step - loss: 0.2329 - mae: 0.2329\n",
            "Epoch 100/100\n",
            "1/1 [==============================] - 0s 12ms/step - loss: 0.0780 - mae: 0.0780\n"
          ]
        },
        {
          "output_type": "execute_result",
          "data": {
            "text/plain": [
              "<keras.callbacks.History at 0x7f3bee7686d0>"
            ]
          },
          "metadata": {},
          "execution_count": 16
        }
      ]
    },
    {
      "cell_type": "code",
      "source": [
        "# Let's remind ourselves of the data\n",
        "X,Y"
      ],
      "metadata": {
        "colab": {
          "base_uri": "https://localhost:8080/"
        },
        "id": "Wq8_h1KBv4YJ",
        "outputId": "3d4399ce-d135-4476-b109-b79d6e9ebc1a"
      },
      "execution_count": null,
      "outputs": [
        {
          "output_type": "execute_result",
          "data": {
            "text/plain": [
              "(<tf.Tensor: shape=(8,), dtype=float32, numpy=array([-7., -4., -1.,  2.,  5.,  8., 11., 14.], dtype=float32)>,\n",
              " <tf.Tensor: shape=(8,), dtype=float32, numpy=array([ 3.,  6.,  9., 12., 15., 18., 21., 24.], dtype=float32)>)"
            ]
          },
          "metadata": {},
          "execution_count": 17
        }
      ]
    },
    {
      "cell_type": "code",
      "source": [
        "# Let's try to make a prediction\n",
        "model.predict([17.0])"
      ],
      "metadata": {
        "colab": {
          "base_uri": "https://localhost:8080/"
        },
        "id": "c2z9a9aGwnCV",
        "outputId": "0fe664f4-9d64-4967-a130-1fed3bfd4f2c"
      },
      "execution_count": null,
      "outputs": [
        {
          "output_type": "execute_result",
          "data": {
            "text/plain": [
              "array([[26.58353]], dtype=float32)"
            ]
          },
          "metadata": {},
          "execution_count": 18
        }
      ]
    },
    {
      "cell_type": "markdown",
      "source": [
        "## Evaluating a model\n",
        "\n",
        "In practice, a typical workflow you'll go through when building neural networks is:\n",
        "\n",
        "```\n",
        "Build a model -> fit it -> evaluate it -> tweak a model -> fit it -> evaluate it -> tweak a model -> fit it -> evaluate id...\n",
        "```"
      ],
      "metadata": {
        "id": "ynR674Btwv06"
      }
    },
    {
      "cell_type": "markdown",
      "source": [
        "When it comes to evaluation... there are 3 words you should memorize:\n",
        "\n",
        ">\"Visualize, visualize, visualizze\"\n",
        "\n",
        "It's a good idea to visualize:\n",
        "* The data - what data are we working with? What does it look labels\n",
        "* The model itself - what does our model look like?\n",
        "* The training of a model - how does a model perform while it learns?\n",
        "* The predictions of the model - how do the predictions of a model line up against the ground truth (the original labels)"
      ],
      "metadata": {
        "id": "Yt7N7Epo1Tuv"
      }
    },
    {
      "cell_type": "code",
      "source": [
        "# Make a bigger dataset\n",
        "X = tf.range(-100,100,4)\n",
        "X"
      ],
      "metadata": {
        "colab": {
          "base_uri": "https://localhost:8080/"
        },
        "id": "-ovyXUUQ2YHE",
        "outputId": "899927ba-106b-44c9-a969-9903e1eafe43"
      },
      "execution_count": null,
      "outputs": [
        {
          "output_type": "execute_result",
          "data": {
            "text/plain": [
              "<tf.Tensor: shape=(50,), dtype=int32, numpy=\n",
              "array([-100,  -96,  -92,  -88,  -84,  -80,  -76,  -72,  -68,  -64,  -60,\n",
              "        -56,  -52,  -48,  -44,  -40,  -36,  -32,  -28,  -24,  -20,  -16,\n",
              "        -12,   -8,   -4,    0,    4,    8,   12,   16,   20,   24,   28,\n",
              "         32,   36,   40,   44,   48,   52,   56,   60,   64,   68,   72,\n",
              "         76,   80,   84,   88,   92,   96], dtype=int32)>"
            ]
          },
          "metadata": {},
          "execution_count": 19
        }
      ]
    },
    {
      "cell_type": "code",
      "source": [
        "# Make labels for the dataset\n",
        "Y = X + 10\n",
        "Y"
      ],
      "metadata": {
        "colab": {
          "base_uri": "https://localhost:8080/"
        },
        "id": "35EdTSf_3d8_",
        "outputId": "dcf8a78c-97e3-4826-e3d7-874b132fc33a"
      },
      "execution_count": null,
      "outputs": [
        {
          "output_type": "execute_result",
          "data": {
            "text/plain": [
              "<tf.Tensor: shape=(50,), dtype=int32, numpy=\n",
              "array([-90, -86, -82, -78, -74, -70, -66, -62, -58, -54, -50, -46, -42,\n",
              "       -38, -34, -30, -26, -22, -18, -14, -10,  -6,  -2,   2,   6,  10,\n",
              "        14,  18,  22,  26,  30,  34,  38,  42,  46,  50,  54,  58,  62,\n",
              "        66,  70,  74,  78,  82,  86,  90,  94,  98, 102, 106], dtype=int32)>"
            ]
          },
          "metadata": {},
          "execution_count": 20
        }
      ]
    },
    {
      "cell_type": "code",
      "source": [
        "# Visualize the data\n",
        "plt.scatter(X,Y)"
      ],
      "metadata": {
        "colab": {
          "base_uri": "https://localhost:8080/",
          "height": 282
        },
        "id": "WTak17J33o-e",
        "outputId": "81772d6c-0d3b-471e-c000-600e5c2821f5"
      },
      "execution_count": null,
      "outputs": [
        {
          "output_type": "execute_result",
          "data": {
            "text/plain": [
              "<matplotlib.collections.PathCollection at 0x7f3bed913390>"
            ]
          },
          "metadata": {},
          "execution_count": 21
        },
        {
          "output_type": "display_data",
          "data": {
            "text/plain": [
              "<Figure size 432x288 with 1 Axes>"
            ],
            "image/png": "[encoded data removed]"
          },
          "metadata": {
            "needs_background": "light"
          }
        }
      ]
    },
    {
      "cell_type": "markdown",
      "source": [
        "### The 3 sets...\n",
        "* **Training set** - the model learns from this data, which is typically 70-80% of the total data you have available.\n",
        "* **Validation set** - the model gets tuned on this data, which is typically 10-15% of the data available.\n",
        "* **Test set** - the model gets evaluated on this data to test what is has learned, this set is typically 10-15% of the total data available"
      ],
      "metadata": {
        "id": "Dnix9NGM3ykv"
      }
    },
    {
      "cell_type": "code",
      "source": [
        "# Check the length of how many samples we have \n",
        "len(X)"
      ],
      "metadata": {
        "colab": {
          "base_uri": "https://localhost:8080/"
        },
        "id": "UEDwEt815eZT",
        "outputId": "56bba647-5e4a-45fa-eb17-567393c20671"
      },
      "execution_count": null,
      "outputs": [
        {
          "output_type": "execute_result",
          "data": {
            "text/plain": [
              "50"
            ]
          },
          "metadata": {},
          "execution_count": 22
        }
      ]
    },
    {
      "cell_type": "code",
      "source": [
        "# Split the data into train and test sets\n",
        "X_train = X[:40] # first 40 are training sample (80% of the data)\n",
        "Y_train = Y[:40]\n",
        "\n",
        "X_test = X[40:] # last 10 are testing samples (20% of the data)\n",
        "Y_test = Y[40:]\n",
        "\n",
        "len(X_train), len(X_test), len(Y_train), len(Y_test)"
      ],
      "metadata": {
        "colab": {
          "base_uri": "https://localhost:8080/"
        },
        "id": "C_zXErzi52ka",
        "outputId": "46cc5970-0de7-44ef-e686-ceb6f1485140"
      },
      "execution_count": null,
      "outputs": [
        {
          "output_type": "execute_result",
          "data": {
            "text/plain": [
              "(40, 10, 40, 10)"
            ]
          },
          "metadata": {},
          "execution_count": 23
        }
      ]
    },
    {
      "cell_type": "markdown",
      "source": [
        "### Visualing the data\n",
        "\n",
        "Now we've got our data in training and test sets... let's visualize it again!"
      ],
      "metadata": {
        "id": "dFR9RUPx6yOi"
      }
    },
    {
      "cell_type": "code",
      "source": [
        "plt.figure(figsize=(10,7))\n",
        "# Plot training data in blue\n",
        "plt.scatter(X_train, Y_train, c=\"b\", label=\"Training data\")\n",
        "# Plot test data in green\n",
        "plt.scatter(X_test, Y_test, c=\"g\", label=\"Testing data\")\n",
        "# Show a legend\n",
        "plt.legend();"
      ],
      "metadata": {
        "colab": {
          "base_uri": "https://localhost:8080/",
          "height": 428
        },
        "id": "AiaABZcU7j5S",
        "outputId": "fbc5fe69-edf3-4069-9196-154b54278c24"
      },
      "execution_count": null,
      "outputs": [
        {
          "output_type": "display_data",
          "data": {
            "text/plain": [
              "<Figure size 720x504 with 1 Axes>"
            ],
            "image/png": "[encoded data removed]"
          },
          "metadata": {
            "needs_background": "light"
          }
        }
      ]
    },
    {
      "cell_type": "code",
      "source": [
        "# Let's have a look at how to build a neural network for our data\n",
        "\n",
        "model = tf.keras.Sequential([\n",
        "                             tf.keras.layers.Input(shape=(1,)),\n",
        "                             tf.keras.layers.Dense(1)\n",
        "])\n",
        "\n",
        "model.compile(loss=tf.keras.losses.mae,\n",
        "              optimizer=tf.keras.optimizers.SGD(),\n",
        "              metrics=[\"mae\"])\n",
        "model.fit(X_train, Y_train, epochs=100)"
      ],
      "metadata": {
        "colab": {
          "base_uri": "https://localhost:8080/"
        },
        "id": "F70hCeXL8LEg",
        "outputId": "69a88349-9f7d-4753-dfc7-c0f23cd1b7e3"
      },
      "execution_count": null,
      "outputs": [
        {
          "output_type": "stream",
          "name": "stdout",
          "text": [
            "Epoch 1/100\n",
            "2/2 [==============================] - 1s 9ms/step - loss: 10.5273 - mae: 10.5273\n",
            "Epoch 2/100\n",
            "2/2 [==============================] - 0s 10ms/step - loss: 9.3906 - mae: 9.3906\n",
            "Epoch 3/100\n",
            "2/2 [==============================] - 0s 11ms/step - loss: 7.6292 - mae: 7.6292\n",
            "Epoch 4/100\n",
            "2/2 [==============================] - 0s 19ms/step - loss: 9.6859 - mae: 9.6859\n",
            "Epoch 5/100\n",
            "2/2 [==============================] - 0s 8ms/step - loss: 11.0740 - mae: 11.0740\n",
            "Epoch 6/100\n",
            "2/2 [==============================] - 0s 9ms/step - loss: 10.2264 - mae: 10.2264\n",
            "Epoch 7/100\n",
            "2/2 [==============================] - 0s 8ms/step - loss: 9.2347 - mae: 9.2347\n",
            "Epoch 8/100\n",
            "2/2 [==============================] - 0s 7ms/step - loss: 9.1547 - mae: 9.1547\n",
            "Epoch 9/100\n",
            "2/2 [==============================] - 0s 6ms/step - loss: 11.7875 - mae: 11.7875\n",
            "Epoch 10/100\n",
            "2/2 [==============================] - 0s 14ms/step - loss: 13.7172 - mae: 13.7172\n",
            "Epoch 11/100\n",
            "2/2 [==============================] - 0s 5ms/step - loss: 11.8015 - mae: 11.8015\n",
            "Epoch 12/100\n",
            "2/2 [==============================] - 0s 10ms/step - loss: 16.3555 - mae: 16.3555\n",
            "Epoch 13/100\n",
            "2/2 [==============================] - 0s 20ms/step - loss: 11.9043 - mae: 11.9043\n",
            "Epoch 14/100\n",
            "2/2 [==============================] - 0s 37ms/step - loss: 13.8239 - mae: 13.8239\n",
            "Epoch 15/100\n",
            "2/2 [==============================] - 0s 8ms/step - loss: 11.2084 - mae: 11.2084\n",
            "Epoch 16/100\n",
            "2/2 [==============================] - 0s 11ms/step - loss: 8.5877 - mae: 8.5877\n",
            "Epoch 17/100\n",
            "2/2 [==============================] - 0s 6ms/step - loss: 13.7568 - mae: 13.7568\n",
            "Epoch 18/100\n",
            "2/2 [==============================] - 0s 7ms/step - loss: 11.6177 - mae: 11.6177\n",
            "Epoch 19/100\n",
            "2/2 [==============================] - 0s 6ms/step - loss: 17.7100 - mae: 17.7100\n",
            "Epoch 20/100\n",
            "2/2 [==============================] - 0s 7ms/step - loss: 14.8462 - mae: 14.8462\n",
            "Epoch 21/100\n",
            "2/2 [==============================] - 0s 7ms/step - loss: 10.7513 - mae: 10.7513\n",
            "Epoch 22/100\n",
            "2/2 [==============================] - 0s 5ms/step - loss: 8.4917 - mae: 8.4917\n",
            "Epoch 23/100\n",
            "2/2 [==============================] - 0s 5ms/step - loss: 9.7766 - mae: 9.7766\n",
            "Epoch 24/100\n",
            "2/2 [==============================] - 0s 6ms/step - loss: 10.8531 - mae: 10.8531\n",
            "Epoch 25/100\n",
            "2/2 [==============================] - 0s 5ms/step - loss: 9.1113 - mae: 9.1113\n",
            "Epoch 26/100\n",
            "2/2 [==============================] - 0s 7ms/step - loss: 13.0840 - mae: 13.0840\n",
            "Epoch 27/100\n",
            "2/2 [==============================] - 0s 20ms/step - loss: 10.4066 - mae: 10.4066\n",
            "Epoch 28/100\n",
            "2/2 [==============================] - 0s 14ms/step - loss: 13.4238 - mae: 13.4238\n",
            "Epoch 29/100\n",
            "2/2 [==============================] - 0s 10ms/step - loss: 9.6076 - mae: 9.6076\n",
            "Epoch 30/100\n",
            "2/2 [==============================] - 0s 10ms/step - loss: 17.2601 - mae: 17.2601\n",
            "Epoch 31/100\n",
            "2/2 [==============================] - 0s 9ms/step - loss: 22.8003 - mae: 22.8003\n",
            "Epoch 32/100\n",
            "2/2 [==============================] - 0s 13ms/step - loss: 7.9049 - mae: 7.9049\n",
            "Epoch 33/100\n",
            "2/2 [==============================] - 0s 10ms/step - loss: 14.1734 - mae: 14.1734\n",
            "Epoch 34/100\n",
            "2/2 [==============================] - 0s 15ms/step - loss: 12.4283 - mae: 12.4283\n",
            "Epoch 35/100\n",
            "2/2 [==============================] - 0s 10ms/step - loss: 8.2339 - mae: 8.2339\n",
            "Epoch 36/100\n",
            "2/2 [==============================] - 0s 10ms/step - loss: 10.4408 - mae: 10.4408\n",
            "Epoch 37/100\n",
            "2/2 [==============================] - 0s 10ms/step - loss: 10.0926 - mae: 10.0926\n",
            "Epoch 38/100\n",
            "2/2 [==============================] - 0s 16ms/step - loss: 11.2658 - mae: 11.2658\n",
            "Epoch 39/100\n",
            "2/2 [==============================] - 0s 13ms/step - loss: 14.7947 - mae: 14.7947\n",
            "Epoch 40/100\n",
            "2/2 [==============================] - 0s 10ms/step - loss: 12.9246 - mae: 12.9246\n",
            "Epoch 41/100\n",
            "2/2 [==============================] - 0s 10ms/step - loss: 9.3199 - mae: 9.3199\n",
            "Epoch 42/100\n",
            "2/2 [==============================] - 0s 9ms/step - loss: 10.9560 - mae: 10.9560\n",
            "Epoch 43/100\n",
            "2/2 [==============================] - 0s 10ms/step - loss: 8.3161 - mae: 8.3161\n",
            "Epoch 44/100\n",
            "2/2 [==============================] - 0s 10ms/step - loss: 12.9795 - mae: 12.9795\n",
            "Epoch 45/100\n",
            "2/2 [==============================] - 0s 12ms/step - loss: 13.7222 - mae: 13.7222\n",
            "Epoch 46/100\n",
            "2/2 [==============================] - 0s 8ms/step - loss: 8.4129 - mae: 8.4129\n",
            "Epoch 47/100\n",
            "2/2 [==============================] - 0s 11ms/step - loss: 9.1536 - mae: 9.1536\n",
            "Epoch 48/100\n",
            "2/2 [==============================] - 0s 13ms/step - loss: 10.6543 - mae: 10.6543\n",
            "Epoch 49/100\n",
            "2/2 [==============================] - 0s 17ms/step - loss: 7.7674 - mae: 7.7674\n",
            "Epoch 50/100\n",
            "2/2 [==============================] - 0s 9ms/step - loss: 9.5726 - mae: 9.5726\n",
            "Epoch 51/100\n",
            "2/2 [==============================] - 0s 14ms/step - loss: 9.1575 - mae: 9.1575\n",
            "Epoch 52/100\n",
            "2/2 [==============================] - 0s 11ms/step - loss: 16.4515 - mae: 16.4515\n",
            "Epoch 53/100\n",
            "2/2 [==============================] - 0s 5ms/step - loss: 14.0818 - mae: 14.0818\n",
            "Epoch 54/100\n",
            "2/2 [==============================] - 0s 6ms/step - loss: 21.0172 - mae: 21.0172\n",
            "Epoch 55/100\n",
            "2/2 [==============================] - 0s 7ms/step - loss: 16.4738 - mae: 16.4738\n",
            "Epoch 56/100\n",
            "2/2 [==============================] - 0s 7ms/step - loss: 9.8662 - mae: 9.8662\n",
            "Epoch 57/100\n",
            "2/2 [==============================] - 0s 7ms/step - loss: 9.6413 - mae: 9.6413\n",
            "Epoch 58/100\n",
            "2/2 [==============================] - 0s 8ms/step - loss: 8.9628 - mae: 8.9628\n",
            "Epoch 59/100\n",
            "2/2 [==============================] - 0s 13ms/step - loss: 10.1686 - mae: 10.1686\n",
            "Epoch 60/100\n",
            "2/2 [==============================] - 0s 14ms/step - loss: 8.4129 - mae: 8.4129\n",
            "Epoch 61/100\n",
            "2/2 [==============================] - 0s 8ms/step - loss: 9.2533 - mae: 9.2533\n",
            "Epoch 62/100\n",
            "2/2 [==============================] - 0s 24ms/step - loss: 7.0626 - mae: 7.0626\n",
            "Epoch 63/100\n",
            "2/2 [==============================] - 0s 25ms/step - loss: 8.6398 - mae: 8.6398\n",
            "Epoch 64/100\n",
            "2/2 [==============================] - 0s 13ms/step - loss: 9.2166 - mae: 9.2166\n",
            "Epoch 65/100\n",
            "2/2 [==============================] - 0s 16ms/step - loss: 10.4767 - mae: 10.4767\n",
            "Epoch 66/100\n",
            "2/2 [==============================] - 0s 21ms/step - loss: 15.6303 - mae: 15.6303\n",
            "Epoch 67/100\n",
            "2/2 [==============================] - 0s 18ms/step - loss: 10.0248 - mae: 10.0248\n",
            "Epoch 68/100\n",
            "2/2 [==============================] - 0s 16ms/step - loss: 9.0030 - mae: 9.0030\n",
            "Epoch 69/100\n",
            "2/2 [==============================] - 0s 9ms/step - loss: 12.4993 - mae: 12.4993\n",
            "Epoch 70/100\n",
            "2/2 [==============================] - 0s 9ms/step - loss: 8.9709 - mae: 8.9709\n",
            "Epoch 71/100\n",
            "2/2 [==============================] - 0s 12ms/step - loss: 9.9493 - mae: 9.9493\n",
            "Epoch 72/100\n",
            "2/2 [==============================] - 0s 10ms/step - loss: 9.9817 - mae: 9.9817\n",
            "Epoch 73/100\n",
            "2/2 [==============================] - 0s 11ms/step - loss: 12.4756 - mae: 12.4756\n",
            "Epoch 74/100\n",
            "2/2 [==============================] - 0s 20ms/step - loss: 10.5140 - mae: 10.5140\n",
            "Epoch 75/100\n",
            "2/2 [==============================] - 0s 13ms/step - loss: 9.6442 - mae: 9.6442\n",
            "Epoch 76/100\n",
            "2/2 [==============================] - 0s 10ms/step - loss: 11.1190 - mae: 11.1190\n",
            "Epoch 77/100\n",
            "2/2 [==============================] - 0s 8ms/step - loss: 8.2914 - mae: 8.2914\n",
            "Epoch 78/100\n",
            "2/2 [==============================] - 0s 11ms/step - loss: 8.9997 - mae: 8.9997\n",
            "Epoch 79/100\n",
            "2/2 [==============================] - 0s 9ms/step - loss: 19.7057 - mae: 19.7057\n",
            "Epoch 80/100\n",
            "2/2 [==============================] - 0s 12ms/step - loss: 17.8733 - mae: 17.8733\n",
            "Epoch 81/100\n",
            "2/2 [==============================] - 0s 12ms/step - loss: 7.0400 - mae: 7.0400\n",
            "Epoch 82/100\n",
            "2/2 [==============================] - 0s 10ms/step - loss: 10.4264 - mae: 10.4264\n",
            "Epoch 83/100\n",
            "2/2 [==============================] - 0s 11ms/step - loss: 9.8572 - mae: 9.8572\n",
            "Epoch 84/100\n",
            "2/2 [==============================] - 0s 12ms/step - loss: 7.9069 - mae: 7.9069\n",
            "Epoch 85/100\n",
            "2/2 [==============================] - 0s 9ms/step - loss: 9.4048 - mae: 9.4048\n",
            "Epoch 86/100\n",
            "2/2 [==============================] - 0s 9ms/step - loss: 9.2307 - mae: 9.2307\n",
            "Epoch 87/100\n",
            "2/2 [==============================] - 0s 10ms/step - loss: 12.0129 - mae: 12.0129\n",
            "Epoch 88/100\n",
            "2/2 [==============================] - 0s 9ms/step - loss: 10.6296 - mae: 10.6296\n",
            "Epoch 89/100\n",
            "2/2 [==============================] - 0s 8ms/step - loss: 7.2506 - mae: 7.2506\n",
            "Epoch 90/100\n",
            "2/2 [==============================] - 0s 9ms/step - loss: 12.7702 - mae: 12.7702\n",
            "Epoch 91/100\n",
            "2/2 [==============================] - 0s 8ms/step - loss: 7.4544 - mae: 7.4544\n",
            "Epoch 92/100\n",
            "2/2 [==============================] - 0s 13ms/step - loss: 6.7385 - mae: 6.7385\n",
            "Epoch 93/100\n",
            "2/2 [==============================] - 0s 13ms/step - loss: 11.9206 - mae: 11.9206\n",
            "Epoch 94/100\n",
            "2/2 [==============================] - 0s 9ms/step - loss: 8.8548 - mae: 8.8548\n",
            "Epoch 95/100\n",
            "2/2 [==============================] - 0s 13ms/step - loss: 7.6966 - mae: 7.6966\n",
            "Epoch 96/100\n",
            "2/2 [==============================] - 0s 13ms/step - loss: 6.7327 - mae: 6.7327\n",
            "Epoch 97/100\n",
            "2/2 [==============================] - 0s 9ms/step - loss: 8.6033 - mae: 8.6033\n",
            "Epoch 98/100\n",
            "2/2 [==============================] - 0s 9ms/step - loss: 9.3858 - mae: 9.3858\n",
            "Epoch 99/100\n",
            "2/2 [==============================] - 0s 14ms/step - loss: 9.1203 - mae: 9.1203\n",
            "Epoch 100/100\n",
            "2/2 [==============================] - 0s 8ms/step - loss: 10.4808 - mae: 10.4808\n"
          ]
        },
        {
          "output_type": "execute_result",
          "data": {
            "text/plain": [
              "<keras.callbacks.History at 0x7f3beb6a8310>"
            ]
          },
          "metadata": {},
          "execution_count": 25
        }
      ]
    },
    {
      "cell_type": "markdown",
      "source": [
        "### Visualizing the model"
      ],
      "metadata": {
        "id": "r2_-kksnbjQP"
      }
    },
    {
      "cell_type": "code",
      "source": [
        "model.summary()"
      ],
      "metadata": {
        "colab": {
          "base_uri": "https://localhost:8080/"
        },
        "id": "HEWRU4bxb8LJ",
        "outputId": "2a3dcd00-689a-4daf-bb47-dab2048df590"
      },
      "execution_count": null,
      "outputs": [
        {
          "output_type": "stream",
          "name": "stdout",
          "text": [
            "Model: \"sequential_3\"\n",
            "_________________________________________________________________\n",
            " Layer (type)                Output Shape              Param #   \n",
            "=================================================================\n",
            " dense_4 (Dense)             (None, 1)                 2         \n",
            "                                                                 \n",
            "=================================================================\n",
            "Total params: 2\n",
            "Trainable params: 2\n",
            "Non-trainable params: 0\n",
            "_________________________________________________________________\n"
          ]
        }
      ]
    },
    {
      "cell_type": "code",
      "source": [
        "X[0], Y[0]"
      ],
      "metadata": {
        "colab": {
          "base_uri": "https://localhost:8080/"
        },
        "id": "1sxH7y0DdB-D",
        "outputId": "d78b2703-226f-40b7-e861-9f845c622fce"
      },
      "execution_count": null,
      "outputs": [
        {
          "output_type": "execute_result",
          "data": {
            "text/plain": [
              "(<tf.Tensor: shape=(), dtype=int32, numpy=-100>,\n",
              " <tf.Tensor: shape=(), dtype=int32, numpy=-90>)"
            ]
          },
          "metadata": {},
          "execution_count": 27
        }
      ]
    },
    {
      "cell_type": "code",
      "source": [
        "# Let create a model which builds automatically by defining the input_shape argument\n",
        "tf.random.set_seed(42)\n",
        "\n",
        "# Create a model (same as above)\n",
        "model = tf.keras.Sequential([\n",
        "                             tf.keras.layers.Dense(10, input_shape=[1], name=\"input_layer\"),\n",
        "                             tf.keras.layers.Dense(1, name=\"output_layer\")\n",
        "], name=\"model_1\")\n",
        "\n",
        "model.compile(loss=tf.keras.losses.mae,\n",
        "              optimizer=tf.keras.optimizers.SGD(),\n",
        "              metrics=[\"mae\"])"
      ],
      "metadata": {
        "id": "S36zflticB0h"
      },
      "execution_count": null,
      "outputs": []
    },
    {
      "cell_type": "code",
      "source": [
        "model.summary()"
      ],
      "metadata": {
        "colab": {
          "base_uri": "https://localhost:8080/"
        },
        "id": "TzwdYjUugBHw",
        "outputId": "a4ad09c1-2c7b-4b8b-df30-4046a637bf08"
      },
      "execution_count": null,
      "outputs": [
        {
          "output_type": "stream",
          "name": "stdout",
          "text": [
            "Model: \"model_1\"\n",
            "_________________________________________________________________\n",
            " Layer (type)                Output Shape              Param #   \n",
            "=================================================================\n",
            " input_layer (Dense)         (None, 10)                20        \n",
            "                                                                 \n",
            " output_layer (Dense)        (None, 1)                 11        \n",
            "                                                                 \n",
            "=================================================================\n",
            "Total params: 31\n",
            "Trainable params: 31\n",
            "Non-trainable params: 0\n",
            "_________________________________________________________________\n"
          ]
        }
      ]
    },
    {
      "cell_type": "markdown",
      "source": [
        "from tensorflow.python.ops.variables import trainable_variables\n",
        "* Total params - total number of parameters in the model.\n",
        "* Trainable parameters - these are the parameters (patterns) the model can update as it trains.\n",
        "* Non-trainable params - these parameters aren't updated during training (this is typical when you bring in already learn patterns or parameters from other models during **transfer learning** )."
      ],
      "metadata": {
        "id": "Jb82gaoPgD9Z"
      }
    },
    {
      "cell_type": "code",
      "source": [
        "model.fit(X_train, Y_train, epochs=100, verbose=0)"
      ],
      "metadata": {
        "colab": {
          "base_uri": "https://localhost:8080/"
        },
        "id": "zuYrXd3hirE3",
        "outputId": "004d0364-fe41-4630-bdb8-5784b8646ed8"
      },
      "execution_count": null,
      "outputs": [
        {
          "output_type": "execute_result",
          "data": {
            "text/plain": [
              "<keras.callbacks.History at 0x7f3bee658050>"
            ]
          },
          "metadata": {},
          "execution_count": 30
        }
      ]
    },
    {
      "cell_type": "code",
      "source": [
        "# Get a summary of our model\n",
        "model.summary()"
      ],
      "metadata": {
        "colab": {
          "base_uri": "https://localhost:8080/"
        },
        "id": "BXubZeZIklS7",
        "outputId": "578c4e52-1922-4193-9e72-daedce405eaf"
      },
      "execution_count": null,
      "outputs": [
        {
          "output_type": "stream",
          "name": "stdout",
          "text": [
            "Model: \"model_1\"\n",
            "_________________________________________________________________\n",
            " Layer (type)                Output Shape              Param #   \n",
            "=================================================================\n",
            " input_layer (Dense)         (None, 10)                20        \n",
            "                                                                 \n",
            " output_layer (Dense)        (None, 1)                 11        \n",
            "                                                                 \n",
            "=================================================================\n",
            "Total params: 31\n",
            "Trainable params: 31\n",
            "Non-trainable params: 0\n",
            "_________________________________________________________________\n"
          ]
        }
      ]
    },
    {
      "cell_type": "code",
      "source": [
        "from tensorflow.keras.utils import plot_model\n",
        "\n",
        "plot_model(model=model, show_shapes=True)"
      ],
      "metadata": {
        "colab": {
          "base_uri": "https://localhost:8080/",
          "height": 312
        },
        "id": "Zy1dxwx0ow8c",
        "outputId": "6621270b-2951-4b64-89fd-892c20199d96"
      },
      "execution_count": null,
      "outputs": [
        {
          "output_type": "execute_result",
          "data": {
            "text/plain": [
              "<IPython.core.display.Image object>"
            ],
            "image/png": "[encoded data removed]"
          },
          "metadata": {},
          "execution_count": 32
        }
      ]
    },
    {
      "cell_type": "markdown",
      "source": [
        "### Visualizing our model's predictions\n",
        "\n",
        "To visualize predictions, it's a good idea to plot them against the ground truth labels."
      ],
      "metadata": {
        "id": "gG8_JeaF-Nw-"
      }
    },
    {
      "cell_type": "code",
      "source": [
        "### Make some predictions\n",
        "Y_pred = model.predict(X_test)\n",
        "Y_pred\n"
      ],
      "metadata": {
        "id": "lKLNp6g-rhfD",
        "colab": {
          "base_uri": "https://localhost:8080/"
        },
        "outputId": "18202f22-088f-452e-86a2-2ffe59b160cd"
      },
      "execution_count": null,
      "outputs": [
        {
          "output_type": "execute_result",
          "data": {
            "text/plain": [
              "array([[ 70.55218 ],\n",
              "       [ 75.13991 ],\n",
              "       [ 79.72763 ],\n",
              "       [ 84.31535 ],\n",
              "       [ 88.903076],\n",
              "       [ 93.49081 ],\n",
              "       [ 98.07853 ],\n",
              "       [102.66625 ],\n",
              "       [107.253975],\n",
              "       [111.8417  ]], dtype=float32)"
            ]
          },
          "metadata": {},
          "execution_count": 33
        }
      ]
    },
    {
      "cell_type": "code",
      "source": [
        "X_test"
      ],
      "metadata": {
        "colab": {
          "base_uri": "https://localhost:8080/"
        },
        "id": "H0qqY3K29cEx",
        "outputId": "8e2f2148-82c2-49b6-c52d-8c050c875bf6"
      },
      "execution_count": null,
      "outputs": [
        {
          "output_type": "execute_result",
          "data": {
            "text/plain": [
              "<tf.Tensor: shape=(10,), dtype=int32, numpy=array([60, 64, 68, 72, 76, 80, 84, 88, 92, 96], dtype=int32)>"
            ]
          },
          "metadata": {},
          "execution_count": 34
        }
      ]
    },
    {
      "cell_type": "code",
      "source": [
        "Y_test"
      ],
      "metadata": {
        "colab": {
          "base_uri": "https://localhost:8080/"
        },
        "id": "B2vOFqeO-sft",
        "outputId": "8d54ddaa-7228-44d5-da50-dae7a54654fc"
      },
      "execution_count": null,
      "outputs": [
        {
          "output_type": "execute_result",
          "data": {
            "text/plain": [
              "<tf.Tensor: shape=(10,), dtype=int32, numpy=array([ 70,  74,  78,  82,  86,  90,  94,  98, 102, 106], dtype=int32)>"
            ]
          },
          "metadata": {},
          "execution_count": 35
        }
      ]
    },
    {
      "cell_type": "markdown",
      "source": [
        "**Note:** If you feel like you're going to reuse some kind of functionality in the future, it's good idea to make it function"
      ],
      "metadata": {
        "id": "Pb3AtbjP-uwR"
      }
    },
    {
      "cell_type": "code",
      "source": [
        "# Let's create a plotting function\n",
        "def plot_predictions(train_data=X_train,\n",
        "                     train_labels=Y_train,\n",
        "                     test_data=X_test,\n",
        "                     test_labels=Y_test,\n",
        "                     predictions=Y_pred):\n",
        "\n",
        "  \"\"\"\n",
        "  Plots training data, test data and compares predictions to ground truth labels.\n",
        "  \"\"\"\n",
        "\n",
        "  plt.figure(figsize=(10,7))\n",
        "  # Plot training data in blue\n",
        "  plt.scatter(train_data, train_labels, c=\"b\", label=\"Training data\")\n",
        "  # Plot testing data in green\n",
        "  plt.scatter(test_data, test_labels, c=\"g\", label=\"Testing data\")\n",
        "  # Plot model's predictions in red\n",
        "  plt.scatter(test_data, predictions, c=\"r\", label=\"Predictions\")\n",
        "  plt.legend()"
      ],
      "metadata": {
        "id": "gGEr4GMO_O5F"
      },
      "execution_count": null,
      "outputs": []
    },
    {
      "cell_type": "code",
      "source": [
        "plot_predictions(train_data=X_train,\n",
        "                     train_labels=Y_train,\n",
        "                     test_data=X_test,\n",
        "                     test_labels=Y_test,\n",
        "                     predictions=Y_pred)"
      ],
      "metadata": {
        "colab": {
          "base_uri": "https://localhost:8080/",
          "height": 428
        },
        "id": "47xXJy5bArZe",
        "outputId": "091c383c-3dcb-4bb6-a107-dcd92cfa9879"
      },
      "execution_count": null,
      "outputs": [
        {
          "output_type": "display_data",
          "data": {
            "text/plain": [
              "<Figure size 720x504 with 1 Axes>"
            ],
            "image/png": "[encoded data removed]"
          },
          "metadata": {
            "needs_background": "light"
          }
        }
      ]
    },
    {
      "cell_type": "markdown",
      "source": [
        "### Evaluting our model's predictions with regression evaluation metrics\n",
        "\n",
        "Depending on the problem you're working on, there will be different evaluation metrics to evaluate your model's performance.\n",
        "\n",
        "Since we're working on a regression, two of the main metrics:\n",
        "* MAE - mean absolute error, \"on average, how wrong is each of my model's predictions\"\n",
        "* MSE - mean square error, \"square the average errors\""
      ],
      "metadata": {
        "id": "bslWMUxkA08f"
      }
    },
    {
      "cell_type": "code",
      "source": [
        "# Evaluate the model on the test\n",
        "model.evaluate(X_test, Y_test)"
      ],
      "metadata": {
        "colab": {
          "base_uri": "https://localhost:8080/"
        },
        "id": "4PFFshBVBY_n",
        "outputId": "03d8e4ad-f916-4804-b30b-32738ddd8425"
      },
      "execution_count": null,
      "outputs": [
        {
          "output_type": "stream",
          "name": "stdout",
          "text": [
            "1/1 [==============================] - 0s 334ms/step - loss: 3.1969 - mae: 3.1969\n"
          ]
        },
        {
          "output_type": "execute_result",
          "data": {
            "text/plain": [
              "[3.196942090988159, 3.196942090988159]"
            ]
          },
          "metadata": {},
          "execution_count": 38
        }
      ]
    },
    {
      "cell_type": "code",
      "source": [
        "# Calculate the mean absolute error\n",
        "mae = tf.metrics.mean_absolute_error(y_true=Y_test, y_pred=tf.constant(Y_pred))\n",
        "mae"
      ],
      "metadata": {
        "colab": {
          "base_uri": "https://localhost:8080/"
        },
        "id": "bR7EfalCIoCH",
        "outputId": "7af41c20-1a1a-44cf-af61-b7db4a85f5a5"
      },
      "execution_count": null,
      "outputs": [
        {
          "output_type": "execute_result",
          "data": {
            "text/plain": [
              "<tf.Tensor: shape=(10,), dtype=float32, numpy=\n",
              "array([17.558258 , 14.1160555, 11.708948 , 10.336929 , 10.       ,\n",
              "       10.698161 , 12.447118 , 15.333002 , 19.253975 , 23.841698 ],\n",
              "      dtype=float32)>"
            ]
          },
          "metadata": {},
          "execution_count": 39
        }
      ]
    },
    {
      "cell_type": "code",
      "source": [
        "Y_pred"
      ],
      "metadata": {
        "colab": {
          "base_uri": "https://localhost:8080/"
        },
        "id": "zpM50wysI7nD",
        "outputId": "a6529662-684b-4725-d504-c625294133c8"
      },
      "execution_count": null,
      "outputs": [
        {
          "output_type": "execute_result",
          "data": {
            "text/plain": [
              "array([[ 70.55218 ],\n",
              "       [ 75.13991 ],\n",
              "       [ 79.72763 ],\n",
              "       [ 84.31535 ],\n",
              "       [ 88.903076],\n",
              "       [ 93.49081 ],\n",
              "       [ 98.07853 ],\n",
              "       [102.66625 ],\n",
              "       [107.253975],\n",
              "       [111.8417  ]], dtype=float32)"
            ]
          },
          "metadata": {},
          "execution_count": 40
        }
      ]
    },
    {
      "cell_type": "code",
      "source": [
        "tf.constant(Y_pred)"
      ],
      "metadata": {
        "colab": {
          "base_uri": "https://localhost:8080/"
        },
        "id": "mZGN9IiZKFnr",
        "outputId": "9b79238e-9d85-4745-81d4-fa2e7f53c636"
      },
      "execution_count": null,
      "outputs": [
        {
          "output_type": "execute_result",
          "data": {
            "text/plain": [
              "<tf.Tensor: shape=(10, 1), dtype=float32, numpy=\n",
              "array([[ 70.55218 ],\n",
              "       [ 75.13991 ],\n",
              "       [ 79.72763 ],\n",
              "       [ 84.31535 ],\n",
              "       [ 88.903076],\n",
              "       [ 93.49081 ],\n",
              "       [ 98.07853 ],\n",
              "       [102.66625 ],\n",
              "       [107.253975],\n",
              "       [111.8417  ]], dtype=float32)>"
            ]
          },
          "metadata": {},
          "execution_count": 41
        }
      ]
    },
    {
      "cell_type": "code",
      "source": [
        "tf.squeeze(Y_pred)"
      ],
      "metadata": {
        "colab": {
          "base_uri": "https://localhost:8080/"
        },
        "id": "7MtC47yVKJrx",
        "outputId": "bae92bbf-b909-4cc7-fd9b-4dcdaf34a0af"
      },
      "execution_count": null,
      "outputs": [
        {
          "output_type": "execute_result",
          "data": {
            "text/plain": [
              "<tf.Tensor: shape=(10,), dtype=float32, numpy=\n",
              "array([ 70.55218 ,  75.13991 ,  79.72763 ,  84.31535 ,  88.903076,\n",
              "        93.49081 ,  98.07853 , 102.66625 , 107.253975, 111.8417  ],\n",
              "      dtype=float32)>"
            ]
          },
          "metadata": {},
          "execution_count": 42
        }
      ]
    },
    {
      "cell_type": "code",
      "source": [
        "# Calculate the mean absolute error\n",
        "mae = tf.metrics.mean_absolute_error(y_true=Y_test,\n",
        "                                     y_pred=tf.squeeze(Y_pred))\n",
        "\n",
        "mae"
      ],
      "metadata": {
        "colab": {
          "base_uri": "https://localhost:8080/"
        },
        "id": "WzgE1agcKpw5",
        "outputId": "794d5b2e-4d38-4921-ec9c-80b973fad011"
      },
      "execution_count": null,
      "outputs": [
        {
          "output_type": "execute_result",
          "data": {
            "text/plain": [
              "<tf.Tensor: shape=(), dtype=float32, numpy=3.1969407>"
            ]
          },
          "metadata": {},
          "execution_count": 43
        }
      ]
    },
    {
      "cell_type": "code",
      "source": [
        "# Calculator the mean square error\n",
        "mse = tf.metrics.mean_squared_error(y_true=Y_test,\n",
        "                                    y_pred=tf.squeeze(Y_pred))\n",
        "mse"
      ],
      "metadata": {
        "colab": {
          "base_uri": "https://localhost:8080/"
        },
        "id": "nmeOzQumK-vR",
        "outputId": "d41b0950-39aa-44cd-b8bd-2e32eaca0ac8"
      },
      "execution_count": null,
      "outputs": [
        {
          "output_type": "execute_result",
          "data": {
            "text/plain": [
              "<tf.Tensor: shape=(), dtype=float32, numpy=13.070143>"
            ]
          },
          "metadata": {},
          "execution_count": 44
        }
      ]
    },
    {
      "cell_type": "code",
      "source": [
        "# Make some functions to reuse MAE and MSE\n",
        "def mae(y_true, y_pred):\n",
        "   return tf.metrics.mean_absolute_error(y_true=y_true, y_pred=tf.squeeze(y_pred))\n",
        "\n",
        "def mse(y_true, y_pred):\n",
        "  return tf.metrics.mean_squared_error(y_true=y_true, y_pred=tf.squeeze(y_pred))"
      ],
      "metadata": {
        "id": "uNaQBgM_LjlE"
      },
      "execution_count": null,
      "outputs": []
    },
    {
      "cell_type": "markdown",
      "source": [
        "### Running experiments to improve our model\n",
        "```\n",
        "Build a model -> fit it -> evaluate it -> tweak it -> fit it -> evaluate it -> tweak it -> fit it...\n",
        "```\n",
        "\n",
        "1. Get more data - get more examples for your model to train on (more opportunities to learn patterns or relationships between features and labels).\n",
        "2. Make your model larger (using a more complex model) - this might come in the for more layers or more hidden units in each layer.\n",
        "3. Train for longer - give your model more of a change to find patterns in the data.\n",
        "\n",
        "Let's do 3 modelling experiments:\n",
        "\n",
        "1. `model_1` - same as the original model, 1 layer, trained for 100 epochs.\n",
        "2. `model_2` - 2 layers, trained for 100 epochs\n",
        "3. `model_3` - 2 layers, trained for 500 epochs\n"
      ],
      "metadata": {
        "id": "arlpdkpxsQB9"
      }
    },
    {
      "cell_type": "code",
      "source": [
        "X_train, Y_train"
      ],
      "metadata": {
        "colab": {
          "base_uri": "https://localhost:8080/"
        },
        "id": "6g66WtcgspiB",
        "outputId": "ea243dcf-96f6-4849-df09-c982735b046d"
      },
      "execution_count": null,
      "outputs": [
        {
          "output_type": "execute_result",
          "data": {
            "text/plain": [
              "(<tf.Tensor: shape=(40,), dtype=int32, numpy=\n",
              " array([-100,  -96,  -92,  -88,  -84,  -80,  -76,  -72,  -68,  -64,  -60,\n",
              "         -56,  -52,  -48,  -44,  -40,  -36,  -32,  -28,  -24,  -20,  -16,\n",
              "         -12,   -8,   -4,    0,    4,    8,   12,   16,   20,   24,   28,\n",
              "          32,   36,   40,   44,   48,   52,   56], dtype=int32)>,\n",
              " <tf.Tensor: shape=(40,), dtype=int32, numpy=\n",
              " array([-90, -86, -82, -78, -74, -70, -66, -62, -58, -54, -50, -46, -42,\n",
              "        -38, -34, -30, -26, -22, -18, -14, -10,  -6,  -2,   2,   6,  10,\n",
              "         14,  18,  22,  26,  30,  34,  38,  42,  46,  50,  54,  58,  62,\n",
              "         66], dtype=int32)>)"
            ]
          },
          "metadata": {},
          "execution_count": 46
        }
      ]
    },
    {
      "cell_type": "markdown",
      "source": [
        "### Practice Previous Learning"
      ],
      "metadata": {
        "id": "IuUmDJbMbCWp"
      }
    },
    {
      "cell_type": "code",
      "source": [
        "a = tf.range(-100,100,2)\n",
        "a"
      ],
      "metadata": {
        "id": "HB_EK0zRw8N1",
        "colab": {
          "base_uri": "https://localhost:8080/"
        },
        "outputId": "10c618d0-e78d-4d22-a287-cf0ab6b94313"
      },
      "execution_count": null,
      "outputs": [
        {
          "output_type": "execute_result",
          "data": {
            "text/plain": [
              "<tf.Tensor: shape=(100,), dtype=int32, numpy=\n",
              "array([-100,  -98,  -96,  -94,  -92,  -90,  -88,  -86,  -84,  -82,  -80,\n",
              "        -78,  -76,  -74,  -72,  -70,  -68,  -66,  -64,  -62,  -60,  -58,\n",
              "        -56,  -54,  -52,  -50,  -48,  -46,  -44,  -42,  -40,  -38,  -36,\n",
              "        -34,  -32,  -30,  -28,  -26,  -24,  -22,  -20,  -18,  -16,  -14,\n",
              "        -12,  -10,   -8,   -6,   -4,   -2,    0,    2,    4,    6,    8,\n",
              "         10,   12,   14,   16,   18,   20,   22,   24,   26,   28,   30,\n",
              "         32,   34,   36,   38,   40,   42,   44,   46,   48,   50,   52,\n",
              "         54,   56,   58,   60,   62,   64,   66,   68,   70,   72,   74,\n",
              "         76,   78,   80,   82,   84,   86,   88,   90,   92,   94,   96,\n",
              "         98], dtype=int32)>"
            ]
          },
          "metadata": {},
          "execution_count": 47
        }
      ]
    },
    {
      "cell_type": "code",
      "source": [
        "b = a + 10"
      ],
      "metadata": {
        "id": "pVgFqyyqHC20"
      },
      "execution_count": null,
      "outputs": []
    },
    {
      "cell_type": "code",
      "source": [
        "b"
      ],
      "metadata": {
        "colab": {
          "base_uri": "https://localhost:8080/"
        },
        "id": "eap0qiO5HGQS",
        "outputId": "a0977fb5-1387-4fa2-9a7d-ea809250206c"
      },
      "execution_count": null,
      "outputs": [
        {
          "output_type": "execute_result",
          "data": {
            "text/plain": [
              "<tf.Tensor: shape=(100,), dtype=int32, numpy=\n",
              "array([-90, -88, -86, -84, -82, -80, -78, -76, -74, -72, -70, -68, -66,\n",
              "       -64, -62, -60, -58, -56, -54, -52, -50, -48, -46, -44, -42, -40,\n",
              "       -38, -36, -34, -32, -30, -28, -26, -24, -22, -20, -18, -16, -14,\n",
              "       -12, -10,  -8,  -6,  -4,  -2,   0,   2,   4,   6,   8,  10,  12,\n",
              "        14,  16,  18,  20,  22,  24,  26,  28,  30,  32,  34,  36,  38,\n",
              "        40,  42,  44,  46,  48,  50,  52,  54,  56,  58,  60,  62,  64,\n",
              "        66,  68,  70,  72,  74,  76,  78,  80,  82,  84,  86,  88,  90,\n",
              "        92,  94,  96,  98, 100, 102, 104, 106, 108], dtype=int32)>"
            ]
          },
          "metadata": {},
          "execution_count": 49
        }
      ]
    },
    {
      "cell_type": "code",
      "source": [
        "a = tf.cast(a, dtype=tf.float32)\n",
        "b = tf.cast(b, dtype=tf.float32)\n",
        "\n",
        "a_train = a[:80]\n",
        "b_train = b[:80]\n",
        "\n",
        "a_test = a[80:]\n",
        "b_test = b[80:]\n",
        "\n",
        "a_train, a_test"
      ],
      "metadata": {
        "colab": {
          "base_uri": "https://localhost:8080/"
        },
        "id": "GBa2vg6lJDr4",
        "outputId": "eadb05c8-5336-4ce4-aaed-e6b1b5dd159f"
      },
      "execution_count": null,
      "outputs": [
        {
          "output_type": "execute_result",
          "data": {
            "text/plain": [
              "(<tf.Tensor: shape=(80,), dtype=float32, numpy=\n",
              " array([-100.,  -98.,  -96.,  -94.,  -92.,  -90.,  -88.,  -86.,  -84.,\n",
              "         -82.,  -80.,  -78.,  -76.,  -74.,  -72.,  -70.,  -68.,  -66.,\n",
              "         -64.,  -62.,  -60.,  -58.,  -56.,  -54.,  -52.,  -50.,  -48.,\n",
              "         -46.,  -44.,  -42.,  -40.,  -38.,  -36.,  -34.,  -32.,  -30.,\n",
              "         -28.,  -26.,  -24.,  -22.,  -20.,  -18.,  -16.,  -14.,  -12.,\n",
              "         -10.,   -8.,   -6.,   -4.,   -2.,    0.,    2.,    4.,    6.,\n",
              "           8.,   10.,   12.,   14.,   16.,   18.,   20.,   22.,   24.,\n",
              "          26.,   28.,   30.,   32.,   34.,   36.,   38.,   40.,   42.,\n",
              "          44.,   46.,   48.,   50.,   52.,   54.,   56.,   58.],\n",
              "       dtype=float32)>, <tf.Tensor: shape=(20,), dtype=float32, numpy=\n",
              " array([60., 62., 64., 66., 68., 70., 72., 74., 76., 78., 80., 82., 84.,\n",
              "        86., 88., 90., 92., 94., 96., 98.], dtype=float32)>)"
            ]
          },
          "metadata": {},
          "execution_count": 50
        }
      ]
    },
    {
      "cell_type": "code",
      "source": [
        "tf.random.set_seed(42)\n",
        "model_a = tf.keras.Sequential([\n",
        "                               tf.keras.layers.Input(shape=(1,), name=\"Input_Layer\"),\n",
        "                               tf.keras.layers.Dense(50, activation=None),\n",
        "                               tf.keras.layers.Dense(1, name=\"Output_Layer\")\n",
        "], name=\"Model_A\")\n",
        "\n",
        "model_a.compile(loss=\"mae\",\n",
        "                optimizer=tf.keras.optimizers.Adam(),\n",
        "                metrics=[\"mae\"])\n",
        "\n",
        "model_a.fit(a_train, b_train, epochs=500)\n"
      ],
      "metadata": {
        "colab": {
          "base_uri": "https://localhost:8080/"
        },
        "id": "QhrDjJAjJ3Vn",
        "outputId": "ba250a68-1e2c-46ca-899d-594e02418bf6"
      },
      "execution_count": null,
      "outputs": [
        {
          "output_type": "stream",
          "name": "stdout",
          "text": [
            "Epoch 1/500\n",
            "3/3 [==============================] - 1s 6ms/step - loss: 36.4906 - mae: 36.4906\n",
            "Epoch 2/500\n",
            "3/3 [==============================] - 0s 7ms/step - loss: 34.3154 - mae: 34.3154\n",
            "Epoch 3/500\n",
            "3/3 [==============================] - 0s 6ms/step - loss: 32.3519 - mae: 32.3519\n",
            "Epoch 4/500\n",
            "3/3 [==============================] - 0s 4ms/step - loss: 30.2768 - mae: 30.2768\n",
            "Epoch 5/500\n",
            "3/3 [==============================] - 0s 12ms/step - loss: 28.2612 - mae: 28.2612\n",
            "Epoch 6/500\n",
            "3/3 [==============================] - 0s 5ms/step - loss: 26.1322 - mae: 26.1322\n",
            "Epoch 7/500\n",
            "3/3 [==============================] - 0s 5ms/step - loss: 24.0921 - mae: 24.0921\n",
            "Epoch 8/500\n",
            "3/3 [==============================] - 0s 6ms/step - loss: 22.0936 - mae: 22.0936\n",
            "Epoch 9/500\n",
            "3/3 [==============================] - 0s 6ms/step - loss: 19.9655 - mae: 19.9655\n",
            "Epoch 10/500\n",
            "3/3 [==============================] - 0s 6ms/step - loss: 18.0001 - mae: 18.0001\n",
            "Epoch 11/500\n",
            "3/3 [==============================] - 0s 6ms/step - loss: 15.9108 - mae: 15.9108\n",
            "Epoch 12/500\n",
            "3/3 [==============================] - 0s 6ms/step - loss: 13.9624 - mae: 13.9624\n",
            "Epoch 13/500\n",
            "3/3 [==============================] - 0s 6ms/step - loss: 12.2195 - mae: 12.2195\n",
            "Epoch 14/500\n",
            "3/3 [==============================] - 0s 7ms/step - loss: 10.4662 - mae: 10.4662\n",
            "Epoch 15/500\n",
            "3/3 [==============================] - 0s 11ms/step - loss: 9.0030 - mae: 9.0030\n",
            "Epoch 16/500\n",
            "3/3 [==============================] - 0s 9ms/step - loss: 8.0012 - mae: 8.0012\n",
            "Epoch 17/500\n",
            "3/3 [==============================] - 0s 13ms/step - loss: 7.8148 - mae: 7.8148\n",
            "Epoch 18/500\n",
            "3/3 [==============================] - 0s 13ms/step - loss: 8.2547 - mae: 8.2547\n",
            "Epoch 19/500\n",
            "3/3 [==============================] - 0s 9ms/step - loss: 8.4976 - mae: 8.4976\n",
            "Epoch 20/500\n",
            "3/3 [==============================] - 0s 6ms/step - loss: 8.4357 - mae: 8.4357\n",
            "Epoch 21/500\n",
            "3/3 [==============================] - 0s 5ms/step - loss: 8.1932 - mae: 8.1932\n",
            "Epoch 22/500\n",
            "3/3 [==============================] - 0s 5ms/step - loss: 7.7651 - mae: 7.7651\n",
            "Epoch 23/500\n",
            "3/3 [==============================] - 0s 6ms/step - loss: 7.5030 - mae: 7.5030\n",
            "Epoch 24/500\n",
            "3/3 [==============================] - 0s 6ms/step - loss: 7.5315 - mae: 7.5315\n",
            "Epoch 25/500\n",
            "3/3 [==============================] - 0s 10ms/step - loss: 7.6113 - mae: 7.6113\n",
            "Epoch 26/500\n",
            "3/3 [==============================] - 0s 11ms/step - loss: 7.6262 - mae: 7.6262\n",
            "Epoch 27/500\n",
            "3/3 [==============================] - 0s 7ms/step - loss: 7.5375 - mae: 7.5375\n",
            "Epoch 28/500\n",
            "3/3 [==============================] - 0s 7ms/step - loss: 7.4089 - mae: 7.4089\n",
            "Epoch 29/500\n",
            "3/3 [==============================] - 0s 9ms/step - loss: 7.3158 - mae: 7.3158\n",
            "Epoch 30/500\n",
            "3/3 [==============================] - 0s 6ms/step - loss: 7.3050 - mae: 7.3050\n",
            "Epoch 31/500\n",
            "3/3 [==============================] - 0s 6ms/step - loss: 7.3268 - mae: 7.3268\n",
            "Epoch 32/500\n",
            "3/3 [==============================] - 0s 6ms/step - loss: 7.2922 - mae: 7.2922\n",
            "Epoch 33/500\n",
            "3/3 [==============================] - 0s 6ms/step - loss: 7.2210 - mae: 7.2210\n",
            "Epoch 34/500\n",
            "3/3 [==============================] - 0s 7ms/step - loss: 7.1869 - mae: 7.1869\n",
            "Epoch 35/500\n",
            "3/3 [==============================] - 0s 7ms/step - loss: 7.1530 - mae: 7.1530\n",
            "Epoch 36/500\n",
            "3/3 [==============================] - 0s 11ms/step - loss: 7.1301 - mae: 7.1301\n",
            "Epoch 37/500\n",
            "3/3 [==============================] - 0s 5ms/step - loss: 7.1047 - mae: 7.1047\n",
            "Epoch 38/500\n",
            "3/3 [==============================] - 0s 7ms/step - loss: 7.0732 - mae: 7.0732\n",
            "Epoch 39/500\n",
            "3/3 [==============================] - 0s 8ms/step - loss: 7.0436 - mae: 7.0436\n",
            "Epoch 40/500\n",
            "3/3 [==============================] - 0s 14ms/step - loss: 7.0142 - mae: 7.0142\n",
            "Epoch 41/500\n",
            "3/3 [==============================] - 0s 5ms/step - loss: 6.9864 - mae: 6.9864\n",
            "Epoch 42/500\n",
            "3/3 [==============================] - 0s 15ms/step - loss: 6.9730 - mae: 6.9730\n",
            "Epoch 43/500\n",
            "3/3 [==============================] - 0s 7ms/step - loss: 6.9326 - mae: 6.9326\n",
            "Epoch 44/500\n",
            "3/3 [==============================] - 0s 7ms/step - loss: 6.9144 - mae: 6.9144\n",
            "Epoch 45/500\n",
            "3/3 [==============================] - 0s 5ms/step - loss: 6.8799 - mae: 6.8799\n",
            "Epoch 46/500\n",
            "3/3 [==============================] - 0s 5ms/step - loss: 6.8550 - mae: 6.8550\n",
            "Epoch 47/500\n",
            "3/3 [==============================] - 0s 8ms/step - loss: 6.8212 - mae: 6.8212\n",
            "Epoch 48/500\n",
            "3/3 [==============================] - 0s 6ms/step - loss: 6.8010 - mae: 6.8010\n",
            "Epoch 49/500\n",
            "3/3 [==============================] - 0s 8ms/step - loss: 6.7697 - mae: 6.7697\n",
            "Epoch 50/500\n",
            "3/3 [==============================] - 0s 4ms/step - loss: 6.7432 - mae: 6.7432\n",
            "Epoch 51/500\n",
            "3/3 [==============================] - 0s 11ms/step - loss: 6.7134 - mae: 6.7134\n",
            "Epoch 52/500\n",
            "3/3 [==============================] - 0s 5ms/step - loss: 6.6855 - mae: 6.6855\n",
            "Epoch 53/500\n",
            "3/3 [==============================] - 0s 9ms/step - loss: 6.6585 - mae: 6.6585\n",
            "Epoch 54/500\n",
            "3/3 [==============================] - 0s 6ms/step - loss: 6.6332 - mae: 6.6332\n",
            "Epoch 55/500\n",
            "3/3 [==============================] - 0s 6ms/step - loss: 6.6063 - mae: 6.6063\n",
            "Epoch 56/500\n",
            "3/3 [==============================] - 0s 5ms/step - loss: 6.5778 - mae: 6.5778\n",
            "Epoch 57/500\n",
            "3/3 [==============================] - 0s 14ms/step - loss: 6.5497 - mae: 6.5497\n",
            "Epoch 58/500\n",
            "3/3 [==============================] - 0s 13ms/step - loss: 6.5240 - mae: 6.5240\n",
            "Epoch 59/500\n",
            "3/3 [==============================] - 0s 6ms/step - loss: 6.4978 - mae: 6.4978\n",
            "Epoch 60/500\n",
            "3/3 [==============================] - 0s 6ms/step - loss: 6.4797 - mae: 6.4797\n",
            "Epoch 61/500\n",
            "3/3 [==============================] - 0s 7ms/step - loss: 6.4442 - mae: 6.4442\n",
            "Epoch 62/500\n",
            "3/3 [==============================] - 0s 16ms/step - loss: 6.4125 - mae: 6.4125\n",
            "Epoch 63/500\n",
            "3/3 [==============================] - 0s 12ms/step - loss: 6.3892 - mae: 6.3892\n",
            "Epoch 64/500\n",
            "3/3 [==============================] - 0s 11ms/step - loss: 6.3670 - mae: 6.3670\n",
            "Epoch 65/500\n",
            "3/3 [==============================] - 0s 7ms/step - loss: 6.3337 - mae: 6.3337\n",
            "Epoch 66/500\n",
            "3/3 [==============================] - 0s 7ms/step - loss: 6.3129 - mae: 6.3129\n",
            "Epoch 67/500\n",
            "3/3 [==============================] - 0s 8ms/step - loss: 6.2768 - mae: 6.2768\n",
            "Epoch 68/500\n",
            "3/3 [==============================] - 0s 8ms/step - loss: 6.2580 - mae: 6.2580\n",
            "Epoch 69/500\n",
            "3/3 [==============================] - 0s 6ms/step - loss: 6.2342 - mae: 6.2342\n",
            "Epoch 70/500\n",
            "3/3 [==============================] - 0s 8ms/step - loss: 6.1976 - mae: 6.1976\n",
            "Epoch 71/500\n",
            "3/3 [==============================] - 0s 6ms/step - loss: 6.1675 - mae: 6.1675\n",
            "Epoch 72/500\n",
            "3/3 [==============================] - 0s 5ms/step - loss: 6.1387 - mae: 6.1387\n",
            "Epoch 73/500\n",
            "3/3 [==============================] - 0s 8ms/step - loss: 6.1132 - mae: 6.1132\n",
            "Epoch 74/500\n",
            "3/3 [==============================] - 0s 5ms/step - loss: 6.0870 - mae: 6.0870\n",
            "Epoch 75/500\n",
            "3/3 [==============================] - 0s 5ms/step - loss: 6.0591 - mae: 6.0591\n",
            "Epoch 76/500\n",
            "3/3 [==============================] - 0s 5ms/step - loss: 6.0298 - mae: 6.0298\n",
            "Epoch 77/500\n",
            "3/3 [==============================] - 0s 5ms/step - loss: 5.9970 - mae: 5.9970\n",
            "Epoch 78/500\n",
            "3/3 [==============================] - 0s 5ms/step - loss: 5.9879 - mae: 5.9879\n",
            "Epoch 79/500\n",
            "3/3 [==============================] - 0s 7ms/step - loss: 5.9501 - mae: 5.9501\n",
            "Epoch 80/500\n",
            "3/3 [==============================] - 0s 7ms/step - loss: 5.9225 - mae: 5.9225\n",
            "Epoch 81/500\n",
            "3/3 [==============================] - 0s 7ms/step - loss: 5.8887 - mae: 5.8887\n",
            "Epoch 82/500\n",
            "3/3 [==============================] - 0s 7ms/step - loss: 5.8585 - mae: 5.8585\n",
            "Epoch 83/500\n",
            "3/3 [==============================] - 0s 7ms/step - loss: 5.8414 - mae: 5.8414\n",
            "Epoch 84/500\n",
            "3/3 [==============================] - 0s 5ms/step - loss: 5.8125 - mae: 5.8125\n",
            "Epoch 85/500\n",
            "3/3 [==============================] - 0s 5ms/step - loss: 5.7681 - mae: 5.7681\n",
            "Epoch 86/500\n",
            "3/3 [==============================] - 0s 10ms/step - loss: 5.7444 - mae: 5.7444\n",
            "Epoch 87/500\n",
            "3/3 [==============================] - 0s 8ms/step - loss: 5.7385 - mae: 5.7385\n",
            "Epoch 88/500\n",
            "3/3 [==============================] - 0s 6ms/step - loss: 5.6966 - mae: 5.6966\n",
            "Epoch 89/500\n",
            "3/3 [==============================] - 0s 14ms/step - loss: 5.6633 - mae: 5.6633\n",
            "Epoch 90/500\n",
            "3/3 [==============================] - 0s 6ms/step - loss: 5.6295 - mae: 5.6295\n",
            "Epoch 91/500\n",
            "3/3 [==============================] - 0s 9ms/step - loss: 5.5967 - mae: 5.5967\n",
            "Epoch 92/500\n",
            "3/3 [==============================] - 0s 8ms/step - loss: 5.5667 - mae: 5.5667\n",
            "Epoch 93/500\n",
            "3/3 [==============================] - 0s 5ms/step - loss: 5.5377 - mae: 5.5377\n",
            "Epoch 94/500\n",
            "3/3 [==============================] - 0s 6ms/step - loss: 5.5045 - mae: 5.5045\n",
            "Epoch 95/500\n",
            "3/3 [==============================] - 0s 6ms/step - loss: 5.4721 - mae: 5.4721\n",
            "Epoch 96/500\n",
            "3/3 [==============================] - 0s 6ms/step - loss: 5.4699 - mae: 5.4699\n",
            "Epoch 97/500\n",
            "3/3 [==============================] - 0s 7ms/step - loss: 5.4189 - mae: 5.4189\n",
            "Epoch 98/500\n",
            "3/3 [==============================] - 0s 8ms/step - loss: 5.3815 - mae: 5.3815\n",
            "Epoch 99/500\n",
            "3/3 [==============================] - 0s 5ms/step - loss: 5.3511 - mae: 5.3511\n",
            "Epoch 100/500\n",
            "3/3 [==============================] - 0s 11ms/step - loss: 5.3204 - mae: 5.3204\n",
            "Epoch 101/500\n",
            "3/3 [==============================] - 0s 5ms/step - loss: 5.2872 - mae: 5.2872\n",
            "Epoch 102/500\n",
            "3/3 [==============================] - 0s 5ms/step - loss: 5.2596 - mae: 5.2596\n",
            "Epoch 103/500\n",
            "3/3 [==============================] - 0s 8ms/step - loss: 5.2264 - mae: 5.2264\n",
            "Epoch 104/500\n",
            "3/3 [==============================] - 0s 8ms/step - loss: 5.1820 - mae: 5.1820\n",
            "Epoch 105/500\n",
            "3/3 [==============================] - 0s 9ms/step - loss: 5.1634 - mae: 5.1634\n",
            "Epoch 106/500\n",
            "3/3 [==============================] - 0s 6ms/step - loss: 5.1419 - mae: 5.1419\n",
            "Epoch 107/500\n",
            "3/3 [==============================] - 0s 6ms/step - loss: 5.0933 - mae: 5.0933\n",
            "Epoch 108/500\n",
            "3/3 [==============================] - 0s 6ms/step - loss: 5.0571 - mae: 5.0571\n",
            "Epoch 109/500\n",
            "3/3 [==============================] - 0s 10ms/step - loss: 5.0262 - mae: 5.0262\n",
            "Epoch 110/500\n",
            "3/3 [==============================] - 0s 6ms/step - loss: 5.0026 - mae: 5.0026\n",
            "Epoch 111/500\n",
            "3/3 [==============================] - 0s 6ms/step - loss: 4.9573 - mae: 4.9573\n",
            "Epoch 112/500\n",
            "3/3 [==============================] - 0s 6ms/step - loss: 4.9341 - mae: 4.9341\n",
            "Epoch 113/500\n",
            "3/3 [==============================] - 0s 6ms/step - loss: 4.9042 - mae: 4.9042\n",
            "Epoch 114/500\n",
            "3/3 [==============================] - 0s 6ms/step - loss: 4.8534 - mae: 4.8534\n",
            "Epoch 115/500\n",
            "3/3 [==============================] - 0s 6ms/step - loss: 4.8348 - mae: 4.8348\n",
            "Epoch 116/500\n",
            "3/3 [==============================] - 0s 6ms/step - loss: 4.8003 - mae: 4.8003\n",
            "Epoch 117/500\n",
            "3/3 [==============================] - 0s 9ms/step - loss: 4.7513 - mae: 4.7513\n",
            "Epoch 118/500\n",
            "3/3 [==============================] - 0s 6ms/step - loss: 4.7240 - mae: 4.7240\n",
            "Epoch 119/500\n",
            "3/3 [==============================] - 0s 9ms/step - loss: 4.6800 - mae: 4.6800\n",
            "Epoch 120/500\n",
            "3/3 [==============================] - 0s 7ms/step - loss: 4.6526 - mae: 4.6526\n",
            "Epoch 121/500\n",
            "3/3 [==============================] - 0s 5ms/step - loss: 4.6143 - mae: 4.6143\n",
            "Epoch 122/500\n",
            "3/3 [==============================] - 0s 6ms/step - loss: 4.5735 - mae: 4.5735\n",
            "Epoch 123/500\n",
            "3/3 [==============================] - 0s 6ms/step - loss: 4.5459 - mae: 4.5459\n",
            "Epoch 124/500\n",
            "3/3 [==============================] - 0s 7ms/step - loss: 4.5022 - mae: 4.5022\n",
            "Epoch 125/500\n",
            "3/3 [==============================] - 0s 7ms/step - loss: 4.4652 - mae: 4.4652\n",
            "Epoch 126/500\n",
            "3/3 [==============================] - 0s 11ms/step - loss: 4.4203 - mae: 4.4203\n",
            "Epoch 127/500\n",
            "3/3 [==============================] - 0s 10ms/step - loss: 4.3990 - mae: 4.3990\n",
            "Epoch 128/500\n",
            "3/3 [==============================] - 0s 5ms/step - loss: 4.3622 - mae: 4.3622\n",
            "Epoch 129/500\n",
            "3/3 [==============================] - 0s 10ms/step - loss: 4.3064 - mae: 4.3064\n",
            "Epoch 130/500\n",
            "3/3 [==============================] - 0s 6ms/step - loss: 4.2788 - mae: 4.2788\n",
            "Epoch 131/500\n",
            "3/3 [==============================] - 0s 8ms/step - loss: 4.2528 - mae: 4.2528\n",
            "Epoch 132/500\n",
            "3/3 [==============================] - 0s 15ms/step - loss: 4.1887 - mae: 4.1887\n",
            "Epoch 133/500\n",
            "3/3 [==============================] - 0s 9ms/step - loss: 4.1568 - mae: 4.1568\n",
            "Epoch 134/500\n",
            "3/3 [==============================] - 0s 6ms/step - loss: 4.1373 - mae: 4.1373\n",
            "Epoch 135/500\n",
            "3/3 [==============================] - 0s 7ms/step - loss: 4.0768 - mae: 4.0768\n",
            "Epoch 136/500\n",
            "3/3 [==============================] - 0s 6ms/step - loss: 4.0311 - mae: 4.0311\n",
            "Epoch 137/500\n",
            "3/3 [==============================] - 0s 6ms/step - loss: 3.9940 - mae: 3.9940\n",
            "Epoch 138/500\n",
            "3/3 [==============================] - 0s 8ms/step - loss: 3.9472 - mae: 3.9472\n",
            "Epoch 139/500\n",
            "3/3 [==============================] - 0s 7ms/step - loss: 3.9040 - mae: 3.9040\n",
            "Epoch 140/500\n",
            "3/3 [==============================] - 0s 8ms/step - loss: 3.8742 - mae: 3.8742\n",
            "Epoch 141/500\n",
            "3/3 [==============================] - 0s 6ms/step - loss: 3.8196 - mae: 3.8196\n",
            "Epoch 142/500\n",
            "3/3 [==============================] - 0s 7ms/step - loss: 3.7924 - mae: 3.7924\n",
            "Epoch 143/500\n",
            "3/3 [==============================] - 0s 6ms/step - loss: 3.7517 - mae: 3.7517\n",
            "Epoch 144/500\n",
            "3/3 [==============================] - 0s 8ms/step - loss: 3.6935 - mae: 3.6935\n",
            "Epoch 145/500\n",
            "3/3 [==============================] - 0s 13ms/step - loss: 3.6449 - mae: 3.6449\n",
            "Epoch 146/500\n",
            "3/3 [==============================] - 0s 6ms/step - loss: 3.6226 - mae: 3.6226\n",
            "Epoch 147/500\n",
            "3/3 [==============================] - 0s 11ms/step - loss: 3.5670 - mae: 3.5670\n",
            "Epoch 148/500\n",
            "3/3 [==============================] - 0s 6ms/step - loss: 3.5172 - mae: 3.5172\n",
            "Epoch 149/500\n",
            "3/3 [==============================] - 0s 6ms/step - loss: 3.4947 - mae: 3.4947\n",
            "Epoch 150/500\n",
            "3/3 [==============================] - 0s 6ms/step - loss: 3.4338 - mae: 3.4338\n",
            "Epoch 151/500\n",
            "3/3 [==============================] - 0s 15ms/step - loss: 3.3921 - mae: 3.3921\n",
            "Epoch 152/500\n",
            "3/3 [==============================] - 0s 8ms/step - loss: 3.3468 - mae: 3.3468\n",
            "Epoch 153/500\n",
            "3/3 [==============================] - 0s 6ms/step - loss: 3.3120 - mae: 3.3120\n",
            "Epoch 154/500\n",
            "3/3 [==============================] - 0s 7ms/step - loss: 3.2422 - mae: 3.2422\n",
            "Epoch 155/500\n",
            "3/3 [==============================] - 0s 7ms/step - loss: 3.1932 - mae: 3.1932\n",
            "Epoch 156/500\n",
            "3/3 [==============================] - 0s 8ms/step - loss: 3.1478 - mae: 3.1478\n",
            "Epoch 157/500\n",
            "3/3 [==============================] - 0s 6ms/step - loss: 3.0953 - mae: 3.0953\n",
            "Epoch 158/500\n",
            "3/3 [==============================] - 0s 8ms/step - loss: 3.0507 - mae: 3.0507\n",
            "Epoch 159/500\n",
            "3/3 [==============================] - 0s 6ms/step - loss: 2.9950 - mae: 2.9950\n",
            "Epoch 160/500\n",
            "3/3 [==============================] - 0s 13ms/step - loss: 2.9538 - mae: 2.9538\n",
            "Epoch 161/500\n",
            "3/3 [==============================] - 0s 9ms/step - loss: 2.9138 - mae: 2.9138\n",
            "Epoch 162/500\n",
            "3/3 [==============================] - 0s 7ms/step - loss: 2.8460 - mae: 2.8460\n",
            "Epoch 163/500\n",
            "3/3 [==============================] - 0s 13ms/step - loss: 2.8407 - mae: 2.8407\n",
            "Epoch 164/500\n",
            "3/3 [==============================] - 0s 13ms/step - loss: 2.7326 - mae: 2.7326\n",
            "Epoch 165/500\n",
            "3/3 [==============================] - 0s 13ms/step - loss: 2.7370 - mae: 2.7370\n",
            "Epoch 166/500\n",
            "3/3 [==============================] - 0s 13ms/step - loss: 2.6522 - mae: 2.6522\n",
            "Epoch 167/500\n",
            "3/3 [==============================] - 0s 11ms/step - loss: 2.6502 - mae: 2.6502\n",
            "Epoch 168/500\n",
            "3/3 [==============================] - 0s 11ms/step - loss: 2.5453 - mae: 2.5453\n",
            "Epoch 169/500\n",
            "3/3 [==============================] - 0s 8ms/step - loss: 2.4901 - mae: 2.4901\n",
            "Epoch 170/500\n",
            "3/3 [==============================] - 0s 7ms/step - loss: 2.4467 - mae: 2.4467\n",
            "Epoch 171/500\n",
            "3/3 [==============================] - 0s 7ms/step - loss: 2.3524 - mae: 2.3524\n",
            "Epoch 172/500\n",
            "3/3 [==============================] - 0s 7ms/step - loss: 2.4115 - mae: 2.4115\n",
            "Epoch 173/500\n",
            "3/3 [==============================] - 0s 8ms/step - loss: 2.2635 - mae: 2.2635\n",
            "Epoch 174/500\n",
            "3/3 [==============================] - 0s 14ms/step - loss: 2.2336 - mae: 2.2336\n",
            "Epoch 175/500\n",
            "3/3 [==============================] - 0s 8ms/step - loss: 2.2581 - mae: 2.2581\n",
            "Epoch 176/500\n",
            "3/3 [==============================] - 0s 8ms/step - loss: 2.1195 - mae: 2.1195\n",
            "Epoch 177/500\n",
            "3/3 [==============================] - 0s 11ms/step - loss: 2.1391 - mae: 2.1391\n",
            "Epoch 178/500\n",
            "3/3 [==============================] - 0s 13ms/step - loss: 1.9679 - mae: 1.9679\n",
            "Epoch 179/500\n",
            "3/3 [==============================] - 0s 11ms/step - loss: 1.9655 - mae: 1.9655\n",
            "Epoch 180/500\n",
            "3/3 [==============================] - 0s 6ms/step - loss: 1.8737 - mae: 1.8737\n",
            "Epoch 181/500\n",
            "3/3 [==============================] - 0s 5ms/step - loss: 1.8212 - mae: 1.8212\n",
            "Epoch 182/500\n",
            "3/3 [==============================] - 0s 8ms/step - loss: 1.7943 - mae: 1.7943\n",
            "Epoch 183/500\n",
            "3/3 [==============================] - 0s 5ms/step - loss: 1.6959 - mae: 1.6959\n",
            "Epoch 184/500\n",
            "3/3 [==============================] - 0s 8ms/step - loss: 1.6285 - mae: 1.6285\n",
            "Epoch 185/500\n",
            "3/3 [==============================] - 0s 10ms/step - loss: 1.6363 - mae: 1.6363\n",
            "Epoch 186/500\n",
            "3/3 [==============================] - 0s 5ms/step - loss: 1.5516 - mae: 1.5516\n",
            "Epoch 187/500\n",
            "3/3 [==============================] - 0s 6ms/step - loss: 1.4891 - mae: 1.4891\n",
            "Epoch 188/500\n",
            "3/3 [==============================] - 0s 12ms/step - loss: 1.4069 - mae: 1.4069\n",
            "Epoch 189/500\n",
            "3/3 [==============================] - 0s 13ms/step - loss: 1.3866 - mae: 1.3866\n",
            "Epoch 190/500\n",
            "3/3 [==============================] - 0s 7ms/step - loss: 1.3238 - mae: 1.3238\n",
            "Epoch 191/500\n",
            "3/3 [==============================] - 0s 6ms/step - loss: 1.2594 - mae: 1.2594\n",
            "Epoch 192/500\n",
            "3/3 [==============================] - 0s 7ms/step - loss: 1.2351 - mae: 1.2351\n",
            "Epoch 193/500\n",
            "3/3 [==============================] - 0s 12ms/step - loss: 1.2571 - mae: 1.2571\n",
            "Epoch 194/500\n",
            "3/3 [==============================] - 0s 17ms/step - loss: 1.1268 - mae: 1.1268\n",
            "Epoch 195/500\n",
            "3/3 [==============================] - 0s 7ms/step - loss: 1.1990 - mae: 1.1990\n",
            "Epoch 196/500\n",
            "3/3 [==============================] - 0s 7ms/step - loss: 1.0044 - mae: 1.0044\n",
            "Epoch 197/500\n",
            "3/3 [==============================] - 0s 7ms/step - loss: 0.9636 - mae: 0.9636\n",
            "Epoch 198/500\n",
            "3/3 [==============================] - 0s 10ms/step - loss: 0.8222 - mae: 0.8222\n",
            "Epoch 199/500\n",
            "3/3 [==============================] - 0s 14ms/step - loss: 0.8466 - mae: 0.8466\n",
            "Epoch 200/500\n",
            "3/3 [==============================] - 0s 6ms/step - loss: 0.8225 - mae: 0.8225\n",
            "Epoch 201/500\n",
            "3/3 [==============================] - 0s 7ms/step - loss: 0.6605 - mae: 0.6605\n",
            "Epoch 202/500\n",
            "3/3 [==============================] - 0s 6ms/step - loss: 0.5873 - mae: 0.5873\n",
            "Epoch 203/500\n",
            "3/3 [==============================] - 0s 10ms/step - loss: 0.4823 - mae: 0.4823\n",
            "Epoch 204/500\n",
            "3/3 [==============================] - 0s 10ms/step - loss: 0.4269 - mae: 0.4269\n",
            "Epoch 205/500\n",
            "3/3 [==============================] - 0s 14ms/step - loss: 0.3820 - mae: 0.3820\n",
            "Epoch 206/500\n",
            "3/3 [==============================] - 0s 15ms/step - loss: 0.3125 - mae: 0.3125\n",
            "Epoch 207/500\n",
            "3/3 [==============================] - 0s 7ms/step - loss: 0.2180 - mae: 0.2180\n",
            "Epoch 208/500\n",
            "3/3 [==============================] - 0s 14ms/step - loss: 0.2296 - mae: 0.2296\n",
            "Epoch 209/500\n",
            "3/3 [==============================] - 0s 6ms/step - loss: 0.1632 - mae: 0.1632\n",
            "Epoch 210/500\n",
            "3/3 [==============================] - 0s 7ms/step - loss: 0.0826 - mae: 0.0826\n",
            "Epoch 211/500\n",
            "3/3 [==============================] - 0s 9ms/step - loss: 0.1332 - mae: 0.1332\n",
            "Epoch 212/500\n",
            "3/3 [==============================] - 0s 6ms/step - loss: 0.1247 - mae: 0.1247\n",
            "Epoch 213/500\n",
            "3/3 [==============================] - 0s 11ms/step - loss: 0.1862 - mae: 0.1862\n",
            "Epoch 214/500\n",
            "3/3 [==============================] - 0s 9ms/step - loss: 0.1949 - mae: 0.1949\n",
            "Epoch 215/500\n",
            "3/3 [==============================] - 0s 6ms/step - loss: 0.2607 - mae: 0.2607\n",
            "Epoch 216/500\n",
            "3/3 [==============================] - 0s 10ms/step - loss: 0.1728 - mae: 0.1728\n",
            "Epoch 217/500\n",
            "3/3 [==============================] - 0s 7ms/step - loss: 0.0925 - mae: 0.0925\n",
            "Epoch 218/500\n",
            "3/3 [==============================] - 0s 6ms/step - loss: 0.1419 - mae: 0.1419\n",
            "Epoch 219/500\n",
            "3/3 [==============================] - 0s 6ms/step - loss: 0.1217 - mae: 0.1217\n",
            "Epoch 220/500\n",
            "3/3 [==============================] - 0s 14ms/step - loss: 0.1056 - mae: 0.1056\n",
            "Epoch 221/500\n",
            "3/3 [==============================] - 0s 7ms/step - loss: 0.1523 - mae: 0.1523\n",
            "Epoch 222/500\n",
            "3/3 [==============================] - 0s 7ms/step - loss: 0.0503 - mae: 0.0503\n",
            "Epoch 223/500\n",
            "3/3 [==============================] - 0s 15ms/step - loss: 0.1494 - mae: 0.1494\n",
            "Epoch 224/500\n",
            "3/3 [==============================] - 0s 8ms/step - loss: 0.0695 - mae: 0.0695\n",
            "Epoch 225/500\n",
            "3/3 [==============================] - 0s 8ms/step - loss: 0.1411 - mae: 0.1411\n",
            "Epoch 226/500\n",
            "3/3 [==============================] - 0s 13ms/step - loss: 0.0475 - mae: 0.0475\n",
            "Epoch 227/500\n",
            "3/3 [==============================] - 0s 8ms/step - loss: 0.1677 - mae: 0.1677\n",
            "Epoch 228/500\n",
            "3/3 [==============================] - 0s 9ms/step - loss: 0.2565 - mae: 0.2565\n",
            "Epoch 229/500\n",
            "3/3 [==============================] - 0s 9ms/step - loss: 0.2768 - mae: 0.2768\n",
            "Epoch 230/500\n",
            "3/3 [==============================] - 0s 7ms/step - loss: 0.5182 - mae: 0.5182\n",
            "Epoch 231/500\n",
            "3/3 [==============================] - 0s 11ms/step - loss: 0.1314 - mae: 0.1314\n",
            "Epoch 232/500\n",
            "3/3 [==============================] - 0s 5ms/step - loss: 0.1644 - mae: 0.1644\n",
            "Epoch 233/500\n",
            "3/3 [==============================] - 0s 8ms/step - loss: 0.2863 - mae: 0.2863\n",
            "Epoch 234/500\n",
            "3/3 [==============================] - 0s 8ms/step - loss: 0.0656 - mae: 0.0656\n",
            "Epoch 235/500\n",
            "3/3 [==============================] - 0s 8ms/step - loss: 0.0565 - mae: 0.0565\n",
            "Epoch 236/500\n",
            "3/3 [==============================] - 0s 6ms/step - loss: 0.1173 - mae: 0.1173\n",
            "Epoch 237/500\n",
            "3/3 [==============================] - 0s 6ms/step - loss: 0.2216 - mae: 0.2216\n",
            "Epoch 238/500\n",
            "3/3 [==============================] - 0s 7ms/step - loss: 0.3052 - mae: 0.3052\n",
            "Epoch 239/500\n",
            "3/3 [==============================] - 0s 6ms/step - loss: 0.3342 - mae: 0.3342\n",
            "Epoch 240/500\n",
            "3/3 [==============================] - 0s 6ms/step - loss: 0.3159 - mae: 0.3159\n",
            "Epoch 241/500\n",
            "3/3 [==============================] - 0s 7ms/step - loss: 0.2262 - mae: 0.2262\n",
            "Epoch 242/500\n",
            "3/3 [==============================] - 0s 6ms/step - loss: 0.2217 - mae: 0.2217\n",
            "Epoch 243/500\n",
            "3/3 [==============================] - 0s 6ms/step - loss: 0.3763 - mae: 0.3763\n",
            "Epoch 244/500\n",
            "3/3 [==============================] - 0s 6ms/step - loss: 0.2367 - mae: 0.2367\n",
            "Epoch 245/500\n",
            "3/3 [==============================] - 0s 6ms/step - loss: 0.1074 - mae: 0.1074\n",
            "Epoch 246/500\n",
            "3/3 [==============================] - 0s 6ms/step - loss: 0.0937 - mae: 0.0937\n",
            "Epoch 247/500\n",
            "3/3 [==============================] - 0s 6ms/step - loss: 0.0589 - mae: 0.0589\n",
            "Epoch 248/500\n",
            "3/3 [==============================] - 0s 6ms/step - loss: 0.0829 - mae: 0.0829\n",
            "Epoch 249/500\n",
            "3/3 [==============================] - 0s 8ms/step - loss: 0.0488 - mae: 0.0488\n",
            "Epoch 250/500\n",
            "3/3 [==============================] - 0s 6ms/step - loss: 0.0897 - mae: 0.0897\n",
            "Epoch 251/500\n",
            "3/3 [==============================] - 0s 11ms/step - loss: 0.0761 - mae: 0.0761\n",
            "Epoch 252/500\n",
            "3/3 [==============================] - 0s 11ms/step - loss: 0.1509 - mae: 0.1509\n",
            "Epoch 253/500\n",
            "3/3 [==============================] - 0s 7ms/step - loss: 0.3617 - mae: 0.3617\n",
            "Epoch 254/500\n",
            "3/3 [==============================] - 0s 6ms/step - loss: 0.2292 - mae: 0.2292\n",
            "Epoch 255/500\n",
            "3/3 [==============================] - 0s 7ms/step - loss: 0.2564 - mae: 0.2564\n",
            "Epoch 256/500\n",
            "3/3 [==============================] - 0s 7ms/step - loss: 0.1705 - mae: 0.1705\n",
            "Epoch 257/500\n",
            "3/3 [==============================] - 0s 9ms/step - loss: 0.0541 - mae: 0.0541\n",
            "Epoch 258/500\n",
            "3/3 [==============================] - 0s 6ms/step - loss: 0.1961 - mae: 0.1961\n",
            "Epoch 259/500\n",
            "3/3 [==============================] - 0s 6ms/step - loss: 0.2478 - mae: 0.2478\n",
            "Epoch 260/500\n",
            "3/3 [==============================] - 0s 7ms/step - loss: 0.0613 - mae: 0.0613\n",
            "Epoch 261/500\n",
            "3/3 [==============================] - 0s 5ms/step - loss: 0.0412 - mae: 0.0412\n",
            "Epoch 262/500\n",
            "3/3 [==============================] - 0s 6ms/step - loss: 0.1931 - mae: 0.1931\n",
            "Epoch 263/500\n",
            "3/3 [==============================] - 0s 7ms/step - loss: 0.2029 - mae: 0.2029\n",
            "Epoch 264/500\n",
            "3/3 [==============================] - 0s 6ms/step - loss: 0.1356 - mae: 0.1356\n",
            "Epoch 265/500\n",
            "3/3 [==============================] - 0s 6ms/step - loss: 0.1497 - mae: 0.1497\n",
            "Epoch 266/500\n",
            "3/3 [==============================] - 0s 6ms/step - loss: 0.2062 - mae: 0.2062\n",
            "Epoch 267/500\n",
            "3/3 [==============================] - 0s 9ms/step - loss: 0.0727 - mae: 0.0727\n",
            "Epoch 268/500\n",
            "3/3 [==============================] - 0s 6ms/step - loss: 0.0540 - mae: 0.0540\n",
            "Epoch 269/500\n",
            "3/3 [==============================] - 0s 9ms/step - loss: 0.1376 - mae: 0.1376\n",
            "Epoch 270/500\n",
            "3/3 [==============================] - 0s 14ms/step - loss: 0.2539 - mae: 0.2539\n",
            "Epoch 271/500\n",
            "3/3 [==============================] - 0s 7ms/step - loss: 0.0749 - mae: 0.0749\n",
            "Epoch 272/500\n",
            "3/3 [==============================] - 0s 11ms/step - loss: 0.1853 - mae: 0.1853\n",
            "Epoch 273/500\n",
            "3/3 [==============================] - 0s 13ms/step - loss: 0.1308 - mae: 0.1308\n",
            "Epoch 274/500\n",
            "3/3 [==============================] - 0s 16ms/step - loss: 0.1831 - mae: 0.1831\n",
            "Epoch 275/500\n",
            "3/3 [==============================] - 0s 12ms/step - loss: 0.0900 - mae: 0.0900\n",
            "Epoch 276/500\n",
            "3/3 [==============================] - 0s 9ms/step - loss: 0.2134 - mae: 0.2134\n",
            "Epoch 277/500\n",
            "3/3 [==============================] - 0s 8ms/step - loss: 0.0984 - mae: 0.0984\n",
            "Epoch 278/500\n",
            "3/3 [==============================] - 0s 10ms/step - loss: 0.2417 - mae: 0.2417\n",
            "Epoch 279/500\n",
            "3/3 [==============================] - 0s 8ms/step - loss: 0.0668 - mae: 0.0668\n",
            "Epoch 280/500\n",
            "3/3 [==============================] - 0s 15ms/step - loss: 0.1683 - mae: 0.1683\n",
            "Epoch 281/500\n",
            "3/3 [==============================] - 0s 14ms/step - loss: 0.2630 - mae: 0.2630\n",
            "Epoch 282/500\n",
            "3/3 [==============================] - 0s 8ms/step - loss: 0.1971 - mae: 0.1971\n",
            "Epoch 283/500\n",
            "3/3 [==============================] - 0s 5ms/step - loss: 0.2552 - mae: 0.2552\n",
            "Epoch 284/500\n",
            "3/3 [==============================] - 0s 11ms/step - loss: 0.1860 - mae: 0.1860\n",
            "Epoch 285/500\n",
            "3/3 [==============================] - 0s 9ms/step - loss: 0.2947 - mae: 0.2947\n",
            "Epoch 286/500\n",
            "3/3 [==============================] - 0s 10ms/step - loss: 0.1936 - mae: 0.1936\n",
            "Epoch 287/500\n",
            "3/3 [==============================] - 0s 12ms/step - loss: 0.1957 - mae: 0.1957\n",
            "Epoch 288/500\n",
            "3/3 [==============================] - 0s 10ms/step - loss: 0.2186 - mae: 0.2186\n",
            "Epoch 289/500\n",
            "3/3 [==============================] - 0s 13ms/step - loss: 0.3228 - mae: 0.3228\n",
            "Epoch 290/500\n",
            "3/3 [==============================] - 0s 12ms/step - loss: 0.1854 - mae: 0.1854\n",
            "Epoch 291/500\n",
            "3/3 [==============================] - 0s 15ms/step - loss: 0.1994 - mae: 0.1994\n",
            "Epoch 292/500\n",
            "3/3 [==============================] - 0s 12ms/step - loss: 0.3365 - mae: 0.3365\n",
            "Epoch 293/500\n",
            "3/3 [==============================] - 0s 6ms/step - loss: 0.1179 - mae: 0.1179\n",
            "Epoch 294/500\n",
            "3/3 [==============================] - 0s 8ms/step - loss: 0.0717 - mae: 0.0717\n",
            "Epoch 295/500\n",
            "3/3 [==============================] - 0s 6ms/step - loss: 0.0314 - mae: 0.0314\n",
            "Epoch 296/500\n",
            "3/3 [==============================] - 0s 11ms/step - loss: 0.0382 - mae: 0.0382\n",
            "Epoch 297/500\n",
            "3/3 [==============================] - 0s 13ms/step - loss: 0.0665 - mae: 0.0665\n",
            "Epoch 298/500\n",
            "3/3 [==============================] - 0s 13ms/step - loss: 0.0968 - mae: 0.0968\n",
            "Epoch 299/500\n",
            "3/3 [==============================] - 0s 8ms/step - loss: 0.2362 - mae: 0.2362\n",
            "Epoch 300/500\n",
            "3/3 [==============================] - 0s 11ms/step - loss: 0.0584 - mae: 0.0584\n",
            "Epoch 301/500\n",
            "3/3 [==============================] - 0s 6ms/step - loss: 0.1888 - mae: 0.1888\n",
            "Epoch 302/500\n",
            "3/3 [==============================] - 0s 11ms/step - loss: 0.1626 - mae: 0.1626\n",
            "Epoch 303/500\n",
            "3/3 [==============================] - 0s 7ms/step - loss: 0.0286 - mae: 0.0286\n",
            "Epoch 304/500\n",
            "3/3 [==============================] - 0s 9ms/step - loss: 0.0336 - mae: 0.0336\n",
            "Epoch 305/500\n",
            "3/3 [==============================] - 0s 6ms/step - loss: 0.0408 - mae: 0.0408\n",
            "Epoch 306/500\n",
            "3/3 [==============================] - 0s 7ms/step - loss: 0.0849 - mae: 0.0849\n",
            "Epoch 307/500\n",
            "3/3 [==============================] - 0s 6ms/step - loss: 0.0493 - mae: 0.0493\n",
            "Epoch 308/500\n",
            "3/3 [==============================] - 0s 7ms/step - loss: 0.0535 - mae: 0.0535\n",
            "Epoch 309/500\n",
            "3/3 [==============================] - 0s 10ms/step - loss: 0.0843 - mae: 0.0843\n",
            "Epoch 310/500\n",
            "3/3 [==============================] - 0s 6ms/step - loss: 0.1254 - mae: 0.1254\n",
            "Epoch 311/500\n",
            "3/3 [==============================] - 0s 12ms/step - loss: 0.2063 - mae: 0.2063\n",
            "Epoch 312/500\n",
            "3/3 [==============================] - 0s 10ms/step - loss: 0.3262 - mae: 0.3262\n",
            "Epoch 313/500\n",
            "3/3 [==============================] - 0s 17ms/step - loss: 0.1177 - mae: 0.1177\n",
            "Epoch 314/500\n",
            "3/3 [==============================] - 0s 8ms/step - loss: 0.0998 - mae: 0.0998\n",
            "Epoch 315/500\n",
            "3/3 [==============================] - 0s 14ms/step - loss: 0.1491 - mae: 0.1491\n",
            "Epoch 316/500\n",
            "3/3 [==============================] - 0s 11ms/step - loss: 0.1447 - mae: 0.1447\n",
            "Epoch 317/500\n",
            "3/3 [==============================] - 0s 10ms/step - loss: 0.2998 - mae: 0.2998\n",
            "Epoch 318/500\n",
            "3/3 [==============================] - 0s 7ms/step - loss: 0.2007 - mae: 0.2007\n",
            "Epoch 319/500\n",
            "3/3 [==============================] - 0s 7ms/step - loss: 0.1592 - mae: 0.1592\n",
            "Epoch 320/500\n",
            "3/3 [==============================] - 0s 7ms/step - loss: 0.1749 - mae: 0.1749\n",
            "Epoch 321/500\n",
            "3/3 [==============================] - 0s 10ms/step - loss: 0.2409 - mae: 0.2409\n",
            "Epoch 322/500\n",
            "3/3 [==============================] - 0s 7ms/step - loss: 0.3033 - mae: 0.3033\n",
            "Epoch 323/500\n",
            "3/3 [==============================] - 0s 12ms/step - loss: 0.1307 - mae: 0.1307\n",
            "Epoch 324/500\n",
            "3/3 [==============================] - 0s 7ms/step - loss: 0.0802 - mae: 0.0802\n",
            "Epoch 325/500\n",
            "3/3 [==============================] - 0s 9ms/step - loss: 0.0488 - mae: 0.0488\n",
            "Epoch 326/500\n",
            "3/3 [==============================] - 0s 8ms/step - loss: 0.1219 - mae: 0.1219\n",
            "Epoch 327/500\n",
            "3/3 [==============================] - 0s 4ms/step - loss: 0.2500 - mae: 0.2500\n",
            "Epoch 328/500\n",
            "3/3 [==============================] - 0s 10ms/step - loss: 0.2170 - mae: 0.2170\n",
            "Epoch 329/500\n",
            "3/3 [==============================] - 0s 10ms/step - loss: 0.1683 - mae: 0.1683\n",
            "Epoch 330/500\n",
            "3/3 [==============================] - 0s 10ms/step - loss: 0.2205 - mae: 0.2205\n",
            "Epoch 331/500\n",
            "3/3 [==============================] - 0s 8ms/step - loss: 0.1000 - mae: 0.1000\n",
            "Epoch 332/500\n",
            "3/3 [==============================] - 0s 8ms/step - loss: 0.0551 - mae: 0.0551\n",
            "Epoch 333/500\n",
            "3/3 [==============================] - 0s 8ms/step - loss: 0.0942 - mae: 0.0942\n",
            "Epoch 334/500\n",
            "3/3 [==============================] - 0s 8ms/step - loss: 0.0412 - mae: 0.0412\n",
            "Epoch 335/500\n",
            "3/3 [==============================] - 0s 7ms/step - loss: 0.1685 - mae: 0.1685\n",
            "Epoch 336/500\n",
            "3/3 [==============================] - 0s 8ms/step - loss: 0.1375 - mae: 0.1375\n",
            "Epoch 337/500\n",
            "3/3 [==============================] - 0s 5ms/step - loss: 0.1178 - mae: 0.1178\n",
            "Epoch 338/500\n",
            "3/3 [==============================] - 0s 5ms/step - loss: 0.1217 - mae: 0.1217\n",
            "Epoch 339/500\n",
            "3/3 [==============================] - 0s 20ms/step - loss: 0.1572 - mae: 0.1572\n",
            "Epoch 340/500\n",
            "3/3 [==============================] - 0s 12ms/step - loss: 0.0944 - mae: 0.0944\n",
            "Epoch 341/500\n",
            "3/3 [==============================] - 0s 9ms/step - loss: 0.1450 - mae: 0.1450\n",
            "Epoch 342/500\n",
            "3/3 [==============================] - 0s 11ms/step - loss: 0.0992 - mae: 0.0992\n",
            "Epoch 343/500\n",
            "3/3 [==============================] - 0s 8ms/step - loss: 0.1521 - mae: 0.1521\n",
            "Epoch 344/500\n",
            "3/3 [==============================] - 0s 12ms/step - loss: 0.1620 - mae: 0.1620\n",
            "Epoch 345/500\n",
            "3/3 [==============================] - 0s 17ms/step - loss: 0.0757 - mae: 0.0757\n",
            "Epoch 346/500\n",
            "3/3 [==============================] - 0s 7ms/step - loss: 0.1542 - mae: 0.1542\n",
            "Epoch 347/500\n",
            "3/3 [==============================] - 0s 11ms/step - loss: 0.0889 - mae: 0.0889\n",
            "Epoch 348/500\n",
            "3/3 [==============================] - 0s 9ms/step - loss: 0.1593 - mae: 0.1593\n",
            "Epoch 349/500\n",
            "3/3 [==============================] - 0s 12ms/step - loss: 0.1462 - mae: 0.1462\n",
            "Epoch 350/500\n",
            "3/3 [==============================] - 0s 7ms/step - loss: 0.0979 - mae: 0.0979\n",
            "Epoch 351/500\n",
            "3/3 [==============================] - 0s 8ms/step - loss: 0.1450 - mae: 0.1450\n",
            "Epoch 352/500\n",
            "3/3 [==============================] - 0s 7ms/step - loss: 0.1115 - mae: 0.1115\n",
            "Epoch 353/500\n",
            "3/3 [==============================] - 0s 7ms/step - loss: 0.1113 - mae: 0.1113\n",
            "Epoch 354/500\n",
            "3/3 [==============================] - 0s 12ms/step - loss: 0.1393 - mae: 0.1393\n",
            "Epoch 355/500\n",
            "3/3 [==============================] - 0s 8ms/step - loss: 0.1218 - mae: 0.1218\n",
            "Epoch 356/500\n",
            "3/3 [==============================] - 0s 5ms/step - loss: 0.0918 - mae: 0.0918\n",
            "Epoch 357/500\n",
            "3/3 [==============================] - 0s 14ms/step - loss: 0.2056 - mae: 0.2056\n",
            "Epoch 358/500\n",
            "3/3 [==============================] - 0s 13ms/step - loss: 0.1899 - mae: 0.1899\n",
            "Epoch 359/500\n",
            "3/3 [==============================] - 0s 8ms/step - loss: 0.2792 - mae: 0.2792\n",
            "Epoch 360/500\n",
            "3/3 [==============================] - 0s 15ms/step - loss: 0.4091 - mae: 0.4091\n",
            "Epoch 361/500\n",
            "3/3 [==============================] - 0s 9ms/step - loss: 0.2605 - mae: 0.2605\n",
            "Epoch 362/500\n",
            "3/3 [==============================] - 0s 9ms/step - loss: 0.1585 - mae: 0.1585\n",
            "Epoch 363/500\n",
            "3/3 [==============================] - 0s 8ms/step - loss: 0.2483 - mae: 0.2483\n",
            "Epoch 364/500\n",
            "3/3 [==============================] - 0s 6ms/step - loss: 0.1585 - mae: 0.1585\n",
            "Epoch 365/500\n",
            "3/3 [==============================] - 0s 9ms/step - loss: 0.1783 - mae: 0.1783\n",
            "Epoch 366/500\n",
            "3/3 [==============================] - 0s 10ms/step - loss: 0.2138 - mae: 0.2138\n",
            "Epoch 367/500\n",
            "3/3 [==============================] - 0s 10ms/step - loss: 0.1867 - mae: 0.1867\n",
            "Epoch 368/500\n",
            "3/3 [==============================] - 0s 8ms/step - loss: 0.1693 - mae: 0.1693\n",
            "Epoch 369/500\n",
            "3/3 [==============================] - 0s 11ms/step - loss: 0.2172 - mae: 0.2172\n",
            "Epoch 370/500\n",
            "3/3 [==============================] - 0s 14ms/step - loss: 0.2141 - mae: 0.2141\n",
            "Epoch 371/500\n",
            "3/3 [==============================] - 0s 8ms/step - loss: 0.1437 - mae: 0.1437\n",
            "Epoch 372/500\n",
            "3/3 [==============================] - 0s 12ms/step - loss: 0.0336 - mae: 0.0336\n",
            "Epoch 373/500\n",
            "3/3 [==============================] - 0s 13ms/step - loss: 0.0314 - mae: 0.0314\n",
            "Epoch 374/500\n",
            "3/3 [==============================] - 0s 11ms/step - loss: 0.0670 - mae: 0.0670\n",
            "Epoch 375/500\n",
            "3/3 [==============================] - 0s 14ms/step - loss: 0.0994 - mae: 0.0994\n",
            "Epoch 376/500\n",
            "3/3 [==============================] - 0s 13ms/step - loss: 0.1960 - mae: 0.1960\n",
            "Epoch 377/500\n",
            "3/3 [==============================] - 0s 12ms/step - loss: 0.2854 - mae: 0.2854\n",
            "Epoch 378/500\n",
            "3/3 [==============================] - 0s 14ms/step - loss: 0.1114 - mae: 0.1114\n",
            "Epoch 379/500\n",
            "3/3 [==============================] - 0s 15ms/step - loss: 0.0832 - mae: 0.0832\n",
            "Epoch 380/500\n",
            "3/3 [==============================] - 0s 16ms/step - loss: 0.0246 - mae: 0.0246\n",
            "Epoch 381/500\n",
            "3/3 [==============================] - 0s 11ms/step - loss: 0.0493 - mae: 0.0493\n",
            "Epoch 382/500\n",
            "3/3 [==============================] - 0s 10ms/step - loss: 0.1124 - mae: 0.1124\n",
            "Epoch 383/500\n",
            "3/3 [==============================] - 0s 11ms/step - loss: 0.2184 - mae: 0.2184\n",
            "Epoch 384/500\n",
            "3/3 [==============================] - 0s 10ms/step - loss: 0.1873 - mae: 0.1873\n",
            "Epoch 385/500\n",
            "3/3 [==============================] - 0s 21ms/step - loss: 0.2895 - mae: 0.2895\n",
            "Epoch 386/500\n",
            "3/3 [==============================] - 0s 18ms/step - loss: 0.3393 - mae: 0.3393\n",
            "Epoch 387/500\n",
            "3/3 [==============================] - 0s 26ms/step - loss: 0.2103 - mae: 0.2103\n",
            "Epoch 388/500\n",
            "3/3 [==============================] - 0s 12ms/step - loss: 0.3592 - mae: 0.3592\n",
            "Epoch 389/500\n",
            "3/3 [==============================] - 0s 9ms/step - loss: 0.1835 - mae: 0.1835\n",
            "Epoch 390/500\n",
            "3/3 [==============================] - 0s 12ms/step - loss: 0.3093 - mae: 0.3093\n",
            "Epoch 391/500\n",
            "3/3 [==============================] - 0s 8ms/step - loss: 0.2506 - mae: 0.2506\n",
            "Epoch 392/500\n",
            "3/3 [==============================] - 0s 8ms/step - loss: 0.1341 - mae: 0.1341\n",
            "Epoch 393/500\n",
            "3/3 [==============================] - 0s 6ms/step - loss: 0.4168 - mae: 0.4168\n",
            "Epoch 394/500\n",
            "3/3 [==============================] - 0s 6ms/step - loss: 0.1892 - mae: 0.1892\n",
            "Epoch 395/500\n",
            "3/3 [==============================] - 0s 8ms/step - loss: 0.2209 - mae: 0.2209\n",
            "Epoch 396/500\n",
            "3/3 [==============================] - 0s 6ms/step - loss: 0.3684 - mae: 0.3684\n",
            "Epoch 397/500\n",
            "3/3 [==============================] - 0s 7ms/step - loss: 0.2308 - mae: 0.2308\n",
            "Epoch 398/500\n",
            "3/3 [==============================] - 0s 6ms/step - loss: 0.2386 - mae: 0.2386\n",
            "Epoch 399/500\n",
            "3/3 [==============================] - 0s 6ms/step - loss: 0.0840 - mae: 0.0840\n",
            "Epoch 400/500\n",
            "3/3 [==============================] - 0s 13ms/step - loss: 0.0700 - mae: 0.0700\n",
            "Epoch 401/500\n",
            "3/3 [==============================] - 0s 11ms/step - loss: 0.0382 - mae: 0.0382\n",
            "Epoch 402/500\n",
            "3/3 [==============================] - 0s 6ms/step - loss: 0.1743 - mae: 0.1743\n",
            "Epoch 403/500\n",
            "3/3 [==============================] - 0s 7ms/step - loss: 0.0564 - mae: 0.0564\n",
            "Epoch 404/500\n",
            "3/3 [==============================] - 0s 6ms/step - loss: 0.1873 - mae: 0.1873\n",
            "Epoch 405/500\n",
            "3/3 [==============================] - 0s 16ms/step - loss: 0.0365 - mae: 0.0365\n",
            "Epoch 406/500\n",
            "3/3 [==============================] - 0s 8ms/step - loss: 0.1741 - mae: 0.1741\n",
            "Epoch 407/500\n",
            "3/3 [==============================] - 0s 7ms/step - loss: 0.0686 - mae: 0.0686\n",
            "Epoch 408/500\n",
            "3/3 [==============================] - 0s 8ms/step - loss: 0.1627 - mae: 0.1627\n",
            "Epoch 409/500\n",
            "3/3 [==============================] - 0s 16ms/step - loss: 0.0947 - mae: 0.0947\n",
            "Epoch 410/500\n",
            "3/3 [==============================] - 0s 15ms/step - loss: 0.0797 - mae: 0.0797\n",
            "Epoch 411/500\n",
            "3/3 [==============================] - 0s 4ms/step - loss: 0.1829 - mae: 0.1829\n",
            "Epoch 412/500\n",
            "3/3 [==============================] - 0s 9ms/step - loss: 0.0382 - mae: 0.0382\n",
            "Epoch 413/500\n",
            "3/3 [==============================] - 0s 13ms/step - loss: 0.0227 - mae: 0.0227\n",
            "Epoch 414/500\n",
            "3/3 [==============================] - 0s 9ms/step - loss: 0.0320 - mae: 0.0320\n",
            "Epoch 415/500\n",
            "3/3 [==============================] - 0s 9ms/step - loss: 0.0614 - mae: 0.0614\n",
            "Epoch 416/500\n",
            "3/3 [==============================] - 0s 7ms/step - loss: 0.0647 - mae: 0.0647\n",
            "Epoch 417/500\n",
            "3/3 [==============================] - 0s 5ms/step - loss: 0.0582 - mae: 0.0582\n",
            "Epoch 418/500\n",
            "3/3 [==============================] - 0s 9ms/step - loss: 0.0740 - mae: 0.0740\n",
            "Epoch 419/500\n",
            "3/3 [==============================] - 0s 9ms/step - loss: 0.0426 - mae: 0.0426\n",
            "Epoch 420/500\n",
            "3/3 [==============================] - 0s 7ms/step - loss: 0.0308 - mae: 0.0308\n",
            "Epoch 421/500\n",
            "3/3 [==============================] - 0s 7ms/step - loss: 0.0318 - mae: 0.0318\n",
            "Epoch 422/500\n",
            "3/3 [==============================] - 0s 6ms/step - loss: 0.0270 - mae: 0.0270\n",
            "Epoch 423/500\n",
            "3/3 [==============================] - 0s 6ms/step - loss: 0.0483 - mae: 0.0483\n",
            "Epoch 424/500\n",
            "3/3 [==============================] - 0s 4ms/step - loss: 0.1048 - mae: 0.1048\n",
            "Epoch 425/500\n",
            "3/3 [==============================] - 0s 4ms/step - loss: 0.1818 - mae: 0.1818\n",
            "Epoch 426/500\n",
            "3/3 [==============================] - 0s 4ms/step - loss: 0.1625 - mae: 0.1625\n",
            "Epoch 427/500\n",
            "3/3 [==============================] - 0s 7ms/step - loss: 0.1700 - mae: 0.1700\n",
            "Epoch 428/500\n",
            "3/3 [==============================] - 0s 10ms/step - loss: 0.1829 - mae: 0.1829\n",
            "Epoch 429/500\n",
            "3/3 [==============================] - 0s 5ms/step - loss: 0.2482 - mae: 0.2482\n",
            "Epoch 430/500\n",
            "3/3 [==============================] - 0s 11ms/step - loss: 0.1116 - mae: 0.1116\n",
            "Epoch 431/500\n",
            "3/3 [==============================] - 0s 9ms/step - loss: 0.0651 - mae: 0.0651\n",
            "Epoch 432/500\n",
            "3/3 [==============================] - 0s 7ms/step - loss: 0.0701 - mae: 0.0701\n",
            "Epoch 433/500\n",
            "3/3 [==============================] - 0s 7ms/step - loss: 0.0511 - mae: 0.0511\n",
            "Epoch 434/500\n",
            "3/3 [==============================] - 0s 12ms/step - loss: 0.0520 - mae: 0.0520\n",
            "Epoch 435/500\n",
            "3/3 [==============================] - 0s 8ms/step - loss: 0.0870 - mae: 0.0870\n",
            "Epoch 436/500\n",
            "3/3 [==============================] - 0s 5ms/step - loss: 0.1136 - mae: 0.1136\n",
            "Epoch 437/500\n",
            "3/3 [==============================] - 0s 9ms/step - loss: 0.1814 - mae: 0.1814\n",
            "Epoch 438/500\n",
            "3/3 [==============================] - 0s 7ms/step - loss: 0.2191 - mae: 0.2191\n",
            "Epoch 439/500\n",
            "3/3 [==============================] - 0s 7ms/step - loss: 0.1307 - mae: 0.1307\n",
            "Epoch 440/500\n",
            "3/3 [==============================] - 0s 8ms/step - loss: 0.1359 - mae: 0.1359\n",
            "Epoch 441/500\n",
            "3/3 [==============================] - 0s 8ms/step - loss: 0.1663 - mae: 0.1663\n",
            "Epoch 442/500\n",
            "3/3 [==============================] - 0s 7ms/step - loss: 0.2811 - mae: 0.2811\n",
            "Epoch 443/500\n",
            "3/3 [==============================] - 0s 14ms/step - loss: 0.1223 - mae: 0.1223\n",
            "Epoch 444/500\n",
            "3/3 [==============================] - 0s 6ms/step - loss: 0.1002 - mae: 0.1002\n",
            "Epoch 445/500\n",
            "3/3 [==============================] - 0s 8ms/step - loss: 0.1985 - mae: 0.1985\n",
            "Epoch 446/500\n",
            "3/3 [==============================] - 0s 4ms/step - loss: 0.2346 - mae: 0.2346\n",
            "Epoch 447/500\n",
            "3/3 [==============================] - 0s 4ms/step - loss: 0.1132 - mae: 0.1132\n",
            "Epoch 448/500\n",
            "3/3 [==============================] - 0s 4ms/step - loss: 0.0900 - mae: 0.0900\n",
            "Epoch 449/500\n",
            "3/3 [==============================] - 0s 8ms/step - loss: 0.1174 - mae: 0.1174\n",
            "Epoch 450/500\n",
            "3/3 [==============================] - 0s 10ms/step - loss: 0.0786 - mae: 0.0786\n",
            "Epoch 451/500\n",
            "3/3 [==============================] - 0s 9ms/step - loss: 0.0542 - mae: 0.0542\n",
            "Epoch 452/500\n",
            "3/3 [==============================] - 0s 10ms/step - loss: 0.0676 - mae: 0.0676\n",
            "Epoch 453/500\n",
            "3/3 [==============================] - 0s 6ms/step - loss: 0.0510 - mae: 0.0510\n",
            "Epoch 454/500\n",
            "3/3 [==============================] - 0s 7ms/step - loss: 0.0664 - mae: 0.0664\n",
            "Epoch 455/500\n",
            "3/3 [==============================] - 0s 11ms/step - loss: 0.0805 - mae: 0.0805\n",
            "Epoch 456/500\n",
            "3/3 [==============================] - 0s 12ms/step - loss: 0.1261 - mae: 0.1261\n",
            "Epoch 457/500\n",
            "3/3 [==============================] - 0s 8ms/step - loss: 0.1434 - mae: 0.1434\n",
            "Epoch 458/500\n",
            "3/3 [==============================] - 0s 8ms/step - loss: 0.2322 - mae: 0.2322\n",
            "Epoch 459/500\n",
            "3/3 [==============================] - 0s 10ms/step - loss: 0.1485 - mae: 0.1485\n",
            "Epoch 460/500\n",
            "3/3 [==============================] - 0s 6ms/step - loss: 0.1688 - mae: 0.1688\n",
            "Epoch 461/500\n",
            "3/3 [==============================] - 0s 6ms/step - loss: 0.2865 - mae: 0.2865\n",
            "Epoch 462/500\n",
            "3/3 [==============================] - 0s 7ms/step - loss: 0.3119 - mae: 0.3119\n",
            "Epoch 463/500\n",
            "3/3 [==============================] - 0s 10ms/step - loss: 0.1941 - mae: 0.1941\n",
            "Epoch 464/500\n",
            "3/3 [==============================] - 0s 8ms/step - loss: 0.3610 - mae: 0.3610\n",
            "Epoch 465/500\n",
            "3/3 [==============================] - 0s 11ms/step - loss: 0.1619 - mae: 0.1619\n",
            "Epoch 466/500\n",
            "3/3 [==============================] - 0s 10ms/step - loss: 0.1812 - mae: 0.1812\n",
            "Epoch 467/500\n",
            "3/3 [==============================] - 0s 9ms/step - loss: 0.0917 - mae: 0.0917\n",
            "Epoch 468/500\n",
            "3/3 [==============================] - 0s 9ms/step - loss: 0.0804 - mae: 0.0804\n",
            "Epoch 469/500\n",
            "3/3 [==============================] - 0s 4ms/step - loss: 0.1686 - mae: 0.1686\n",
            "Epoch 470/500\n",
            "3/3 [==============================] - 0s 7ms/step - loss: 0.2777 - mae: 0.2777\n",
            "Epoch 471/500\n",
            "3/3 [==============================] - 0s 8ms/step - loss: 0.0967 - mae: 0.0967\n",
            "Epoch 472/500\n",
            "3/3 [==============================] - 0s 5ms/step - loss: 0.0689 - mae: 0.0689\n",
            "Epoch 473/500\n",
            "3/3 [==============================] - 0s 6ms/step - loss: 0.0382 - mae: 0.0382\n",
            "Epoch 474/500\n",
            "3/3 [==============================] - 0s 8ms/step - loss: 0.0979 - mae: 0.0979\n",
            "Epoch 475/500\n",
            "3/3 [==============================] - 0s 8ms/step - loss: 0.1555 - mae: 0.1555\n",
            "Epoch 476/500\n",
            "3/3 [==============================] - 0s 8ms/step - loss: 0.0761 - mae: 0.0761\n",
            "Epoch 477/500\n",
            "3/3 [==============================] - 0s 8ms/step - loss: 0.0790 - mae: 0.0790\n",
            "Epoch 478/500\n",
            "3/3 [==============================] - 0s 7ms/step - loss: 0.2359 - mae: 0.2359\n",
            "Epoch 479/500\n",
            "3/3 [==============================] - 0s 5ms/step - loss: 0.1574 - mae: 0.1574\n",
            "Epoch 480/500\n",
            "3/3 [==============================] - 0s 6ms/step - loss: 0.1416 - mae: 0.1416\n",
            "Epoch 481/500\n",
            "3/3 [==============================] - 0s 5ms/step - loss: 0.1746 - mae: 0.1746\n",
            "Epoch 482/500\n",
            "3/3 [==============================] - 0s 6ms/step - loss: 0.1700 - mae: 0.1700\n",
            "Epoch 483/500\n",
            "3/3 [==============================] - 0s 8ms/step - loss: 0.1903 - mae: 0.1903\n",
            "Epoch 484/500\n",
            "3/3 [==============================] - 0s 5ms/step - loss: 0.1455 - mae: 0.1455\n",
            "Epoch 485/500\n",
            "3/3 [==============================] - 0s 6ms/step - loss: 0.1629 - mae: 0.1629\n",
            "Epoch 486/500\n",
            "3/3 [==============================] - 0s 5ms/step - loss: 0.0710 - mae: 0.0710\n",
            "Epoch 487/500\n",
            "3/3 [==============================] - 0s 6ms/step - loss: 0.1187 - mae: 0.1187\n",
            "Epoch 488/500\n",
            "3/3 [==============================] - 0s 5ms/step - loss: 0.1261 - mae: 0.1261\n",
            "Epoch 489/500\n",
            "3/3 [==============================] - 0s 5ms/step - loss: 0.0551 - mae: 0.0551\n",
            "Epoch 490/500\n",
            "3/3 [==============================] - 0s 5ms/step - loss: 0.0443 - mae: 0.0443\n",
            "Epoch 491/500\n",
            "3/3 [==============================] - 0s 4ms/step - loss: 0.0453 - mae: 0.0453\n",
            "Epoch 492/500\n",
            "3/3 [==============================] - 0s 4ms/step - loss: 0.0795 - mae: 0.0795\n",
            "Epoch 493/500\n",
            "3/3 [==============================] - 0s 4ms/step - loss: 0.1844 - mae: 0.1844\n",
            "Epoch 494/500\n",
            "3/3 [==============================] - 0s 4ms/step - loss: 0.0386 - mae: 0.0386\n",
            "Epoch 495/500\n",
            "3/3 [==============================] - 0s 5ms/step - loss: 0.1129 - mae: 0.1129\n",
            "Epoch 496/500\n",
            "3/3 [==============================] - 0s 5ms/step - loss: 0.1893 - mae: 0.1893\n",
            "Epoch 497/500\n",
            "3/3 [==============================] - 0s 5ms/step - loss: 0.1701 - mae: 0.1701\n",
            "Epoch 498/500\n",
            "3/3 [==============================] - 0s 6ms/step - loss: 0.2838 - mae: 0.2838\n",
            "Epoch 499/500\n",
            "3/3 [==============================] - 0s 6ms/step - loss: 0.2681 - mae: 0.2681\n",
            "Epoch 500/500\n",
            "3/3 [==============================] - 0s 4ms/step - loss: 0.1697 - mae: 0.1697\n"
          ]
        },
        {
          "output_type": "execute_result",
          "data": {
            "text/plain": [
              "<keras.callbacks.History at 0x7f3c740f3dd0>"
            ]
          },
          "metadata": {},
          "execution_count": 51
        }
      ]
    },
    {
      "cell_type": "code",
      "source": [
        "model_a.predict([15.0])"
      ],
      "metadata": {
        "colab": {
          "base_uri": "https://localhost:8080/"
        },
        "id": "Hp1kJutOV9F7",
        "outputId": "d1ef7219-12d1-4ac3-dda8-9ab22ca1cef0"
      },
      "execution_count": null,
      "outputs": [
        {
          "output_type": "stream",
          "name": "stdout",
          "text": [
            "WARNING:tensorflow:5 out of the last 5 calls to <function Model.make_predict_function.<locals>.predict_function at 0x7f3c74119170> triggered tf.function retracing. Tracing is expensive and the excessive number of tracings could be due to (1) creating @tf.function repeatedly in a loop, (2) passing tensors with different shapes, (3) passing Python objects instead of tensors. For (1), please define your @tf.function outside of the loop. For (2), @tf.function has experimental_relax_shapes=True option that relaxes argument shapes that can avoid unnecessary retracing. For (3), please refer to https://www.tensorflow.org/guide/function#controlling_retracing and https://www.tensorflow.org/api_docs/python/tf/function for  more details.\n"
          ]
        },
        {
          "output_type": "execute_result",
          "data": {
            "text/plain": [
              "array([[25.127928]], dtype=float32)"
            ]
          },
          "metadata": {},
          "execution_count": 52
        }
      ]
    },
    {
      "cell_type": "code",
      "source": [
        "model_a.evaluate(a_test, b_test)"
      ],
      "metadata": {
        "colab": {
          "base_uri": "https://localhost:8080/"
        },
        "id": "O8OOPIJAWanD",
        "outputId": "b146ffc6-35d1-4eae-9652-6d0bf3de4073"
      },
      "execution_count": null,
      "outputs": [
        {
          "output_type": "stream",
          "name": "stdout",
          "text": [
            "1/1 [==============================] - 0s 132ms/step - loss: 0.6559 - mae: 0.6559\n"
          ]
        },
        {
          "output_type": "execute_result",
          "data": {
            "text/plain": [
              "[0.655941367149353, 0.655941367149353]"
            ]
          },
          "metadata": {},
          "execution_count": 53
        }
      ]
    },
    {
      "cell_type": "code",
      "source": [
        "model_a.summary()"
      ],
      "metadata": {
        "colab": {
          "base_uri": "https://localhost:8080/"
        },
        "id": "XRcFKWXNWqg1",
        "outputId": "17686520-90b8-4a8e-d9ea-516be0355896"
      },
      "execution_count": null,
      "outputs": [
        {
          "output_type": "stream",
          "name": "stdout",
          "text": [
            "Model: \"Model_A\"\n",
            "_________________________________________________________________\n",
            " Layer (type)                Output Shape              Param #   \n",
            "=================================================================\n",
            " dense_5 (Dense)             (None, 50)                100       \n",
            "                                                                 \n",
            " Output_Layer (Dense)        (None, 1)                 51        \n",
            "                                                                 \n",
            "=================================================================\n",
            "Total params: 151\n",
            "Trainable params: 151\n",
            "Non-trainable params: 0\n",
            "_________________________________________________________________\n"
          ]
        }
      ]
    },
    {
      "cell_type": "code",
      "source": [
        "from tensorflow.keras.utils import plot_model\n",
        "\n",
        "plot_model(model=model_a, show_shapes=True)"
      ],
      "metadata": {
        "colab": {
          "base_uri": "https://localhost:8080/"
        },
        "id": "bhHWo0SDXyTM",
        "outputId": "ffb7c75c-5cb6-4d9a-8d6f-6f468f1a6e23"
      },
      "execution_count": null,
      "outputs": [
        {
          "output_type": "execute_result",
          "data": {
            "text/plain": [
              "<IPython.core.display.Image object>"
            ],
            "image/png": "[encoded data removed]"
          },
          "metadata": {},
          "execution_count": 55
        }
      ]
    },
    {
      "cell_type": "code",
      "source": [
        "b_pred = model_a.predict(a_test)\n",
        "b_pred"
      ],
      "metadata": {
        "colab": {
          "base_uri": "https://localhost:8080/"
        },
        "id": "YIG2c5FgYI6g",
        "outputId": "005c0799-cf47-40b9-e216-6a4f79991afc"
      },
      "execution_count": null,
      "outputs": [
        {
          "output_type": "execute_result",
          "data": {
            "text/plain": [
              "array([[ 70.499176],\n",
              "       [ 72.515686],\n",
              "       [ 74.53219 ],\n",
              "       [ 76.54869 ],\n",
              "       [ 78.5652  ],\n",
              "       [ 80.58169 ],\n",
              "       [ 82.59819 ],\n",
              "       [ 84.61469 ],\n",
              "       [ 86.63119 ],\n",
              "       [ 88.64769 ],\n",
              "       [ 90.66419 ],\n",
              "       [ 92.6807  ],\n",
              "       [ 94.69719 ],\n",
              "       [ 96.71369 ],\n",
              "       [ 98.730194],\n",
              "       [100.7467  ],\n",
              "       [102.76319 ],\n",
              "       [104.77969 ],\n",
              "       [106.7962  ],\n",
              "       [108.8127  ]], dtype=float32)"
            ]
          },
          "metadata": {},
          "execution_count": 56
        }
      ]
    },
    {
      "cell_type": "code",
      "source": [
        "# Let's create a plotting function\n",
        "def plot_predictions(train_data,\n",
        "                     train_labels,\n",
        "                     test_data,\n",
        "                     test_labels,\n",
        "                     predictions):\n",
        "\n",
        "  \"\"\"\n",
        "  Plots training data, test data and compares predictions to ground truth labels.\n",
        "  \"\"\"\n",
        "\n",
        "  plt.figure(figsize=(10,7))\n",
        "  # Plot training data in blue\n",
        "  plt.scatter(train_data, train_labels, c=\"b\", label=\"Training data\")\n",
        "  # Plot testing data in green\n",
        "  plt.scatter(test_data, test_labels, c=\"g\", label=\"Testing data\")\n",
        "  # Plot model's predictions in red\n",
        "  plt.scatter(test_data, predictions, c=\"r\", label=\"Predictions\")\n",
        "  plt.legend()"
      ],
      "metadata": {
        "id": "heiShwppYggp"
      },
      "execution_count": null,
      "outputs": []
    },
    {
      "cell_type": "code",
      "source": [
        "plot_predictions(a_train, b_train, a_test, b_test, b_pred)"
      ],
      "metadata": {
        "colab": {
          "base_uri": "https://localhost:8080/"
        },
        "id": "7PdI-1YrY5uZ",
        "outputId": "5ba9aab2-997f-4776-ff5c-2aa2cb9e3a5a"
      },
      "execution_count": null,
      "outputs": [
        {
          "output_type": "display_data",
          "data": {
            "text/plain": [
              "<Figure size 720x504 with 1 Axes>"
            ],
            "image/png": "[encoded data removed]"
          },
          "metadata": {
            "needs_background": "light"
          }
        }
      ]
    },
    {
      "cell_type": "code",
      "source": [
        "tf.constant(b_pred)"
      ],
      "metadata": {
        "colab": {
          "base_uri": "https://localhost:8080/"
        },
        "id": "LcUGnXJmZEnc",
        "outputId": "cdfc3d8e-b5de-401e-89bf-0e52e80915c1"
      },
      "execution_count": null,
      "outputs": [
        {
          "output_type": "execute_result",
          "data": {
            "text/plain": [
              "<tf.Tensor: shape=(20, 1), dtype=float32, numpy=\n",
              "array([[ 70.499176],\n",
              "       [ 72.515686],\n",
              "       [ 74.53219 ],\n",
              "       [ 76.54869 ],\n",
              "       [ 78.5652  ],\n",
              "       [ 80.58169 ],\n",
              "       [ 82.59819 ],\n",
              "       [ 84.61469 ],\n",
              "       [ 86.63119 ],\n",
              "       [ 88.64769 ],\n",
              "       [ 90.66419 ],\n",
              "       [ 92.6807  ],\n",
              "       [ 94.69719 ],\n",
              "       [ 96.71369 ],\n",
              "       [ 98.730194],\n",
              "       [100.7467  ],\n",
              "       [102.76319 ],\n",
              "       [104.77969 ],\n",
              "       [106.7962  ],\n",
              "       [108.8127  ]], dtype=float32)>"
            ]
          },
          "metadata": {},
          "execution_count": 59
        }
      ]
    },
    {
      "cell_type": "code",
      "source": [
        "b_pred = tf.squeeze(b_pred)\n",
        "b_pred"
      ],
      "metadata": {
        "colab": {
          "base_uri": "https://localhost:8080/"
        },
        "id": "xmNoaQUHZK8a",
        "outputId": "5afb37a8-b99c-471c-b7bd-231b9698f3ee"
      },
      "execution_count": null,
      "outputs": [
        {
          "output_type": "execute_result",
          "data": {
            "text/plain": [
              "<tf.Tensor: shape=(20,), dtype=float32, numpy=\n",
              "array([ 70.499176,  72.515686,  74.53219 ,  76.54869 ,  78.5652  ,\n",
              "        80.58169 ,  82.59819 ,  84.61469 ,  86.63119 ,  88.64769 ,\n",
              "        90.66419 ,  92.6807  ,  94.69719 ,  96.71369 ,  98.730194,\n",
              "       100.7467  , 102.76319 , 104.77969 , 106.7962  , 108.8127  ],\n",
              "      dtype=float32)>"
            ]
          },
          "metadata": {},
          "execution_count": 60
        }
      ]
    },
    {
      "cell_type": "code",
      "source": [
        "def maeEvaluation(y_true, y_pred):\n",
        "   return tf.metrics.mean_absolute_error(y_true=y_true, y_pred=y_pred)\n",
        "\n",
        "def mseEvaluation(y_true, y_pred):\n",
        "  return tf.metrics.mean_squared_error(y_true=y_true, y_pred=y_pred)"
      ],
      "metadata": {
        "id": "wmHYQpO4ZRut"
      },
      "execution_count": null,
      "outputs": []
    },
    {
      "cell_type": "code",
      "source": [
        "maeEvaluation(b_test, b_pred)"
      ],
      "metadata": {
        "colab": {
          "base_uri": "https://localhost:8080/"
        },
        "id": "J3RkQipIZyyx",
        "outputId": "feff342c-fc4a-4995-a738-e4ccbd95ff69"
      },
      "execution_count": null,
      "outputs": [
        {
          "output_type": "execute_result",
          "data": {
            "text/plain": [
              "<tf.Tensor: shape=(), dtype=float32, numpy=0.65594214>"
            ]
          },
          "metadata": {},
          "execution_count": 62
        }
      ]
    },
    {
      "cell_type": "code",
      "source": [
        "mseEvaluation(b_test, b_pred)"
      ],
      "metadata": {
        "colab": {
          "base_uri": "https://localhost:8080/"
        },
        "id": "MFFfe0W9Z4Tx",
        "outputId": "1e3c8310-f7b9-41db-d292-f918d9b295bb"
      },
      "execution_count": null,
      "outputs": [
        {
          "output_type": "execute_result",
          "data": {
            "text/plain": [
              "<tf.Tensor: shape=(), dtype=float32, numpy=0.4393131>"
            ]
          },
          "metadata": {},
          "execution_count": 63
        }
      ]
    },
    {
      "cell_type": "markdown",
      "source": [
        "### Back to learn"
      ],
      "metadata": {
        "id": "sMuJaJe6Z8pb"
      }
    },
    {
      "cell_type": "markdown",
      "source": [
        "### Build Model_1"
      ],
      "metadata": {
        "id": "VLUzir0ra0-4"
      }
    },
    {
      "cell_type": "code",
      "source": [
        "# set random seed\n",
        "tf.random.set_seed(42)\n",
        "\n",
        "# 1. Create the model\n",
        "model_1 = tf.keras.Sequential([\n",
        "                               tf.keras.layers.Input(shape=(1,)),\n",
        "                               tf.keras.layers.Dense(1)\n",
        "])\n",
        "\n",
        "# 2. Compile the model\n",
        "model_1.compile(loss=tf.keras.losses.mae,\n",
        "                optimizer=tf.keras.optimizers.SGD(),\n",
        "                metrics=[\"mae\"])\n",
        "\n",
        "# 3. Fit the model\n",
        "model_1.fit(X_train, Y_train, epochs=100)"
      ],
      "metadata": {
        "colab": {
          "base_uri": "https://localhost:8080/"
        },
        "id": "nXiIrlSfb61U",
        "outputId": "2e1ad3ec-a624-484b-9837-e8d3e2e44787"
      },
      "execution_count": null,
      "outputs": [
        {
          "output_type": "stream",
          "name": "stdout",
          "text": [
            "Epoch 1/100\n",
            "2/2 [==============================] - 0s 7ms/step - loss: 15.9024 - mae: 15.9024\n",
            "Epoch 2/100\n",
            "2/2 [==============================] - 0s 9ms/step - loss: 11.2837 - mae: 11.2837\n",
            "Epoch 3/100\n",
            "2/2 [==============================] - 0s 5ms/step - loss: 11.1074 - mae: 11.1074\n",
            "Epoch 4/100\n",
            "2/2 [==============================] - 0s 6ms/step - loss: 9.2991 - mae: 9.2991\n",
            "Epoch 5/100\n",
            "2/2 [==============================] - 0s 7ms/step - loss: 10.1677 - mae: 10.1677\n",
            "Epoch 6/100\n",
            "2/2 [==============================] - 0s 9ms/step - loss: 9.4303 - mae: 9.4303\n",
            "Epoch 7/100\n",
            "2/2 [==============================] - 0s 8ms/step - loss: 8.5704 - mae: 8.5704\n",
            "Epoch 8/100\n",
            "2/2 [==============================] - 0s 5ms/step - loss: 9.0442 - mae: 9.0442\n",
            "Epoch 9/100\n",
            "2/2 [==============================] - 0s 5ms/step - loss: 18.7517 - mae: 18.7517\n",
            "Epoch 10/100\n",
            "2/2 [==============================] - 0s 7ms/step - loss: 10.1142 - mae: 10.1142\n",
            "Epoch 11/100\n",
            "2/2 [==============================] - 0s 5ms/step - loss: 8.3980 - mae: 8.3980\n",
            "Epoch 12/100\n",
            "2/2 [==============================] - 0s 5ms/step - loss: 10.6639 - mae: 10.6639\n",
            "Epoch 13/100\n",
            "2/2 [==============================] - 0s 7ms/step - loss: 9.7977 - mae: 9.7977\n",
            "Epoch 14/100\n",
            "2/2 [==============================] - 0s 5ms/step - loss: 16.0103 - mae: 16.0103\n",
            "Epoch 15/100\n",
            "2/2 [==============================] - 0s 6ms/step - loss: 11.4068 - mae: 11.4068\n",
            "Epoch 16/100\n",
            "2/2 [==============================] - 0s 7ms/step - loss: 8.5393 - mae: 8.5393\n",
            "Epoch 17/100\n",
            "2/2 [==============================] - 0s 6ms/step - loss: 13.6348 - mae: 13.6348\n",
            "Epoch 18/100\n",
            "2/2 [==============================] - 0s 7ms/step - loss: 11.4629 - mae: 11.4629\n",
            "Epoch 19/100\n",
            "2/2 [==============================] - 0s 7ms/step - loss: 17.9148 - mae: 17.9148\n",
            "Epoch 20/100\n",
            "2/2 [==============================] - 0s 9ms/step - loss: 15.0494 - mae: 15.0494\n",
            "Epoch 21/100\n",
            "2/2 [==============================] - 0s 6ms/step - loss: 11.0216 - mae: 11.0216\n",
            "Epoch 22/100\n",
            "2/2 [==============================] - 0s 7ms/step - loss: 8.1558 - mae: 8.1558\n",
            "Epoch 23/100\n",
            "2/2 [==============================] - 0s 8ms/step - loss: 9.5138 - mae: 9.5138\n",
            "Epoch 24/100\n",
            "2/2 [==============================] - 0s 8ms/step - loss: 7.6617 - mae: 7.6617\n",
            "Epoch 25/100\n",
            "2/2 [==============================] - 0s 4ms/step - loss: 13.1859 - mae: 13.1859\n",
            "Epoch 26/100\n",
            "2/2 [==============================] - 0s 4ms/step - loss: 16.4211 - mae: 16.4211\n",
            "Epoch 27/100\n",
            "2/2 [==============================] - 0s 5ms/step - loss: 13.1660 - mae: 13.1660\n",
            "Epoch 28/100\n",
            "2/2 [==============================] - 0s 4ms/step - loss: 14.2559 - mae: 14.2559\n",
            "Epoch 29/100\n",
            "2/2 [==============================] - 0s 5ms/step - loss: 10.0670 - mae: 10.0670\n",
            "Epoch 30/100\n",
            "2/2 [==============================] - 0s 4ms/step - loss: 16.3409 - mae: 16.3409\n",
            "Epoch 31/100\n",
            "2/2 [==============================] - 0s 4ms/step - loss: 23.6444 - mae: 23.6444\n",
            "Epoch 32/100\n",
            "2/2 [==============================] - 0s 5ms/step - loss: 7.6215 - mae: 7.6215\n",
            "Epoch 33/100\n",
            "2/2 [==============================] - 0s 5ms/step - loss: 9.3221 - mae: 9.3221\n",
            "Epoch 34/100\n",
            "2/2 [==============================] - 0s 5ms/step - loss: 13.7313 - mae: 13.7313\n",
            "Epoch 35/100\n",
            "2/2 [==============================] - 0s 5ms/step - loss: 11.1276 - mae: 11.1276\n",
            "Epoch 36/100\n",
            "2/2 [==============================] - 0s 5ms/step - loss: 13.3222 - mae: 13.3222\n",
            "Epoch 37/100\n",
            "2/2 [==============================] - 0s 4ms/step - loss: 9.4763 - mae: 9.4763\n",
            "Epoch 38/100\n",
            "2/2 [==============================] - 0s 5ms/step - loss: 10.1381 - mae: 10.1381\n",
            "Epoch 39/100\n",
            "2/2 [==============================] - 0s 5ms/step - loss: 10.1793 - mae: 10.1793\n",
            "Epoch 40/100\n",
            "2/2 [==============================] - 0s 5ms/step - loss: 10.9137 - mae: 10.9137\n",
            "Epoch 41/100\n",
            "2/2 [==============================] - 0s 5ms/step - loss: 7.9063 - mae: 7.9063\n",
            "Epoch 42/100\n",
            "2/2 [==============================] - 0s 5ms/step - loss: 10.0914 - mae: 10.0914\n",
            "Epoch 43/100\n",
            "2/2 [==============================] - 0s 5ms/step - loss: 8.7006 - mae: 8.7006\n",
            "Epoch 44/100\n",
            "2/2 [==============================] - 0s 5ms/step - loss: 12.2047 - mae: 12.2047\n",
            "Epoch 45/100\n",
            "2/2 [==============================] - 0s 5ms/step - loss: 13.7970 - mae: 13.7970\n",
            "Epoch 46/100\n",
            "2/2 [==============================] - 0s 5ms/step - loss: 8.4687 - mae: 8.4687\n",
            "Epoch 47/100\n",
            "2/2 [==============================] - 0s 4ms/step - loss: 9.1330 - mae: 9.1330\n",
            "Epoch 48/100\n",
            "2/2 [==============================] - 0s 5ms/step - loss: 10.6190 - mae: 10.6190\n",
            "Epoch 49/100\n",
            "2/2 [==============================] - 0s 7ms/step - loss: 7.7503 - mae: 7.7503\n",
            "Epoch 50/100\n",
            "2/2 [==============================] - 0s 5ms/step - loss: 9.5407 - mae: 9.5407\n",
            "Epoch 51/100\n",
            "2/2 [==============================] - 0s 5ms/step - loss: 9.1584 - mae: 9.1584\n",
            "Epoch 52/100\n",
            "2/2 [==============================] - 0s 6ms/step - loss: 16.3630 - mae: 16.3630\n",
            "Epoch 53/100\n",
            "2/2 [==============================] - 0s 4ms/step - loss: 14.1299 - mae: 14.1299\n",
            "Epoch 54/100\n",
            "2/2 [==============================] - 0s 5ms/step - loss: 21.1247 - mae: 21.1247\n",
            "Epoch 55/100\n",
            "2/2 [==============================] - 0s 5ms/step - loss: 16.3961 - mae: 16.3961\n",
            "Epoch 56/100\n",
            "2/2 [==============================] - 0s 4ms/step - loss: 9.9806 - mae: 9.9806\n",
            "Epoch 57/100\n",
            "2/2 [==============================] - 0s 4ms/step - loss: 9.9606 - mae: 9.9606\n",
            "Epoch 58/100\n",
            "2/2 [==============================] - 0s 6ms/step - loss: 9.2209 - mae: 9.2209\n",
            "Epoch 59/100\n",
            "2/2 [==============================] - 0s 4ms/step - loss: 8.4239 - mae: 8.4239\n",
            "Epoch 60/100\n",
            "2/2 [==============================] - 0s 4ms/step - loss: 9.4869 - mae: 9.4869\n",
            "Epoch 61/100\n",
            "2/2 [==============================] - 0s 6ms/step - loss: 11.4355 - mae: 11.4355\n",
            "Epoch 62/100\n",
            "2/2 [==============================] - 0s 6ms/step - loss: 11.6887 - mae: 11.6887\n",
            "Epoch 63/100\n",
            "2/2 [==============================] - 0s 5ms/step - loss: 7.0838 - mae: 7.0838\n",
            "Epoch 64/100\n",
            "2/2 [==============================] - 0s 5ms/step - loss: 16.9675 - mae: 16.9675\n",
            "Epoch 65/100\n",
            "2/2 [==============================] - 0s 5ms/step - loss: 12.4599 - mae: 12.4599\n",
            "Epoch 66/100\n",
            "2/2 [==============================] - 0s 6ms/step - loss: 13.0184 - mae: 13.0184\n",
            "Epoch 67/100\n",
            "2/2 [==============================] - 0s 5ms/step - loss: 8.0600 - mae: 8.0600\n",
            "Epoch 68/100\n",
            "2/2 [==============================] - 0s 5ms/step - loss: 10.1888 - mae: 10.1888\n",
            "Epoch 69/100\n",
            "2/2 [==============================] - 0s 5ms/step - loss: 12.3633 - mae: 12.3633\n",
            "Epoch 70/100\n",
            "2/2 [==============================] - 0s 5ms/step - loss: 9.0516 - mae: 9.0516\n",
            "Epoch 71/100\n",
            "2/2 [==============================] - 0s 6ms/step - loss: 10.0378 - mae: 10.0378\n",
            "Epoch 72/100\n",
            "2/2 [==============================] - 0s 4ms/step - loss: 10.0516 - mae: 10.0516\n",
            "Epoch 73/100\n",
            "2/2 [==============================] - 0s 5ms/step - loss: 12.6151 - mae: 12.6151\n",
            "Epoch 74/100\n",
            "2/2 [==============================] - 0s 13ms/step - loss: 10.3819 - mae: 10.3819\n",
            "Epoch 75/100\n",
            "2/2 [==============================] - 0s 5ms/step - loss: 9.7229 - mae: 9.7229\n",
            "Epoch 76/100\n",
            "2/2 [==============================] - 0s 5ms/step - loss: 11.2252 - mae: 11.2252\n",
            "Epoch 77/100\n",
            "2/2 [==============================] - 0s 8ms/step - loss: 8.3642 - mae: 8.3642\n",
            "Epoch 78/100\n",
            "2/2 [==============================] - 0s 7ms/step - loss: 9.1274 - mae: 9.1274\n",
            "Epoch 79/100\n",
            "2/2 [==============================] - 0s 5ms/step - loss: 19.5039 - mae: 19.5039\n",
            "Epoch 80/100\n",
            "2/2 [==============================] - 0s 5ms/step - loss: 14.8945 - mae: 14.8945\n",
            "Epoch 81/100\n",
            "2/2 [==============================] - 0s 8ms/step - loss: 9.0034 - mae: 9.0034\n",
            "Epoch 82/100\n",
            "2/2 [==============================] - 0s 5ms/step - loss: 13.0206 - mae: 13.0206\n",
            "Epoch 83/100\n",
            "2/2 [==============================] - 0s 5ms/step - loss: 7.9299 - mae: 7.9299\n",
            "Epoch 84/100\n",
            "2/2 [==============================] - 0s 5ms/step - loss: 7.6872 - mae: 7.6872\n",
            "Epoch 85/100\n",
            "2/2 [==============================] - 0s 9ms/step - loss: 10.0328 - mae: 10.0328\n",
            "Epoch 86/100\n",
            "2/2 [==============================] - 0s 6ms/step - loss: 9.2433 - mae: 9.2433\n",
            "Epoch 87/100\n",
            "2/2 [==============================] - 0s 9ms/step - loss: 12.0209 - mae: 12.0209\n",
            "Epoch 88/100\n",
            "2/2 [==============================] - 0s 6ms/step - loss: 10.6389 - mae: 10.6389\n",
            "Epoch 89/100\n",
            "2/2 [==============================] - 0s 6ms/step - loss: 7.2667 - mae: 7.2667\n",
            "Epoch 90/100\n",
            "2/2 [==============================] - 0s 6ms/step - loss: 12.7786 - mae: 12.7786\n",
            "Epoch 91/100\n",
            "2/2 [==============================] - 0s 9ms/step - loss: 7.3481 - mae: 7.3481\n",
            "Epoch 92/100\n",
            "2/2 [==============================] - 0s 7ms/step - loss: 7.7175 - mae: 7.7175\n",
            "Epoch 93/100\n",
            "2/2 [==============================] - 0s 5ms/step - loss: 7.1263 - mae: 7.1263\n",
            "Epoch 94/100\n",
            "2/2 [==============================] - 0s 5ms/step - loss: 12.6190 - mae: 12.6190\n",
            "Epoch 95/100\n",
            "2/2 [==============================] - 0s 6ms/step - loss: 10.0912 - mae: 10.0912\n",
            "Epoch 96/100\n",
            "2/2 [==============================] - 0s 6ms/step - loss: 9.3558 - mae: 9.3558\n",
            "Epoch 97/100\n",
            "2/2 [==============================] - 0s 10ms/step - loss: 12.6834 - mae: 12.6834\n",
            "Epoch 98/100\n",
            "2/2 [==============================] - 0s 5ms/step - loss: 8.6762 - mae: 8.6762\n",
            "Epoch 99/100\n",
            "2/2 [==============================] - 0s 6ms/step - loss: 9.4693 - mae: 9.4693\n",
            "Epoch 100/100\n",
            "2/2 [==============================] - 0s 7ms/step - loss: 8.7067 - mae: 8.7067\n"
          ]
        },
        {
          "output_type": "execute_result",
          "data": {
            "text/plain": [
              "<keras.callbacks.History at 0x7f3c73fc0910>"
            ]
          },
          "metadata": {},
          "execution_count": 64
        }
      ]
    },
    {
      "cell_type": "code",
      "source": [
        "# Make Prediction for model_1\n",
        "Y_preds_1 = model_1.predict(X_test)\n",
        "plot_predictions(X_train, Y_train, X_test, Y_test, predictions=Y_preds_1)"
      ],
      "metadata": {
        "colab": {
          "base_uri": "https://localhost:8080/",
          "height": 465
        },
        "id": "ctfoMpzrcp1M",
        "outputId": "9aa35ea0-a637-4509-89ed-093e9b59b52c"
      },
      "execution_count": null,
      "outputs": [
        {
          "output_type": "stream",
          "name": "stdout",
          "text": [
            "WARNING:tensorflow:6 out of the last 7 calls to <function Model.make_predict_function.<locals>.predict_function at 0x7f3bee644b90> triggered tf.function retracing. Tracing is expensive and the excessive number of tracings could be due to (1) creating @tf.function repeatedly in a loop, (2) passing tensors with different shapes, (3) passing Python objects instead of tensors. For (1), please define your @tf.function outside of the loop. For (2), @tf.function has experimental_relax_shapes=True option that relaxes argument shapes that can avoid unnecessary retracing. For (3), please refer to https://www.tensorflow.org/guide/function#controlling_retracing and https://www.tensorflow.org/api_docs/python/tf/function for  more details.\n"
          ]
        },
        {
          "output_type": "display_data",
          "data": {
            "text/plain": [
              "<Figure size 720x504 with 1 Axes>"
            ],
            "image/png": "[encoded data removed]"
          },
          "metadata": {
            "needs_background": "light"
          }
        }
      ]
    },
    {
      "cell_type": "code",
      "source": [
        "# Calculate model_1 evaluation metrics\n",
        "mae_1 = mae(Y_test, Y_preds_1)\n",
        "mse_1 = mse(Y_test, Y_preds_1)\n",
        "mae_1, mse_1"
      ],
      "metadata": {
        "colab": {
          "base_uri": "https://localhost:8080/"
        },
        "id": "vd_d1tSwdMeW",
        "outputId": "e7cbdc98-5690-4ecc-c3f6-989670c73125"
      },
      "execution_count": null,
      "outputs": [
        {
          "output_type": "execute_result",
          "data": {
            "text/plain": [
              "(<tf.Tensor: shape=(), dtype=float32, numpy=18.745327>,\n",
              " <tf.Tensor: shape=(), dtype=float32, numpy=353.57336>)"
            ]
          },
          "metadata": {},
          "execution_count": 66
        }
      ]
    },
    {
      "cell_type": "markdown",
      "source": [
        "**Build `model_2`**\n",
        "\n",
        "* 2 dense layers, trained for 100 epochs"
      ],
      "metadata": {
        "id": "-ftRaisnd3OM"
      }
    },
    {
      "cell_type": "code",
      "source": [
        "# Set the random seed\n",
        "tf.random.set_seed(42)\n",
        "\n",
        "# 1. Create the model\n",
        "model_2 = tf.keras.Sequential([\n",
        "                               tf.keras.layers.Input(shape=(1)),\n",
        "                               tf.keras.layers.Dense(10),\n",
        "                               tf.keras.layers.Dense(1)\n",
        "])\n",
        "\n",
        "# 2. Compile the model \n",
        "model_2.compile(loss = tf.keras.losses.mae,\n",
        "                optimizer=tf.keras.optimizers.SGD(),\n",
        "                metrics=[\"mse\"])\n",
        "\n",
        "# 3. Fit the model\n",
        "model_2.fit(X_train, Y_train, epochs=100)"
      ],
      "metadata": {
        "colab": {
          "base_uri": "https://localhost:8080/"
        },
        "id": "1-64K5z6e5k2",
        "outputId": "45ac5e60-8e86-429e-aed9-f48cc504fb62"
      },
      "execution_count": null,
      "outputs": [
        {
          "output_type": "stream",
          "name": "stdout",
          "text": [
            "Epoch 1/100\n",
            "2/2 [==============================] - 0s 8ms/step - loss: 27.4058 - mse: 1084.1482\n",
            "Epoch 2/100\n",
            "2/2 [==============================] - 0s 8ms/step - loss: 24.6339 - mse: 777.9203\n",
            "Epoch 3/100\n",
            "2/2 [==============================] - 0s 7ms/step - loss: 29.8935 - mse: 1334.8955\n",
            "Epoch 4/100\n",
            "2/2 [==============================] - 0s 7ms/step - loss: 27.4055 - mse: 1106.8035\n",
            "Epoch 5/100\n",
            "2/2 [==============================] - 0s 7ms/step - loss: 14.9463 - mse: 281.1077\n",
            "Epoch 6/100\n",
            "2/2 [==============================] - 0s 5ms/step - loss: 11.8819 - mse: 168.6621\n",
            "Epoch 7/100\n",
            "2/2 [==============================] - 0s 8ms/step - loss: 11.1988 - mse: 151.3509\n",
            "Epoch 8/100\n",
            "2/2 [==============================] - 0s 6ms/step - loss: 11.0910 - mse: 160.3745\n",
            "Epoch 9/100\n",
            "2/2 [==============================] - 0s 4ms/step - loss: 40.4763 - mse: 2586.0090\n",
            "Epoch 10/100\n",
            "2/2 [==============================] - 0s 5ms/step - loss: 27.8688 - mse: 1094.4382\n",
            "Epoch 11/100\n",
            "2/2 [==============================] - 0s 6ms/step - loss: 10.2473 - mse: 147.9359\n",
            "Epoch 12/100\n",
            "2/2 [==============================] - 0s 7ms/step - loss: 25.2803 - mse: 890.3867\n",
            "Epoch 13/100\n",
            "2/2 [==============================] - 0s 6ms/step - loss: 16.9897 - mse: 399.9678\n",
            "Epoch 14/100\n",
            "2/2 [==============================] - 0s 7ms/step - loss: 25.9217 - mse: 1049.5515\n",
            "Epoch 15/100\n",
            "2/2 [==============================] - 0s 6ms/step - loss: 17.9948 - mse: 450.2580\n",
            "Epoch 16/100\n",
            "2/2 [==============================] - 0s 6ms/step - loss: 7.3510 - mse: 80.6206\n",
            "Epoch 17/100\n",
            "2/2 [==============================] - 0s 6ms/step - loss: 10.8636 - mse: 174.7868\n",
            "Epoch 18/100\n",
            "2/2 [==============================] - 0s 6ms/step - loss: 19.5304 - mse: 565.8053\n",
            "Epoch 19/100\n",
            "2/2 [==============================] - 0s 5ms/step - loss: 10.3469 - mse: 167.7749\n",
            "Epoch 20/100\n",
            "2/2 [==============================] - 0s 6ms/step - loss: 17.6985 - mse: 455.7096\n",
            "Epoch 21/100\n",
            "2/2 [==============================] - 0s 5ms/step - loss: 15.8984 - mse: 347.1929\n",
            "Epoch 22/100\n",
            "2/2 [==============================] - 0s 6ms/step - loss: 14.1991 - mse: 285.1767\n",
            "Epoch 23/100\n",
            "2/2 [==============================] - 0s 8ms/step - loss: 8.7720 - mse: 91.7852\n",
            "Epoch 24/100\n",
            "2/2 [==============================] - 0s 5ms/step - loss: 11.0570 - mse: 153.7430\n",
            "Epoch 25/100\n",
            "2/2 [==============================] - 0s 6ms/step - loss: 12.6838 - mse: 233.2949\n",
            "Epoch 26/100\n",
            "2/2 [==============================] - 0s 7ms/step - loss: 26.1877 - mse: 1024.6091\n",
            "Epoch 27/100\n",
            "2/2 [==============================] - 0s 7ms/step - loss: 11.7432 - mse: 194.8454\n",
            "Epoch 28/100\n",
            "2/2 [==============================] - 0s 10ms/step - loss: 22.8730 - mse: 835.6074\n",
            "Epoch 29/100\n",
            "2/2 [==============================] - 0s 9ms/step - loss: 9.2459 - mse: 96.7786\n",
            "Epoch 30/100\n",
            "2/2 [==============================] - 0s 5ms/step - loss: 29.2641 - mse: 1535.1349\n",
            "Epoch 31/100\n",
            "2/2 [==============================] - 0s 6ms/step - loss: 53.0225 - mse: 5030.2988\n",
            "Epoch 32/100\n",
            "2/2 [==============================] - 0s 6ms/step - loss: 11.9951 - mse: 211.7025\n",
            "Epoch 33/100\n",
            "2/2 [==============================] - 0s 4ms/step - loss: 15.6357 - mse: 337.3666\n",
            "Epoch 34/100\n",
            "2/2 [==============================] - 0s 8ms/step - loss: 12.6925 - mse: 214.4823\n",
            "Epoch 35/100\n",
            "2/2 [==============================] - 0s 7ms/step - loss: 9.2398 - mse: 92.9126\n",
            "Epoch 36/100\n",
            "2/2 [==============================] - 0s 7ms/step - loss: 16.6497 - mse: 403.6573\n",
            "Epoch 37/100\n",
            "2/2 [==============================] - 0s 7ms/step - loss: 11.0382 - mse: 192.3919\n",
            "Epoch 38/100\n",
            "2/2 [==============================] - 0s 6ms/step - loss: 18.1634 - mse: 433.6717\n",
            "Epoch 39/100\n",
            "2/2 [==============================] - 0s 4ms/step - loss: 19.1013 - mse: 529.6439\n",
            "Epoch 40/100\n",
            "2/2 [==============================] - 0s 6ms/step - loss: 20.4324 - mse: 610.1324\n",
            "Epoch 41/100\n",
            "2/2 [==============================] - 0s 5ms/step - loss: 14.9102 - mse: 279.6183\n",
            "Epoch 42/100\n",
            "2/2 [==============================] - 0s 6ms/step - loss: 12.2809 - mse: 186.6180\n",
            "Epoch 43/100\n",
            "2/2 [==============================] - 0s 6ms/step - loss: 10.7333 - mse: 167.0952\n",
            "Epoch 44/100\n",
            "2/2 [==============================] - 0s 7ms/step - loss: 23.0260 - mse: 830.4244\n",
            "Epoch 45/100\n",
            "2/2 [==============================] - 0s 5ms/step - loss: 10.3897 - mse: 128.9549\n",
            "Epoch 46/100\n",
            "2/2 [==============================] - 0s 6ms/step - loss: 11.7904 - mse: 181.9212\n",
            "Epoch 47/100\n",
            "2/2 [==============================] - 0s 5ms/step - loss: 9.6438 - mse: 153.8708\n",
            "Epoch 48/100\n",
            "2/2 [==============================] - 0s 6ms/step - loss: 17.2335 - mse: 402.8494\n",
            "Epoch 49/100\n",
            "2/2 [==============================] - 0s 5ms/step - loss: 9.5729 - mse: 99.8337\n",
            "Epoch 50/100\n",
            "2/2 [==============================] - 0s 5ms/step - loss: 13.8185 - mse: 260.3670\n",
            "Epoch 51/100\n",
            "2/2 [==============================] - 0s 4ms/step - loss: 11.5958 - mse: 154.7956\n",
            "Epoch 52/100\n",
            "2/2 [==============================] - 0s 5ms/step - loss: 30.5538 - mse: 1613.0886\n",
            "Epoch 53/100\n",
            "2/2 [==============================] - 0s 6ms/step - loss: 14.3541 - mse: 302.5293\n",
            "Epoch 54/100\n",
            "2/2 [==============================] - 0s 5ms/step - loss: 23.9713 - mse: 859.3983\n",
            "Epoch 55/100\n",
            "2/2 [==============================] - 0s 5ms/step - loss: 23.1938 - mse: 805.5452\n",
            "Epoch 56/100\n",
            "2/2 [==============================] - 0s 5ms/step - loss: 10.8837 - mse: 170.9834\n",
            "Epoch 57/100\n",
            "2/2 [==============================] - 0s 6ms/step - loss: 12.7445 - mse: 198.7015\n",
            "Epoch 58/100\n",
            "2/2 [==============================] - 0s 5ms/step - loss: 9.5995 - mse: 102.5890\n",
            "Epoch 59/100\n",
            "2/2 [==============================] - 0s 5ms/step - loss: 12.5172 - mse: 216.3367\n",
            "Epoch 60/100\n",
            "2/2 [==============================] - 0s 5ms/step - loss: 12.3200 - mse: 208.6371\n",
            "Epoch 61/100\n",
            "2/2 [==============================] - 0s 5ms/step - loss: 17.4604 - mse: 428.6393\n",
            "Epoch 62/100\n",
            "2/2 [==============================] - 0s 5ms/step - loss: 10.6052 - mse: 136.9777\n",
            "Epoch 63/100\n",
            "2/2 [==============================] - 0s 5ms/step - loss: 10.4893 - mse: 152.4555\n",
            "Epoch 64/100\n",
            "2/2 [==============================] - 0s 6ms/step - loss: 24.8450 - mse: 911.7511\n",
            "Epoch 65/100\n",
            "2/2 [==============================] - 0s 5ms/step - loss: 10.6761 - mse: 142.7374\n",
            "Epoch 66/100\n",
            "2/2 [==============================] - 0s 6ms/step - loss: 21.7809 - mse: 704.4492\n",
            "Epoch 67/100\n",
            "2/2 [==============================] - 0s 6ms/step - loss: 10.7136 - mse: 136.0194\n",
            "Epoch 68/100\n",
            "2/2 [==============================] - 0s 10ms/step - loss: 10.6397 - mse: 149.2300\n",
            "Epoch 69/100\n",
            "2/2 [==============================] - 0s 6ms/step - loss: 22.6914 - mse: 742.1761\n",
            "Epoch 70/100\n",
            "2/2 [==============================] - 0s 5ms/step - loss: 9.3316 - mse: 166.1628\n",
            "Epoch 71/100\n",
            "2/2 [==============================] - 0s 5ms/step - loss: 15.4355 - mse: 323.0843\n",
            "Epoch 72/100\n",
            "2/2 [==============================] - 0s 5ms/step - loss: 6.7437 - mse: 67.0210\n",
            "Epoch 73/100\n",
            "2/2 [==============================] - 0s 5ms/step - loss: 11.6891 - mse: 183.7296\n",
            "Epoch 74/100\n",
            "2/2 [==============================] - 0s 6ms/step - loss: 24.0400 - mse: 908.8992\n",
            "Epoch 75/100\n",
            "2/2 [==============================] - 0s 6ms/step - loss: 9.5896 - mse: 149.3948\n",
            "Epoch 76/100\n",
            "2/2 [==============================] - 0s 6ms/step - loss: 12.4371 - mse: 188.3310\n",
            "Epoch 77/100\n",
            "2/2 [==============================] - 0s 5ms/step - loss: 16.6489 - mse: 429.2708\n",
            "Epoch 78/100\n",
            "2/2 [==============================] - 0s 6ms/step - loss: 9.0614 - mse: 95.4870\n",
            "Epoch 79/100\n",
            "2/2 [==============================] - 0s 6ms/step - loss: 23.9675 - mse: 864.0864\n",
            "Epoch 80/100\n",
            "2/2 [==============================] - 0s 6ms/step - loss: 26.7463 - mse: 1104.4032\n",
            "Epoch 81/100\n",
            "2/2 [==============================] - 0s 5ms/step - loss: 11.6714 - mse: 170.7055\n",
            "Epoch 82/100\n",
            "2/2 [==============================] - 0s 6ms/step - loss: 12.0228 - mse: 211.9191\n",
            "Epoch 83/100\n",
            "2/2 [==============================] - 0s 6ms/step - loss: 17.4218 - mse: 395.5589\n",
            "Epoch 84/100\n",
            "2/2 [==============================] - 0s 6ms/step - loss: 7.2629 - mse: 73.0935\n",
            "Epoch 85/100\n",
            "2/2 [==============================] - 0s 6ms/step - loss: 14.9650 - mse: 312.8361\n",
            "Epoch 86/100\n",
            "2/2 [==============================] - 0s 5ms/step - loss: 15.2862 - mse: 315.3605\n",
            "Epoch 87/100\n",
            "2/2 [==============================] - 0s 5ms/step - loss: 19.1086 - mse: 521.2534\n",
            "Epoch 88/100\n",
            "2/2 [==============================] - 0s 5ms/step - loss: 29.8229 - mse: 1287.1907\n",
            "Epoch 89/100\n",
            "2/2 [==============================] - 0s 6ms/step - loss: 10.1742 - mse: 124.1342\n",
            "Epoch 90/100\n",
            "2/2 [==============================] - 0s 6ms/step - loss: 21.5240 - mse: 663.8611\n",
            "Epoch 91/100\n",
            "2/2 [==============================] - 0s 6ms/step - loss: 10.5716 - mse: 161.7467\n",
            "Epoch 92/100\n",
            "2/2 [==============================] - 0s 7ms/step - loss: 18.3977 - mse: 464.1326\n",
            "Epoch 93/100\n",
            "2/2 [==============================] - 0s 6ms/step - loss: 7.4138 - mse: 81.9820\n",
            "Epoch 94/100\n",
            "2/2 [==============================] - 0s 5ms/step - loss: 17.7380 - mse: 445.7379\n",
            "Epoch 95/100\n",
            "2/2 [==============================] - 0s 5ms/step - loss: 11.1144 - mse: 164.0820\n",
            "Epoch 96/100\n",
            "2/2 [==============================] - 0s 5ms/step - loss: 19.4346 - mse: 510.5842\n",
            "Epoch 97/100\n",
            "2/2 [==============================] - 0s 5ms/step - loss: 12.1593 - mse: 209.9755\n",
            "Epoch 98/100\n",
            "2/2 [==============================] - 0s 5ms/step - loss: 11.5653 - mse: 169.4052\n",
            "Epoch 99/100\n",
            "2/2 [==============================] - 0s 5ms/step - loss: 13.8827 - mse: 265.4630\n",
            "Epoch 100/100\n",
            "2/2 [==============================] - 0s 5ms/step - loss: 20.2277 - mse: 608.8218\n"
          ]
        },
        {
          "output_type": "execute_result",
          "data": {
            "text/plain": [
              "<keras.callbacks.History at 0x7f3bee6fa750>"
            ]
          },
          "metadata": {},
          "execution_count": 67
        }
      ]
    },
    {
      "cell_type": "code",
      "source": [
        "# Make and plot predictsion of model_2\n",
        "Y_preds_2 = model_2.predict(X_test)\n",
        "\n",
        "plot_predictions(X_train, Y_train, X_test, Y_test, predictions=Y_preds_2)"
      ],
      "metadata": {
        "colab": {
          "base_uri": "https://localhost:8080/",
          "height": 428
        },
        "id": "HHh29AlTgf1-",
        "outputId": "ad5fddbc-819e-42aa-e09c-f9c5505ee05a"
      },
      "execution_count": null,
      "outputs": [
        {
          "output_type": "display_data",
          "data": {
            "text/plain": [
              "<Figure size 720x504 with 1 Axes>"
            ],
            "image/png": "[encoded data removed]"
          },
          "metadata": {
            "needs_background": "light"
          }
        }
      ]
    },
    {
      "cell_type": "code",
      "source": [
        "# Calculate model_2 evaluation metrics\n",
        "mae_2 = mae(Y_test, Y_preds_2)\n",
        "mse_2 = mse(Y_test, Y_preds_2)\n",
        "mae_2, mse_2"
      ],
      "metadata": {
        "colab": {
          "base_uri": "https://localhost:8080/"
        },
        "id": "DCoTeo3NhRu_",
        "outputId": "5bd99d61-c9cc-4374-8871-370eb9088294"
      },
      "execution_count": null,
      "outputs": [
        {
          "output_type": "execute_result",
          "data": {
            "text/plain": [
              "(<tf.Tensor: shape=(), dtype=float32, numpy=3.1969407>,\n",
              " <tf.Tensor: shape=(), dtype=float32, numpy=13.070143>)"
            ]
          },
          "metadata": {},
          "execution_count": 69
        }
      ]
    },
    {
      "cell_type": "markdown",
      "source": [
        "**Build `model_3`**\n",
        "\n",
        "* 2 layers, trained for 500 epochs"
      ],
      "metadata": {
        "id": "UHwdrRAGh0dr"
      }
    },
    {
      "cell_type": "code",
      "source": [
        "# Set the random seed\n",
        "tf.random.set_seed(42)\n",
        "\n",
        "# 1. Create the model\n",
        "model_3 = tf.keras.Sequential([\n",
        "                               tf.keras.layers.Input(shape=(1)),\n",
        "                               tf.keras.layers.Dense(10),\n",
        "                                tf.keras.layers.Dense(1)\n",
        "])\n",
        "\n",
        "# 2. Compile the model\n",
        "model_3.compile(loss=tf.keras.losses.mae,\n",
        "                optimizer=tf.keras.optimizers.SGD(),\n",
        "                metrics=[\"mae\"]\n",
        "                )\n",
        "\n",
        "# 3. Fit the model\n",
        "model_3.fit(X_train, Y_train, epochs=500)"
      ],
      "metadata": {
        "colab": {
          "base_uri": "https://localhost:8080/"
        },
        "id": "YFGUPfBNiGNg",
        "outputId": "307af6ee-2958-41cf-ad5b-b691dec76fe9"
      },
      "execution_count": null,
      "outputs": [
        {
          "output_type": "stream",
          "name": "stdout",
          "text": [
            "Epoch 1/500\n",
            "2/2 [==============================] - 0s 7ms/step - loss: 27.4058 - mae: 27.4058\n",
            "Epoch 2/500\n",
            "2/2 [==============================] - 0s 7ms/step - loss: 24.6339 - mae: 24.6339\n",
            "Epoch 3/500\n",
            "2/2 [==============================] - 0s 6ms/step - loss: 29.8935 - mae: 29.8935\n",
            "Epoch 4/500\n",
            "2/2 [==============================] - 0s 8ms/step - loss: 27.4055 - mae: 27.4055\n",
            "Epoch 5/500\n",
            "2/2 [==============================] - 0s 9ms/step - loss: 14.9463 - mae: 14.9463\n",
            "Epoch 6/500\n",
            "2/2 [==============================] - 0s 10ms/step - loss: 11.8819 - mae: 11.8819\n",
            "Epoch 7/500\n",
            "2/2 [==============================] - 0s 5ms/step - loss: 11.1988 - mae: 11.1988\n",
            "Epoch 8/500\n",
            "2/2 [==============================] - 0s 5ms/step - loss: 11.0910 - mae: 11.0910\n",
            "Epoch 9/500\n",
            "2/2 [==============================] - 0s 5ms/step - loss: 40.4763 - mae: 40.4763\n",
            "Epoch 10/500\n",
            "2/2 [==============================] - 0s 5ms/step - loss: 27.8688 - mae: 27.8688\n",
            "Epoch 11/500\n",
            "2/2 [==============================] - 0s 4ms/step - loss: 10.2473 - mae: 10.2473\n",
            "Epoch 12/500\n",
            "2/2 [==============================] - 0s 7ms/step - loss: 25.2803 - mae: 25.2803\n",
            "Epoch 13/500\n",
            "2/2 [==============================] - 0s 5ms/step - loss: 16.9897 - mae: 16.9897\n",
            "Epoch 14/500\n",
            "2/2 [==============================] - 0s 5ms/step - loss: 25.9217 - mae: 25.9217\n",
            "Epoch 15/500\n",
            "2/2 [==============================] - 0s 9ms/step - loss: 17.9948 - mae: 17.9948\n",
            "Epoch 16/500\n",
            "2/2 [==============================] - 0s 4ms/step - loss: 7.3510 - mae: 7.3510\n",
            "Epoch 17/500\n",
            "2/2 [==============================] - 0s 5ms/step - loss: 10.8636 - mae: 10.8636\n",
            "Epoch 18/500\n",
            "2/2 [==============================] - 0s 6ms/step - loss: 19.5304 - mae: 19.5304\n",
            "Epoch 19/500\n",
            "2/2 [==============================] - 0s 7ms/step - loss: 10.3469 - mae: 10.3469\n",
            "Epoch 20/500\n",
            "2/2 [==============================] - 0s 6ms/step - loss: 17.6985 - mae: 17.6985\n",
            "Epoch 21/500\n",
            "2/2 [==============================] - 0s 5ms/step - loss: 15.8984 - mae: 15.8984\n",
            "Epoch 22/500\n",
            "2/2 [==============================] - 0s 5ms/step - loss: 14.1991 - mae: 14.1991\n",
            "Epoch 23/500\n",
            "2/2 [==============================] - 0s 4ms/step - loss: 8.7720 - mae: 8.7720\n",
            "Epoch 24/500\n",
            "2/2 [==============================] - 0s 7ms/step - loss: 11.0570 - mae: 11.0570\n",
            "Epoch 25/500\n",
            "2/2 [==============================] - 0s 5ms/step - loss: 12.6838 - mae: 12.6838\n",
            "Epoch 26/500\n",
            "2/2 [==============================] - 0s 9ms/step - loss: 26.1877 - mae: 26.1877\n",
            "Epoch 27/500\n",
            "2/2 [==============================] - 0s 6ms/step - loss: 11.7432 - mae: 11.7432\n",
            "Epoch 28/500\n",
            "2/2 [==============================] - 0s 6ms/step - loss: 22.8730 - mae: 22.8730\n",
            "Epoch 29/500\n",
            "2/2 [==============================] - 0s 5ms/step - loss: 9.2459 - mae: 9.2459\n",
            "Epoch 30/500\n",
            "2/2 [==============================] - 0s 8ms/step - loss: 29.2641 - mae: 29.2641\n",
            "Epoch 31/500\n",
            "2/2 [==============================] - 0s 6ms/step - loss: 53.0225 - mae: 53.0225\n",
            "Epoch 32/500\n",
            "2/2 [==============================] - 0s 7ms/step - loss: 11.9951 - mae: 11.9951\n",
            "Epoch 33/500\n",
            "2/2 [==============================] - 0s 7ms/step - loss: 15.6357 - mae: 15.6357\n",
            "Epoch 34/500\n",
            "2/2 [==============================] - 0s 4ms/step - loss: 12.6925 - mae: 12.6925\n",
            "Epoch 35/500\n",
            "2/2 [==============================] - 0s 5ms/step - loss: 9.2398 - mae: 9.2398\n",
            "Epoch 36/500\n",
            "2/2 [==============================] - 0s 8ms/step - loss: 16.6497 - mae: 16.6497\n",
            "Epoch 37/500\n",
            "2/2 [==============================] - 0s 6ms/step - loss: 11.0382 - mae: 11.0382\n",
            "Epoch 38/500\n",
            "2/2 [==============================] - 0s 5ms/step - loss: 18.1634 - mae: 18.1634\n",
            "Epoch 39/500\n",
            "2/2 [==============================] - 0s 6ms/step - loss: 19.1013 - mae: 19.1013\n",
            "Epoch 40/500\n",
            "2/2 [==============================] - 0s 10ms/step - loss: 20.4324 - mae: 20.4324\n",
            "Epoch 41/500\n",
            "2/2 [==============================] - 0s 9ms/step - loss: 14.9102 - mae: 14.9102\n",
            "Epoch 42/500\n",
            "2/2 [==============================] - 0s 6ms/step - loss: 12.2809 - mae: 12.2809\n",
            "Epoch 43/500\n",
            "2/2 [==============================] - 0s 10ms/step - loss: 10.7333 - mae: 10.7333\n",
            "Epoch 44/500\n",
            "2/2 [==============================] - 0s 6ms/step - loss: 23.0260 - mae: 23.0260\n",
            "Epoch 45/500\n",
            "2/2 [==============================] - 0s 6ms/step - loss: 10.3897 - mae: 10.3897\n",
            "Epoch 46/500\n",
            "2/2 [==============================] - 0s 6ms/step - loss: 11.7904 - mae: 11.7904\n",
            "Epoch 47/500\n",
            "2/2 [==============================] - 0s 5ms/step - loss: 9.6438 - mae: 9.6438\n",
            "Epoch 48/500\n",
            "2/2 [==============================] - 0s 5ms/step - loss: 17.2335 - mae: 17.2335\n",
            "Epoch 49/500\n",
            "2/2 [==============================] - 0s 7ms/step - loss: 9.5729 - mae: 9.5729\n",
            "Epoch 50/500\n",
            "2/2 [==============================] - 0s 5ms/step - loss: 13.8185 - mae: 13.8185\n",
            "Epoch 51/500\n",
            "2/2 [==============================] - 0s 5ms/step - loss: 11.5958 - mae: 11.5958\n",
            "Epoch 52/500\n",
            "2/2 [==============================] - 0s 5ms/step - loss: 30.5538 - mae: 30.5538\n",
            "Epoch 53/500\n",
            "2/2 [==============================] - 0s 5ms/step - loss: 14.3541 - mae: 14.3541\n",
            "Epoch 54/500\n",
            "2/2 [==============================] - 0s 5ms/step - loss: 23.9713 - mae: 23.9713\n",
            "Epoch 55/500\n",
            "2/2 [==============================] - 0s 5ms/step - loss: 23.1938 - mae: 23.1938\n",
            "Epoch 56/500\n",
            "2/2 [==============================] - 0s 7ms/step - loss: 10.8837 - mae: 10.8837\n",
            "Epoch 57/500\n",
            "2/2 [==============================] - 0s 5ms/step - loss: 12.7445 - mae: 12.7445\n",
            "Epoch 58/500\n",
            "2/2 [==============================] - 0s 5ms/step - loss: 9.5995 - mae: 9.5995\n",
            "Epoch 59/500\n",
            "2/2 [==============================] - 0s 5ms/step - loss: 12.5172 - mae: 12.5172\n",
            "Epoch 60/500\n",
            "2/2 [==============================] - 0s 5ms/step - loss: 12.3200 - mae: 12.3200\n",
            "Epoch 61/500\n",
            "2/2 [==============================] - 0s 6ms/step - loss: 17.4604 - mae: 17.4604\n",
            "Epoch 62/500\n",
            "2/2 [==============================] - 0s 5ms/step - loss: 10.6052 - mae: 10.6052\n",
            "Epoch 63/500\n",
            "2/2 [==============================] - 0s 9ms/step - loss: 10.4893 - mae: 10.4893\n",
            "Epoch 64/500\n",
            "2/2 [==============================] - 0s 7ms/step - loss: 24.8450 - mae: 24.8450\n",
            "Epoch 65/500\n",
            "2/2 [==============================] - 0s 7ms/step - loss: 10.6761 - mae: 10.6761\n",
            "Epoch 66/500\n",
            "2/2 [==============================] - 0s 7ms/step - loss: 21.7809 - mae: 21.7809\n",
            "Epoch 67/500\n",
            "2/2 [==============================] - 0s 8ms/step - loss: 10.7136 - mae: 10.7136\n",
            "Epoch 68/500\n",
            "2/2 [==============================] - 0s 7ms/step - loss: 10.6397 - mae: 10.6397\n",
            "Epoch 69/500\n",
            "2/2 [==============================] - 0s 5ms/step - loss: 22.6914 - mae: 22.6914\n",
            "Epoch 70/500\n",
            "2/2 [==============================] - 0s 5ms/step - loss: 9.3316 - mae: 9.3316\n",
            "Epoch 71/500\n",
            "2/2 [==============================] - 0s 5ms/step - loss: 15.4355 - mae: 15.4355\n",
            "Epoch 72/500\n",
            "2/2 [==============================] - 0s 5ms/step - loss: 6.7437 - mae: 6.7437\n",
            "Epoch 73/500\n",
            "2/2 [==============================] - 0s 5ms/step - loss: 11.6891 - mae: 11.6891\n",
            "Epoch 74/500\n",
            "2/2 [==============================] - 0s 5ms/step - loss: 24.0400 - mae: 24.0400\n",
            "Epoch 75/500\n",
            "2/2 [==============================] - 0s 6ms/step - loss: 9.5896 - mae: 9.5896\n",
            "Epoch 76/500\n",
            "2/2 [==============================] - 0s 7ms/step - loss: 12.4371 - mae: 12.4371\n",
            "Epoch 77/500\n",
            "2/2 [==============================] - 0s 4ms/step - loss: 16.6489 - mae: 16.6489\n",
            "Epoch 78/500\n",
            "2/2 [==============================] - 0s 5ms/step - loss: 9.0614 - mae: 9.0614\n",
            "Epoch 79/500\n",
            "2/2 [==============================] - 0s 6ms/step - loss: 23.9675 - mae: 23.9675\n",
            "Epoch 80/500\n",
            "2/2 [==============================] - 0s 5ms/step - loss: 26.7463 - mae: 26.7463\n",
            "Epoch 81/500\n",
            "2/2 [==============================] - 0s 6ms/step - loss: 11.6714 - mae: 11.6714\n",
            "Epoch 82/500\n",
            "2/2 [==============================] - 0s 5ms/step - loss: 12.0228 - mae: 12.0228\n",
            "Epoch 83/500\n",
            "2/2 [==============================] - 0s 8ms/step - loss: 17.4218 - mae: 17.4218\n",
            "Epoch 84/500\n",
            "2/2 [==============================] - 0s 4ms/step - loss: 7.2629 - mae: 7.2629\n",
            "Epoch 85/500\n",
            "2/2 [==============================] - 0s 5ms/step - loss: 14.9650 - mae: 14.9650\n",
            "Epoch 86/500\n",
            "2/2 [==============================] - 0s 5ms/step - loss: 15.2862 - mae: 15.2862\n",
            "Epoch 87/500\n",
            "2/2 [==============================] - 0s 5ms/step - loss: 19.1086 - mae: 19.1086\n",
            "Epoch 88/500\n",
            "2/2 [==============================] - 0s 5ms/step - loss: 29.8229 - mae: 29.8229\n",
            "Epoch 89/500\n",
            "2/2 [==============================] - 0s 5ms/step - loss: 10.1742 - mae: 10.1742\n",
            "Epoch 90/500\n",
            "2/2 [==============================] - 0s 9ms/step - loss: 21.5240 - mae: 21.5240\n",
            "Epoch 91/500\n",
            "2/2 [==============================] - 0s 5ms/step - loss: 10.5716 - mae: 10.5716\n",
            "Epoch 92/500\n",
            "2/2 [==============================] - 0s 5ms/step - loss: 18.3977 - mae: 18.3977\n",
            "Epoch 93/500\n",
            "2/2 [==============================] - 0s 5ms/step - loss: 7.4138 - mae: 7.4138\n",
            "Epoch 94/500\n",
            "2/2 [==============================] - 0s 5ms/step - loss: 17.7380 - mae: 17.7380\n",
            "Epoch 95/500\n",
            "2/2 [==============================] - 0s 5ms/step - loss: 11.1144 - mae: 11.1144\n",
            "Epoch 96/500\n",
            "2/2 [==============================] - 0s 10ms/step - loss: 19.4346 - mae: 19.4346\n",
            "Epoch 97/500\n",
            "2/2 [==============================] - 0s 6ms/step - loss: 12.1593 - mae: 12.1593\n",
            "Epoch 98/500\n",
            "2/2 [==============================] - 0s 6ms/step - loss: 11.5653 - mae: 11.5653\n",
            "Epoch 99/500\n",
            "2/2 [==============================] - 0s 5ms/step - loss: 13.8827 - mae: 13.8827\n",
            "Epoch 100/500\n",
            "2/2 [==============================] - 0s 5ms/step - loss: 20.2277 - mae: 20.2277\n",
            "Epoch 101/500\n",
            "2/2 [==============================] - 0s 6ms/step - loss: 11.4479 - mae: 11.4479\n",
            "Epoch 102/500\n",
            "2/2 [==============================] - 0s 6ms/step - loss: 17.4842 - mae: 17.4842\n",
            "Epoch 103/500\n",
            "2/2 [==============================] - 0s 5ms/step - loss: 7.0217 - mae: 7.0217\n",
            "Epoch 104/500\n",
            "2/2 [==============================] - 0s 6ms/step - loss: 23.5789 - mae: 23.5789\n",
            "Epoch 105/500\n",
            "2/2 [==============================] - 0s 5ms/step - loss: 16.8932 - mae: 16.8932\n",
            "Epoch 106/500\n",
            "2/2 [==============================] - 0s 6ms/step - loss: 9.2954 - mae: 9.2954\n",
            "Epoch 107/500\n",
            "2/2 [==============================] - 0s 5ms/step - loss: 25.3749 - mae: 25.3749\n",
            "Epoch 108/500\n",
            "2/2 [==============================] - 0s 5ms/step - loss: 13.4621 - mae: 13.4621\n",
            "Epoch 109/500\n",
            "2/2 [==============================] - 0s 7ms/step - loss: 9.5238 - mae: 9.5238\n",
            "Epoch 110/500\n",
            "2/2 [==============================] - 0s 6ms/step - loss: 9.6722 - mae: 9.6722\n",
            "Epoch 111/500\n",
            "2/2 [==============================] - 0s 5ms/step - loss: 14.5987 - mae: 14.5987\n",
            "Epoch 112/500\n",
            "2/2 [==============================] - 0s 5ms/step - loss: 9.5670 - mae: 9.5670\n",
            "Epoch 113/500\n",
            "2/2 [==============================] - 0s 6ms/step - loss: 17.8092 - mae: 17.8092\n",
            "Epoch 114/500\n",
            "2/2 [==============================] - 0s 5ms/step - loss: 17.1782 - mae: 17.1782\n",
            "Epoch 115/500\n",
            "2/2 [==============================] - 0s 6ms/step - loss: 11.1182 - mae: 11.1182\n",
            "Epoch 116/500\n",
            "2/2 [==============================] - 0s 6ms/step - loss: 23.3071 - mae: 23.3071\n",
            "Epoch 117/500\n",
            "2/2 [==============================] - 0s 5ms/step - loss: 9.6144 - mae: 9.6144\n",
            "Epoch 118/500\n",
            "2/2 [==============================] - 0s 6ms/step - loss: 10.6899 - mae: 10.6899\n",
            "Epoch 119/500\n",
            "2/2 [==============================] - 0s 9ms/step - loss: 8.0355 - mae: 8.0355\n",
            "Epoch 120/500\n",
            "2/2 [==============================] - 0s 6ms/step - loss: 29.6859 - mae: 29.6859\n",
            "Epoch 121/500\n",
            "2/2 [==============================] - 0s 4ms/step - loss: 8.0714 - mae: 8.0714\n",
            "Epoch 122/500\n",
            "2/2 [==============================] - 0s 8ms/step - loss: 28.3086 - mae: 28.3086\n",
            "Epoch 123/500\n",
            "2/2 [==============================] - 0s 8ms/step - loss: 32.9014 - mae: 32.9014\n",
            "Epoch 124/500\n",
            "2/2 [==============================] - 0s 5ms/step - loss: 19.6291 - mae: 19.6291\n",
            "Epoch 125/500\n",
            "2/2 [==============================] - 0s 4ms/step - loss: 7.0095 - mae: 7.0095\n",
            "Epoch 126/500\n",
            "2/2 [==============================] - 0s 5ms/step - loss: 21.8056 - mae: 21.8056\n",
            "Epoch 127/500\n",
            "2/2 [==============================] - 0s 5ms/step - loss: 7.9812 - mae: 7.9812\n",
            "Epoch 128/500\n",
            "2/2 [==============================] - 0s 6ms/step - loss: 21.0585 - mae: 21.0585\n",
            "Epoch 129/500\n",
            "2/2 [==============================] - 0s 8ms/step - loss: 9.0107 - mae: 9.0107\n",
            "Epoch 130/500\n",
            "2/2 [==============================] - 0s 10ms/step - loss: 24.0502 - mae: 24.0502\n",
            "Epoch 131/500\n",
            "2/2 [==============================] - 0s 6ms/step - loss: 9.7537 - mae: 9.7537\n",
            "Epoch 132/500\n",
            "2/2 [==============================] - 0s 6ms/step - loss: 18.3052 - mae: 18.3052\n",
            "Epoch 133/500\n",
            "2/2 [==============================] - 0s 6ms/step - loss: 7.5833 - mae: 7.5833\n",
            "Epoch 134/500\n",
            "2/2 [==============================] - 0s 5ms/step - loss: 18.5755 - mae: 18.5755\n",
            "Epoch 135/500\n",
            "2/2 [==============================] - 0s 6ms/step - loss: 10.5360 - mae: 10.5360\n",
            "Epoch 136/500\n",
            "2/2 [==============================] - 0s 4ms/step - loss: 18.2694 - mae: 18.2694\n",
            "Epoch 137/500\n",
            "2/2 [==============================] - 0s 6ms/step - loss: 23.1658 - mae: 23.1658\n",
            "Epoch 138/500\n",
            "2/2 [==============================] - 0s 6ms/step - loss: 9.1362 - mae: 9.1362\n",
            "Epoch 139/500\n",
            "2/2 [==============================] - 0s 5ms/step - loss: 8.9181 - mae: 8.9181\n",
            "Epoch 140/500\n",
            "2/2 [==============================] - 0s 4ms/step - loss: 16.4732 - mae: 16.4732\n",
            "Epoch 141/500\n",
            "2/2 [==============================] - 0s 5ms/step - loss: 8.4208 - mae: 8.4208\n",
            "Epoch 142/500\n",
            "2/2 [==============================] - 0s 4ms/step - loss: 36.9540 - mae: 36.9540\n",
            "Epoch 143/500\n",
            "2/2 [==============================] - 0s 5ms/step - loss: 25.5820 - mae: 25.5820\n",
            "Epoch 144/500\n",
            "2/2 [==============================] - 0s 5ms/step - loss: 9.5392 - mae: 9.5392\n",
            "Epoch 145/500\n",
            "2/2 [==============================] - 0s 6ms/step - loss: 26.6058 - mae: 26.6058\n",
            "Epoch 146/500\n",
            "2/2 [==============================] - 0s 6ms/step - loss: 8.7248 - mae: 8.7248\n",
            "Epoch 147/500\n",
            "2/2 [==============================] - 0s 6ms/step - loss: 15.6172 - mae: 15.6172\n",
            "Epoch 148/500\n",
            "2/2 [==============================] - 0s 5ms/step - loss: 18.3065 - mae: 18.3065\n",
            "Epoch 149/500\n",
            "2/2 [==============================] - 0s 6ms/step - loss: 8.1994 - mae: 8.1994\n",
            "Epoch 150/500\n",
            "2/2 [==============================] - 0s 5ms/step - loss: 7.4964 - mae: 7.4964\n",
            "Epoch 151/500\n",
            "2/2 [==============================] - 0s 6ms/step - loss: 18.3374 - mae: 18.3374\n",
            "Epoch 152/500\n",
            "2/2 [==============================] - 0s 6ms/step - loss: 10.2895 - mae: 10.2895\n",
            "Epoch 153/500\n",
            "2/2 [==============================] - 0s 6ms/step - loss: 29.6425 - mae: 29.6425\n",
            "Epoch 154/500\n",
            "2/2 [==============================] - 0s 6ms/step - loss: 10.5556 - mae: 10.5556\n",
            "Epoch 155/500\n",
            "2/2 [==============================] - 0s 6ms/step - loss: 15.4537 - mae: 15.4537\n",
            "Epoch 156/500\n",
            "2/2 [==============================] - 0s 6ms/step - loss: 17.0174 - mae: 17.0174\n",
            "Epoch 157/500\n",
            "2/2 [==============================] - 0s 5ms/step - loss: 32.8218 - mae: 32.8218\n",
            "Epoch 158/500\n",
            "2/2 [==============================] - 0s 5ms/step - loss: 10.7038 - mae: 10.7038\n",
            "Epoch 159/500\n",
            "2/2 [==============================] - 0s 6ms/step - loss: 8.9054 - mae: 8.9054\n",
            "Epoch 160/500\n",
            "2/2 [==============================] - 0s 5ms/step - loss: 22.1321 - mae: 22.1321\n",
            "Epoch 161/500\n",
            "2/2 [==============================] - 0s 5ms/step - loss: 11.7113 - mae: 11.7113\n",
            "Epoch 162/500\n",
            "2/2 [==============================] - 0s 6ms/step - loss: 21.5734 - mae: 21.5734\n",
            "Epoch 163/500\n",
            "2/2 [==============================] - 0s 6ms/step - loss: 19.2485 - mae: 19.2485\n",
            "Epoch 164/500\n",
            "2/2 [==============================] - 0s 5ms/step - loss: 11.0156 - mae: 11.0156\n",
            "Epoch 165/500\n",
            "2/2 [==============================] - 0s 7ms/step - loss: 9.6187 - mae: 9.6187\n",
            "Epoch 166/500\n",
            "2/2 [==============================] - 0s 5ms/step - loss: 21.5908 - mae: 21.5908\n",
            "Epoch 167/500\n",
            "2/2 [==============================] - 0s 6ms/step - loss: 26.2851 - mae: 26.2851\n",
            "Epoch 168/500\n",
            "2/2 [==============================] - 0s 6ms/step - loss: 9.8525 - mae: 9.8525\n",
            "Epoch 169/500\n",
            "2/2 [==============================] - 0s 5ms/step - loss: 22.5630 - mae: 22.5630\n",
            "Epoch 170/500\n",
            "2/2 [==============================] - 0s 5ms/step - loss: 10.1499 - mae: 10.1499\n",
            "Epoch 171/500\n",
            "2/2 [==============================] - 0s 5ms/step - loss: 18.0464 - mae: 18.0464\n",
            "Epoch 172/500\n",
            "2/2 [==============================] - 0s 5ms/step - loss: 28.8377 - mae: 28.8377\n",
            "Epoch 173/500\n",
            "2/2 [==============================] - 0s 5ms/step - loss: 16.5279 - mae: 16.5279\n",
            "Epoch 174/500\n",
            "2/2 [==============================] - 0s 5ms/step - loss: 11.2115 - mae: 11.2115\n",
            "Epoch 175/500\n",
            "2/2 [==============================] - 0s 5ms/step - loss: 27.5839 - mae: 27.5839\n",
            "Epoch 176/500\n",
            "2/2 [==============================] - 0s 6ms/step - loss: 8.2680 - mae: 8.2680\n",
            "Epoch 177/500\n",
            "2/2 [==============================] - 0s 5ms/step - loss: 9.2580 - mae: 9.2580\n",
            "Epoch 178/500\n",
            "2/2 [==============================] - 0s 5ms/step - loss: 18.1440 - mae: 18.1440\n",
            "Epoch 179/500\n",
            "2/2 [==============================] - 0s 5ms/step - loss: 10.5995 - mae: 10.5995\n",
            "Epoch 180/500\n",
            "2/2 [==============================] - 0s 5ms/step - loss: 7.8992 - mae: 7.8992\n",
            "Epoch 181/500\n",
            "2/2 [==============================] - 0s 6ms/step - loss: 17.4015 - mae: 17.4015\n",
            "Epoch 182/500\n",
            "2/2 [==============================] - 0s 5ms/step - loss: 11.0089 - mae: 11.0089\n",
            "Epoch 183/500\n",
            "2/2 [==============================] - 0s 6ms/step - loss: 11.7027 - mae: 11.7027\n",
            "Epoch 184/500\n",
            "2/2 [==============================] - 0s 5ms/step - loss: 30.4062 - mae: 30.4062\n",
            "Epoch 185/500\n",
            "2/2 [==============================] - 0s 5ms/step - loss: 7.5557 - mae: 7.5557\n",
            "Epoch 186/500\n",
            "2/2 [==============================] - 0s 5ms/step - loss: 15.9905 - mae: 15.9905\n",
            "Epoch 187/500\n",
            "2/2 [==============================] - 0s 5ms/step - loss: 8.5579 - mae: 8.5579\n",
            "Epoch 188/500\n",
            "2/2 [==============================] - 0s 6ms/step - loss: 28.7339 - mae: 28.7339\n",
            "Epoch 189/500\n",
            "2/2 [==============================] - 0s 5ms/step - loss: 13.1689 - mae: 13.1689\n",
            "Epoch 190/500\n",
            "2/2 [==============================] - 0s 6ms/step - loss: 18.3101 - mae: 18.3101\n",
            "Epoch 191/500\n",
            "2/2 [==============================] - 0s 7ms/step - loss: 13.7376 - mae: 13.7376\n",
            "Epoch 192/500\n",
            "2/2 [==============================] - 0s 5ms/step - loss: 13.7104 - mae: 13.7104\n",
            "Epoch 193/500\n",
            "2/2 [==============================] - 0s 6ms/step - loss: 28.5842 - mae: 28.5842\n",
            "Epoch 194/500\n",
            "2/2 [==============================] - 0s 5ms/step - loss: 7.0707 - mae: 7.0707\n",
            "Epoch 195/500\n",
            "2/2 [==============================] - 0s 5ms/step - loss: 7.0550 - mae: 7.0550\n",
            "Epoch 196/500\n",
            "2/2 [==============================] - 0s 7ms/step - loss: 22.0067 - mae: 22.0067\n",
            "Epoch 197/500\n",
            "2/2 [==============================] - 0s 5ms/step - loss: 20.8443 - mae: 20.8443\n",
            "Epoch 198/500\n",
            "2/2 [==============================] - 0s 7ms/step - loss: 12.4713 - mae: 12.4713\n",
            "Epoch 199/500\n",
            "2/2 [==============================] - 0s 4ms/step - loss: 17.9099 - mae: 17.9099\n",
            "Epoch 200/500\n",
            "2/2 [==============================] - 0s 5ms/step - loss: 13.7494 - mae: 13.7494\n",
            "Epoch 201/500\n",
            "2/2 [==============================] - 0s 4ms/step - loss: 5.4687 - mae: 5.4687\n",
            "Epoch 202/500\n",
            "2/2 [==============================] - 0s 5ms/step - loss: 13.7006 - mae: 13.7006\n",
            "Epoch 203/500\n",
            "2/2 [==============================] - 0s 7ms/step - loss: 9.4142 - mae: 9.4142\n",
            "Epoch 204/500\n",
            "2/2 [==============================] - 0s 5ms/step - loss: 20.9796 - mae: 20.9796\n",
            "Epoch 205/500\n",
            "2/2 [==============================] - 0s 7ms/step - loss: 9.5470 - mae: 9.5470\n",
            "Epoch 206/500\n",
            "2/2 [==============================] - 0s 6ms/step - loss: 11.7256 - mae: 11.7256\n",
            "Epoch 207/500\n",
            "2/2 [==============================] - 0s 11ms/step - loss: 14.3772 - mae: 14.3772\n",
            "Epoch 208/500\n",
            "2/2 [==============================] - 0s 5ms/step - loss: 14.8579 - mae: 14.8579\n",
            "Epoch 209/500\n",
            "2/2 [==============================] - 0s 6ms/step - loss: 14.9706 - mae: 14.9706\n",
            "Epoch 210/500\n",
            "2/2 [==============================] - 0s 7ms/step - loss: 17.8998 - mae: 17.8998\n",
            "Epoch 211/500\n",
            "2/2 [==============================] - 0s 5ms/step - loss: 9.8327 - mae: 9.8327\n",
            "Epoch 212/500\n",
            "2/2 [==============================] - 0s 6ms/step - loss: 18.3352 - mae: 18.3352\n",
            "Epoch 213/500\n",
            "2/2 [==============================] - 0s 5ms/step - loss: 15.0383 - mae: 15.0383\n",
            "Epoch 214/500\n",
            "2/2 [==============================] - 0s 5ms/step - loss: 14.5874 - mae: 14.5874\n",
            "Epoch 215/500\n",
            "2/2 [==============================] - 0s 12ms/step - loss: 23.3015 - mae: 23.3015\n",
            "Epoch 216/500\n",
            "2/2 [==============================] - 0s 7ms/step - loss: 13.3613 - mae: 13.3613\n",
            "Epoch 217/500\n",
            "2/2 [==============================] - 0s 7ms/step - loss: 9.8517 - mae: 9.8517\n",
            "Epoch 218/500\n",
            "2/2 [==============================] - 0s 5ms/step - loss: 12.5451 - mae: 12.5451\n",
            "Epoch 219/500\n",
            "2/2 [==============================] - 0s 5ms/step - loss: 4.9472 - mae: 4.9472\n",
            "Epoch 220/500\n",
            "2/2 [==============================] - 0s 4ms/step - loss: 7.1130 - mae: 7.1130\n",
            "Epoch 221/500\n",
            "2/2 [==============================] - 0s 7ms/step - loss: 35.4567 - mae: 35.4567\n",
            "Epoch 222/500\n",
            "2/2 [==============================] - 0s 5ms/step - loss: 34.8634 - mae: 34.8634\n",
            "Epoch 223/500\n",
            "2/2 [==============================] - 0s 4ms/step - loss: 7.9846 - mae: 7.9846\n",
            "Epoch 224/500\n",
            "2/2 [==============================] - 0s 4ms/step - loss: 14.7004 - mae: 14.7004\n",
            "Epoch 225/500\n",
            "2/2 [==============================] - 0s 5ms/step - loss: 16.7196 - mae: 16.7196\n",
            "Epoch 226/500\n",
            "2/2 [==============================] - 0s 5ms/step - loss: 15.9329 - mae: 15.9329\n",
            "Epoch 227/500\n",
            "2/2 [==============================] - 0s 6ms/step - loss: 16.1644 - mae: 16.1644\n",
            "Epoch 228/500\n",
            "2/2 [==============================] - 0s 5ms/step - loss: 13.9324 - mae: 13.9324\n",
            "Epoch 229/500\n",
            "2/2 [==============================] - 0s 5ms/step - loss: 18.0504 - mae: 18.0504\n",
            "Epoch 230/500\n",
            "2/2 [==============================] - 0s 7ms/step - loss: 15.6120 - mae: 15.6120\n",
            "Epoch 231/500\n",
            "2/2 [==============================] - 0s 7ms/step - loss: 21.2041 - mae: 21.2041\n",
            "Epoch 232/500\n",
            "2/2 [==============================] - 0s 6ms/step - loss: 25.2732 - mae: 25.2732\n",
            "Epoch 233/500\n",
            "2/2 [==============================] - 0s 8ms/step - loss: 16.3176 - mae: 16.3176\n",
            "Epoch 234/500\n",
            "2/2 [==============================] - 0s 6ms/step - loss: 7.2729 - mae: 7.2729\n",
            "Epoch 235/500\n",
            "2/2 [==============================] - 0s 5ms/step - loss: 16.9688 - mae: 16.9688\n",
            "Epoch 236/500\n",
            "2/2 [==============================] - 0s 5ms/step - loss: 7.1225 - mae: 7.1225\n",
            "Epoch 237/500\n",
            "2/2 [==============================] - 0s 5ms/step - loss: 9.2058 - mae: 9.2058\n",
            "Epoch 238/500\n",
            "2/2 [==============================] - 0s 5ms/step - loss: 8.0961 - mae: 8.0961\n",
            "Epoch 239/500\n",
            "2/2 [==============================] - 0s 6ms/step - loss: 17.0538 - mae: 17.0538\n",
            "Epoch 240/500\n",
            "2/2 [==============================] - 0s 4ms/step - loss: 8.8627 - mae: 8.8627\n",
            "Epoch 241/500\n",
            "2/2 [==============================] - 0s 5ms/step - loss: 13.1711 - mae: 13.1711\n",
            "Epoch 242/500\n",
            "2/2 [==============================] - 0s 6ms/step - loss: 8.7886 - mae: 8.7886\n",
            "Epoch 243/500\n",
            "2/2 [==============================] - 0s 5ms/step - loss: 18.8161 - mae: 18.8161\n",
            "Epoch 244/500\n",
            "2/2 [==============================] - 0s 6ms/step - loss: 14.0531 - mae: 14.0531\n",
            "Epoch 245/500\n",
            "2/2 [==============================] - 0s 5ms/step - loss: 14.6831 - mae: 14.6831\n",
            "Epoch 246/500\n",
            "2/2 [==============================] - 0s 5ms/step - loss: 15.8045 - mae: 15.8045\n",
            "Epoch 247/500\n",
            "2/2 [==============================] - 0s 5ms/step - loss: 17.6810 - mae: 17.6810\n",
            "Epoch 248/500\n",
            "2/2 [==============================] - 0s 6ms/step - loss: 13.2367 - mae: 13.2367\n",
            "Epoch 249/500\n",
            "2/2 [==============================] - 0s 5ms/step - loss: 14.5070 - mae: 14.5070\n",
            "Epoch 250/500\n",
            "2/2 [==============================] - 0s 5ms/step - loss: 23.2322 - mae: 23.2322\n",
            "Epoch 251/500\n",
            "2/2 [==============================] - 0s 5ms/step - loss: 9.3009 - mae: 9.3009\n",
            "Epoch 252/500\n",
            "2/2 [==============================] - 0s 5ms/step - loss: 36.6569 - mae: 36.6569\n",
            "Epoch 253/500\n",
            "2/2 [==============================] - 0s 6ms/step - loss: 21.8205 - mae: 21.8205\n",
            "Epoch 254/500\n",
            "2/2 [==============================] - 0s 5ms/step - loss: 7.2792 - mae: 7.2792\n",
            "Epoch 255/500\n",
            "2/2 [==============================] - 0s 5ms/step - loss: 24.7127 - mae: 24.7127\n",
            "Epoch 256/500\n",
            "2/2 [==============================] - 0s 5ms/step - loss: 12.4220 - mae: 12.4220\n",
            "Epoch 257/500\n",
            "2/2 [==============================] - 0s 5ms/step - loss: 10.5823 - mae: 10.5823\n",
            "Epoch 258/500\n",
            "2/2 [==============================] - 0s 5ms/step - loss: 14.4883 - mae: 14.4883\n",
            "Epoch 259/500\n",
            "2/2 [==============================] - 0s 5ms/step - loss: 8.6132 - mae: 8.6132\n",
            "Epoch 260/500\n",
            "2/2 [==============================] - 0s 5ms/step - loss: 43.0580 - mae: 43.0580\n",
            "Epoch 261/500\n",
            "2/2 [==============================] - 0s 5ms/step - loss: 18.4611 - mae: 18.4611\n",
            "Epoch 262/500\n",
            "2/2 [==============================] - 0s 5ms/step - loss: 6.8820 - mae: 6.8820\n",
            "Epoch 263/500\n",
            "2/2 [==============================] - 0s 5ms/step - loss: 13.7211 - mae: 13.7211\n",
            "Epoch 264/500\n",
            "2/2 [==============================] - 0s 5ms/step - loss: 21.0154 - mae: 21.0154\n",
            "Epoch 265/500\n",
            "2/2 [==============================] - 0s 4ms/step - loss: 19.3731 - mae: 19.3731\n",
            "Epoch 266/500\n",
            "2/2 [==============================] - 0s 4ms/step - loss: 11.4735 - mae: 11.4735\n",
            "Epoch 267/500\n",
            "2/2 [==============================] - 0s 5ms/step - loss: 7.5302 - mae: 7.5302\n",
            "Epoch 268/500\n",
            "2/2 [==============================] - 0s 5ms/step - loss: 21.6453 - mae: 21.6453\n",
            "Epoch 269/500\n",
            "2/2 [==============================] - 0s 5ms/step - loss: 33.1785 - mae: 33.1785\n",
            "Epoch 270/500\n",
            "2/2 [==============================] - 0s 5ms/step - loss: 10.0833 - mae: 10.0833\n",
            "Epoch 271/500\n",
            "2/2 [==============================] - 0s 4ms/step - loss: 12.1012 - mae: 12.1012\n",
            "Epoch 272/500\n",
            "2/2 [==============================] - 0s 6ms/step - loss: 26.1372 - mae: 26.1372\n",
            "Epoch 273/500\n",
            "2/2 [==============================] - 0s 5ms/step - loss: 12.1751 - mae: 12.1751\n",
            "Epoch 274/500\n",
            "2/2 [==============================] - 0s 5ms/step - loss: 13.3272 - mae: 13.3272\n",
            "Epoch 275/500\n",
            "2/2 [==============================] - 0s 5ms/step - loss: 29.3775 - mae: 29.3775\n",
            "Epoch 276/500\n",
            "2/2 [==============================] - 0s 6ms/step - loss: 7.3329 - mae: 7.3329\n",
            "Epoch 277/500\n",
            "2/2 [==============================] - 0s 5ms/step - loss: 31.1362 - mae: 31.1362\n",
            "Epoch 278/500\n",
            "2/2 [==============================] - 0s 5ms/step - loss: 12.3015 - mae: 12.3015\n",
            "Epoch 279/500\n",
            "2/2 [==============================] - 0s 5ms/step - loss: 16.4103 - mae: 16.4103\n",
            "Epoch 280/500\n",
            "2/2 [==============================] - 0s 5ms/step - loss: 21.9118 - mae: 21.9118\n",
            "Epoch 281/500\n",
            "2/2 [==============================] - 0s 5ms/step - loss: 22.1501 - mae: 22.1501\n",
            "Epoch 282/500\n",
            "2/2 [==============================] - 0s 5ms/step - loss: 7.7429 - mae: 7.7429\n",
            "Epoch 283/500\n",
            "2/2 [==============================] - 0s 5ms/step - loss: 8.1429 - mae: 8.1429\n",
            "Epoch 284/500\n",
            "2/2 [==============================] - 0s 5ms/step - loss: 24.9435 - mae: 24.9435\n",
            "Epoch 285/500\n",
            "2/2 [==============================] - 0s 4ms/step - loss: 13.6958 - mae: 13.6958\n",
            "Epoch 286/500\n",
            "2/2 [==============================] - 0s 5ms/step - loss: 6.8926 - mae: 6.8926\n",
            "Epoch 287/500\n",
            "2/2 [==============================] - 0s 4ms/step - loss: 24.5352 - mae: 24.5352\n",
            "Epoch 288/500\n",
            "2/2 [==============================] - 0s 5ms/step - loss: 20.1721 - mae: 20.1721\n",
            "Epoch 289/500\n",
            "2/2 [==============================] - 0s 4ms/step - loss: 11.9658 - mae: 11.9658\n",
            "Epoch 290/500\n",
            "2/2 [==============================] - 0s 5ms/step - loss: 16.5391 - mae: 16.5391\n",
            "Epoch 291/500\n",
            "2/2 [==============================] - 0s 10ms/step - loss: 16.8017 - mae: 16.8017\n",
            "Epoch 292/500\n",
            "2/2 [==============================] - 0s 8ms/step - loss: 9.4642 - mae: 9.4642\n",
            "Epoch 293/500\n",
            "2/2 [==============================] - 0s 7ms/step - loss: 15.2711 - mae: 15.2711\n",
            "Epoch 294/500\n",
            "2/2 [==============================] - 0s 8ms/step - loss: 22.7179 - mae: 22.7179\n",
            "Epoch 295/500\n",
            "2/2 [==============================] - 0s 8ms/step - loss: 17.9234 - mae: 17.9234\n",
            "Epoch 296/500\n",
            "2/2 [==============================] - 0s 7ms/step - loss: 6.1743 - mae: 6.1743\n",
            "Epoch 297/500\n",
            "2/2 [==============================] - 0s 7ms/step - loss: 10.9440 - mae: 10.9440\n",
            "Epoch 298/500\n",
            "2/2 [==============================] - 0s 5ms/step - loss: 23.1530 - mae: 23.1530\n",
            "Epoch 299/500\n",
            "2/2 [==============================] - 0s 5ms/step - loss: 17.7331 - mae: 17.7331\n",
            "Epoch 300/500\n",
            "2/2 [==============================] - 0s 4ms/step - loss: 6.9824 - mae: 6.9824\n",
            "Epoch 301/500\n",
            "2/2 [==============================] - 0s 5ms/step - loss: 25.1857 - mae: 25.1857\n",
            "Epoch 302/500\n",
            "2/2 [==============================] - 0s 5ms/step - loss: 8.9025 - mae: 8.9025\n",
            "Epoch 303/500\n",
            "2/2 [==============================] - 0s 8ms/step - loss: 17.7668 - mae: 17.7668\n",
            "Epoch 304/500\n",
            "2/2 [==============================] - 0s 5ms/step - loss: 11.0002 - mae: 11.0002\n",
            "Epoch 305/500\n",
            "2/2 [==============================] - 0s 4ms/step - loss: 12.9191 - mae: 12.9191\n",
            "Epoch 306/500\n",
            "2/2 [==============================] - 0s 4ms/step - loss: 8.4033 - mae: 8.4033\n",
            "Epoch 307/500\n",
            "2/2 [==============================] - 0s 10ms/step - loss: 13.6094 - mae: 13.6094\n",
            "Epoch 308/500\n",
            "2/2 [==============================] - 0s 5ms/step - loss: 7.4404 - mae: 7.4404\n",
            "Epoch 309/500\n",
            "2/2 [==============================] - 0s 5ms/step - loss: 9.4642 - mae: 9.4642\n",
            "Epoch 310/500\n",
            "2/2 [==============================] - 0s 5ms/step - loss: 10.7099 - mae: 10.7099\n",
            "Epoch 311/500\n",
            "2/2 [==============================] - 0s 4ms/step - loss: 13.2814 - mae: 13.2814\n",
            "Epoch 312/500\n",
            "2/2 [==============================] - 0s 5ms/step - loss: 29.9763 - mae: 29.9763\n",
            "Epoch 313/500\n",
            "2/2 [==============================] - 0s 5ms/step - loss: 7.6304 - mae: 7.6304\n",
            "Epoch 314/500\n",
            "2/2 [==============================] - 0s 7ms/step - loss: 9.9106 - mae: 9.9106\n",
            "Epoch 315/500\n",
            "2/2 [==============================] - 0s 6ms/step - loss: 23.7669 - mae: 23.7669\n",
            "Epoch 316/500\n",
            "2/2 [==============================] - 0s 6ms/step - loss: 16.3937 - mae: 16.3937\n",
            "Epoch 317/500\n",
            "2/2 [==============================] - 0s 5ms/step - loss: 21.0758 - mae: 21.0758\n",
            "Epoch 318/500\n",
            "2/2 [==============================] - 0s 5ms/step - loss: 7.9367 - mae: 7.9367\n",
            "Epoch 319/500\n",
            "2/2 [==============================] - 0s 9ms/step - loss: 17.9731 - mae: 17.9731\n",
            "Epoch 320/500\n",
            "2/2 [==============================] - 0s 6ms/step - loss: 10.2375 - mae: 10.2375\n",
            "Epoch 321/500\n",
            "2/2 [==============================] - 0s 5ms/step - loss: 8.3338 - mae: 8.3338\n",
            "Epoch 322/500\n",
            "2/2 [==============================] - 0s 5ms/step - loss: 5.0621 - mae: 5.0621\n",
            "Epoch 323/500\n",
            "2/2 [==============================] - 0s 5ms/step - loss: 23.5109 - mae: 23.5109\n",
            "Epoch 324/500\n",
            "2/2 [==============================] - 0s 11ms/step - loss: 6.8309 - mae: 6.8309\n",
            "Epoch 325/500\n",
            "2/2 [==============================] - 0s 8ms/step - loss: 16.3863 - mae: 16.3863\n",
            "Epoch 326/500\n",
            "2/2 [==============================] - 0s 8ms/step - loss: 7.5019 - mae: 7.5019\n",
            "Epoch 327/500\n",
            "2/2 [==============================] - 0s 5ms/step - loss: 20.0573 - mae: 20.0573\n",
            "Epoch 328/500\n",
            "2/2 [==============================] - 0s 5ms/step - loss: 13.7661 - mae: 13.7661\n",
            "Epoch 329/500\n",
            "2/2 [==============================] - 0s 10ms/step - loss: 16.8282 - mae: 16.8282\n",
            "Epoch 330/500\n",
            "2/2 [==============================] - 0s 6ms/step - loss: 7.0514 - mae: 7.0514\n",
            "Epoch 331/500\n",
            "2/2 [==============================] - 0s 7ms/step - loss: 21.4846 - mae: 21.4846\n",
            "Epoch 332/500\n",
            "2/2 [==============================] - 0s 4ms/step - loss: 12.2880 - mae: 12.2880\n",
            "Epoch 333/500\n",
            "2/2 [==============================] - 0s 4ms/step - loss: 11.8117 - mae: 11.8117\n",
            "Epoch 334/500\n",
            "2/2 [==============================] - 0s 4ms/step - loss: 8.3600 - mae: 8.3600\n",
            "Epoch 335/500\n",
            "2/2 [==============================] - 0s 4ms/step - loss: 12.4833 - mae: 12.4833\n",
            "Epoch 336/500\n",
            "2/2 [==============================] - 0s 4ms/step - loss: 32.2171 - mae: 32.2171\n",
            "Epoch 337/500\n",
            "2/2 [==============================] - 0s 5ms/step - loss: 10.4477 - mae: 10.4477\n",
            "Epoch 338/500\n",
            "2/2 [==============================] - 0s 5ms/step - loss: 19.6832 - mae: 19.6832\n",
            "Epoch 339/500\n",
            "2/2 [==============================] - 0s 5ms/step - loss: 35.0762 - mae: 35.0762\n",
            "Epoch 340/500\n",
            "2/2 [==============================] - 0s 5ms/step - loss: 10.4192 - mae: 10.4192\n",
            "Epoch 341/500\n",
            "2/2 [==============================] - 0s 5ms/step - loss: 9.7625 - mae: 9.7625\n",
            "Epoch 342/500\n",
            "2/2 [==============================] - 0s 5ms/step - loss: 11.9500 - mae: 11.9500\n",
            "Epoch 343/500\n",
            "2/2 [==============================] - 0s 5ms/step - loss: 9.3943 - mae: 9.3943\n",
            "Epoch 344/500\n",
            "2/2 [==============================] - 0s 5ms/step - loss: 5.6071 - mae: 5.6071\n",
            "Epoch 345/500\n",
            "2/2 [==============================] - 0s 5ms/step - loss: 37.4876 - mae: 37.4876\n",
            "Epoch 346/500\n",
            "2/2 [==============================] - 0s 5ms/step - loss: 16.8830 - mae: 16.8830\n",
            "Epoch 347/500\n",
            "2/2 [==============================] - 0s 5ms/step - loss: 12.8748 - mae: 12.8748\n",
            "Epoch 348/500\n",
            "2/2 [==============================] - 0s 4ms/step - loss: 8.1960 - mae: 8.1960\n",
            "Epoch 349/500\n",
            "2/2 [==============================] - 0s 5ms/step - loss: 13.5568 - mae: 13.5568\n",
            "Epoch 350/500\n",
            "2/2 [==============================] - 0s 6ms/step - loss: 15.4354 - mae: 15.4354\n",
            "Epoch 351/500\n",
            "2/2 [==============================] - 0s 6ms/step - loss: 32.9626 - mae: 32.9626\n",
            "Epoch 352/500\n",
            "2/2 [==============================] - 0s 5ms/step - loss: 14.2040 - mae: 14.2040\n",
            "Epoch 353/500\n",
            "2/2 [==============================] - 0s 5ms/step - loss: 15.9196 - mae: 15.9196\n",
            "Epoch 354/500\n",
            "2/2 [==============================] - 0s 5ms/step - loss: 19.0878 - mae: 19.0878\n",
            "Epoch 355/500\n",
            "2/2 [==============================] - 0s 5ms/step - loss: 34.1178 - mae: 34.1178\n",
            "Epoch 356/500\n",
            "2/2 [==============================] - 0s 5ms/step - loss: 7.6798 - mae: 7.6798\n",
            "Epoch 357/500\n",
            "2/2 [==============================] - 0s 5ms/step - loss: 25.2287 - mae: 25.2287\n",
            "Epoch 358/500\n",
            "2/2 [==============================] - 0s 5ms/step - loss: 22.6759 - mae: 22.6759\n",
            "Epoch 359/500\n",
            "2/2 [==============================] - 0s 5ms/step - loss: 8.8765 - mae: 8.8765\n",
            "Epoch 360/500\n",
            "2/2 [==============================] - 0s 5ms/step - loss: 21.4709 - mae: 21.4709\n",
            "Epoch 361/500\n",
            "2/2 [==============================] - 0s 5ms/step - loss: 20.6073 - mae: 20.6073\n",
            "Epoch 362/500\n",
            "2/2 [==============================] - 0s 5ms/step - loss: 7.0611 - mae: 7.0611\n",
            "Epoch 363/500\n",
            "2/2 [==============================] - 0s 5ms/step - loss: 25.8117 - mae: 25.8117\n",
            "Epoch 364/500\n",
            "2/2 [==============================] - 0s 6ms/step - loss: 32.2247 - mae: 32.2247\n",
            "Epoch 365/500\n",
            "2/2 [==============================] - 0s 6ms/step - loss: 10.0204 - mae: 10.0204\n",
            "Epoch 366/500\n",
            "2/2 [==============================] - 0s 7ms/step - loss: 9.6722 - mae: 9.6722\n",
            "Epoch 367/500\n",
            "2/2 [==============================] - 0s 6ms/step - loss: 30.4171 - mae: 30.4171\n",
            "Epoch 368/500\n",
            "2/2 [==============================] - 0s 5ms/step - loss: 10.5020 - mae: 10.5020\n",
            "Epoch 369/500\n",
            "2/2 [==============================] - 0s 9ms/step - loss: 14.9909 - mae: 14.9909\n",
            "Epoch 370/500\n",
            "2/2 [==============================] - 0s 9ms/step - loss: 14.6580 - mae: 14.6580\n",
            "Epoch 371/500\n",
            "2/2 [==============================] - 0s 5ms/step - loss: 23.3672 - mae: 23.3672\n",
            "Epoch 372/500\n",
            "2/2 [==============================] - 0s 6ms/step - loss: 13.1025 - mae: 13.1025\n",
            "Epoch 373/500\n",
            "2/2 [==============================] - 0s 8ms/step - loss: 9.2586 - mae: 9.2586\n",
            "Epoch 374/500\n",
            "2/2 [==============================] - 0s 8ms/step - loss: 9.6648 - mae: 9.6648\n",
            "Epoch 375/500\n",
            "2/2 [==============================] - 0s 6ms/step - loss: 13.0041 - mae: 13.0041\n",
            "Epoch 376/500\n",
            "2/2 [==============================] - 0s 5ms/step - loss: 14.8863 - mae: 14.8863\n",
            "Epoch 377/500\n",
            "2/2 [==============================] - 0s 6ms/step - loss: 14.7932 - mae: 14.7932\n",
            "Epoch 378/500\n",
            "2/2 [==============================] - 0s 8ms/step - loss: 16.2751 - mae: 16.2751\n",
            "Epoch 379/500\n",
            "2/2 [==============================] - 0s 12ms/step - loss: 20.8307 - mae: 20.8307\n",
            "Epoch 380/500\n",
            "2/2 [==============================] - 0s 4ms/step - loss: 33.5317 - mae: 33.5317\n",
            "Epoch 381/500\n",
            "2/2 [==============================] - 0s 10ms/step - loss: 8.2166 - mae: 8.2166\n",
            "Epoch 382/500\n",
            "2/2 [==============================] - 0s 5ms/step - loss: 13.0960 - mae: 13.0960\n",
            "Epoch 383/500\n",
            "2/2 [==============================] - 0s 4ms/step - loss: 8.3999 - mae: 8.3999\n",
            "Epoch 384/500\n",
            "2/2 [==============================] - 0s 4ms/step - loss: 7.1283 - mae: 7.1283\n",
            "Epoch 385/500\n",
            "2/2 [==============================] - 0s 7ms/step - loss: 10.9390 - mae: 10.9390\n",
            "Epoch 386/500\n",
            "2/2 [==============================] - 0s 7ms/step - loss: 19.7654 - mae: 19.7654\n",
            "Epoch 387/500\n",
            "2/2 [==============================] - 0s 6ms/step - loss: 24.8625 - mae: 24.8625\n",
            "Epoch 388/500\n",
            "2/2 [==============================] - 0s 6ms/step - loss: 8.7422 - mae: 8.7422\n",
            "Epoch 389/500\n",
            "2/2 [==============================] - 0s 10ms/step - loss: 5.9488 - mae: 5.9488\n",
            "Epoch 390/500\n",
            "2/2 [==============================] - 0s 6ms/step - loss: 24.4400 - mae: 24.4400\n",
            "Epoch 391/500\n",
            "2/2 [==============================] - 0s 10ms/step - loss: 5.9771 - mae: 5.9771\n",
            "Epoch 392/500\n",
            "2/2 [==============================] - 0s 5ms/step - loss: 16.3250 - mae: 16.3250\n",
            "Epoch 393/500\n",
            "2/2 [==============================] - 0s 6ms/step - loss: 6.0917 - mae: 6.0917\n",
            "Epoch 394/500\n",
            "2/2 [==============================] - 0s 5ms/step - loss: 11.0963 - mae: 11.0963\n",
            "Epoch 395/500\n",
            "2/2 [==============================] - 0s 6ms/step - loss: 14.9601 - mae: 14.9601\n",
            "Epoch 396/500\n",
            "2/2 [==============================] - 0s 7ms/step - loss: 7.6462 - mae: 7.6462\n",
            "Epoch 397/500\n",
            "2/2 [==============================] - 0s 4ms/step - loss: 8.7654 - mae: 8.7654\n",
            "Epoch 398/500\n",
            "2/2 [==============================] - 0s 6ms/step - loss: 14.5991 - mae: 14.5991\n",
            "Epoch 399/500\n",
            "2/2 [==============================] - 0s 5ms/step - loss: 11.3166 - mae: 11.3166\n",
            "Epoch 400/500\n",
            "2/2 [==============================] - 0s 5ms/step - loss: 21.9080 - mae: 21.9080\n",
            "Epoch 401/500\n",
            "2/2 [==============================] - 0s 6ms/step - loss: 14.8653 - mae: 14.8653\n",
            "Epoch 402/500\n",
            "2/2 [==============================] - 0s 7ms/step - loss: 8.4970 - mae: 8.4970\n",
            "Epoch 403/500\n",
            "2/2 [==============================] - 0s 6ms/step - loss: 10.3957 - mae: 10.3957\n",
            "Epoch 404/500\n",
            "2/2 [==============================] - 0s 8ms/step - loss: 10.2556 - mae: 10.2556\n",
            "Epoch 405/500\n",
            "2/2 [==============================] - 0s 6ms/step - loss: 6.3392 - mae: 6.3392\n",
            "Epoch 406/500\n",
            "2/2 [==============================] - 0s 5ms/step - loss: 17.4602 - mae: 17.4602\n",
            "Epoch 407/500\n",
            "2/2 [==============================] - 0s 6ms/step - loss: 11.4627 - mae: 11.4627\n",
            "Epoch 408/500\n",
            "2/2 [==============================] - 0s 5ms/step - loss: 20.7294 - mae: 20.7294\n",
            "Epoch 409/500\n",
            "2/2 [==============================] - 0s 6ms/step - loss: 31.3338 - mae: 31.3338\n",
            "Epoch 410/500\n",
            "2/2 [==============================] - 0s 5ms/step - loss: 9.2542 - mae: 9.2542\n",
            "Epoch 411/500\n",
            "2/2 [==============================] - 0s 6ms/step - loss: 14.8621 - mae: 14.8621\n",
            "Epoch 412/500\n",
            "2/2 [==============================] - 0s 8ms/step - loss: 21.7182 - mae: 21.7182\n",
            "Epoch 413/500\n",
            "2/2 [==============================] - 0s 8ms/step - loss: 12.6615 - mae: 12.6615\n",
            "Epoch 414/500\n",
            "2/2 [==============================] - 0s 7ms/step - loss: 6.0687 - mae: 6.0687\n",
            "Epoch 415/500\n",
            "2/2 [==============================] - 0s 6ms/step - loss: 13.2201 - mae: 13.2201\n",
            "Epoch 416/500\n",
            "2/2 [==============================] - 0s 4ms/step - loss: 27.4244 - mae: 27.4244\n",
            "Epoch 417/500\n",
            "2/2 [==============================] - 0s 4ms/step - loss: 10.6407 - mae: 10.6407\n",
            "Epoch 418/500\n",
            "2/2 [==============================] - 0s 5ms/step - loss: 12.8230 - mae: 12.8230\n",
            "Epoch 419/500\n",
            "2/2 [==============================] - 0s 5ms/step - loss: 15.8836 - mae: 15.8836\n",
            "Epoch 420/500\n",
            "2/2 [==============================] - 0s 4ms/step - loss: 24.7510 - mae: 24.7510\n",
            "Epoch 421/500\n",
            "2/2 [==============================] - 0s 5ms/step - loss: 17.3753 - mae: 17.3753\n",
            "Epoch 422/500\n",
            "2/2 [==============================] - 0s 12ms/step - loss: 7.8241 - mae: 7.8241\n",
            "Epoch 423/500\n",
            "2/2 [==============================] - 0s 6ms/step - loss: 25.3789 - mae: 25.3789\n",
            "Epoch 424/500\n",
            "2/2 [==============================] - 0s 5ms/step - loss: 15.1031 - mae: 15.1031\n",
            "Epoch 425/500\n",
            "2/2 [==============================] - 0s 7ms/step - loss: 7.1643 - mae: 7.1643\n",
            "Epoch 426/500\n",
            "2/2 [==============================] - 0s 5ms/step - loss: 20.3318 - mae: 20.3318\n",
            "Epoch 427/500\n",
            "2/2 [==============================] - 0s 5ms/step - loss: 6.3283 - mae: 6.3283\n",
            "Epoch 428/500\n",
            "2/2 [==============================] - 0s 6ms/step - loss: 12.9961 - mae: 12.9961\n",
            "Epoch 429/500\n",
            "2/2 [==============================] - 0s 5ms/step - loss: 10.7869 - mae: 10.7869\n",
            "Epoch 430/500\n",
            "2/2 [==============================] - 0s 6ms/step - loss: 11.4007 - mae: 11.4007\n",
            "Epoch 431/500\n",
            "2/2 [==============================] - 0s 4ms/step - loss: 10.6152 - mae: 10.6152\n",
            "Epoch 432/500\n",
            "2/2 [==============================] - 0s 6ms/step - loss: 11.4582 - mae: 11.4582\n",
            "Epoch 433/500\n",
            "2/2 [==============================] - 0s 6ms/step - loss: 11.3851 - mae: 11.3851\n",
            "Epoch 434/500\n",
            "2/2 [==============================] - 0s 4ms/step - loss: 30.3986 - mae: 30.3986\n",
            "Epoch 435/500\n",
            "2/2 [==============================] - 0s 5ms/step - loss: 10.5052 - mae: 10.5052\n",
            "Epoch 436/500\n",
            "2/2 [==============================] - 0s 5ms/step - loss: 28.8810 - mae: 28.8810\n",
            "Epoch 437/500\n",
            "2/2 [==============================] - 0s 4ms/step - loss: 8.5916 - mae: 8.5916\n",
            "Epoch 438/500\n",
            "2/2 [==============================] - 0s 4ms/step - loss: 12.7378 - mae: 12.7378\n",
            "Epoch 439/500\n",
            "2/2 [==============================] - 0s 6ms/step - loss: 33.6754 - mae: 33.6754\n",
            "Epoch 440/500\n",
            "2/2 [==============================] - 0s 6ms/step - loss: 15.0963 - mae: 15.0963\n",
            "Epoch 441/500\n",
            "2/2 [==============================] - 0s 5ms/step - loss: 17.4813 - mae: 17.4813\n",
            "Epoch 442/500\n",
            "2/2 [==============================] - 0s 5ms/step - loss: 22.3049 - mae: 22.3049\n",
            "Epoch 443/500\n",
            "2/2 [==============================] - 0s 6ms/step - loss: 23.5841 - mae: 23.5841\n",
            "Epoch 444/500\n",
            "2/2 [==============================] - 0s 7ms/step - loss: 11.0008 - mae: 11.0008\n",
            "Epoch 445/500\n",
            "2/2 [==============================] - 0s 8ms/step - loss: 14.9175 - mae: 14.9175\n",
            "Epoch 446/500\n",
            "2/2 [==============================] - 0s 5ms/step - loss: 17.9979 - mae: 17.9979\n",
            "Epoch 447/500\n",
            "2/2 [==============================] - 0s 7ms/step - loss: 5.4482 - mae: 5.4482\n",
            "Epoch 448/500\n",
            "2/2 [==============================] - 0s 4ms/step - loss: 10.0527 - mae: 10.0527\n",
            "Epoch 449/500\n",
            "2/2 [==============================] - 0s 4ms/step - loss: 14.0052 - mae: 14.0052\n",
            "Epoch 450/500\n",
            "2/2 [==============================] - 0s 6ms/step - loss: 16.7782 - mae: 16.7782\n",
            "Epoch 451/500\n",
            "2/2 [==============================] - 0s 5ms/step - loss: 14.2937 - mae: 14.2937\n",
            "Epoch 452/500\n",
            "2/2 [==============================] - 0s 6ms/step - loss: 30.6193 - mae: 30.6193\n",
            "Epoch 453/500\n",
            "2/2 [==============================] - 0s 8ms/step - loss: 7.6541 - mae: 7.6541\n",
            "Epoch 454/500\n",
            "2/2 [==============================] - 0s 5ms/step - loss: 28.1428 - mae: 28.1428\n",
            "Epoch 455/500\n",
            "2/2 [==============================] - 0s 6ms/step - loss: 8.0017 - mae: 8.0017\n",
            "Epoch 456/500\n",
            "2/2 [==============================] - 0s 6ms/step - loss: 10.3933 - mae: 10.3933\n",
            "Epoch 457/500\n",
            "2/2 [==============================] - 0s 5ms/step - loss: 15.0242 - mae: 15.0242\n",
            "Epoch 458/500\n",
            "2/2 [==============================] - 0s 5ms/step - loss: 16.5653 - mae: 16.5653\n",
            "Epoch 459/500\n",
            "2/2 [==============================] - 0s 6ms/step - loss: 26.8566 - mae: 26.8566\n",
            "Epoch 460/500\n",
            "2/2 [==============================] - 0s 5ms/step - loss: 12.4852 - mae: 12.4852\n",
            "Epoch 461/500\n",
            "2/2 [==============================] - 0s 5ms/step - loss: 12.4784 - mae: 12.4784\n",
            "Epoch 462/500\n",
            "2/2 [==============================] - 0s 5ms/step - loss: 13.3186 - mae: 13.3186\n",
            "Epoch 463/500\n",
            "2/2 [==============================] - 0s 5ms/step - loss: 29.5524 - mae: 29.5524\n",
            "Epoch 464/500\n",
            "2/2 [==============================] - 0s 6ms/step - loss: 3.4664 - mae: 3.4664\n",
            "Epoch 465/500\n",
            "2/2 [==============================] - 0s 5ms/step - loss: 15.2136 - mae: 15.2136\n",
            "Epoch 466/500\n",
            "2/2 [==============================] - 0s 5ms/step - loss: 20.8327 - mae: 20.8327\n",
            "Epoch 467/500\n",
            "2/2 [==============================] - 0s 4ms/step - loss: 30.5108 - mae: 30.5108\n",
            "Epoch 468/500\n",
            "2/2 [==============================] - 0s 6ms/step - loss: 11.0597 - mae: 11.0597\n",
            "Epoch 469/500\n",
            "2/2 [==============================] - 0s 6ms/step - loss: 12.8372 - mae: 12.8372\n",
            "Epoch 470/500\n",
            "2/2 [==============================] - 0s 7ms/step - loss: 3.2398 - mae: 3.2398\n",
            "Epoch 471/500\n",
            "2/2 [==============================] - 0s 8ms/step - loss: 16.6964 - mae: 16.6964\n",
            "Epoch 472/500\n",
            "2/2 [==============================] - 0s 7ms/step - loss: 13.3883 - mae: 13.3883\n",
            "Epoch 473/500\n",
            "2/2 [==============================] - 0s 5ms/step - loss: 15.2771 - mae: 15.2771\n",
            "Epoch 474/500\n",
            "2/2 [==============================] - 0s 6ms/step - loss: 11.7448 - mae: 11.7448\n",
            "Epoch 475/500\n",
            "2/2 [==============================] - 0s 6ms/step - loss: 16.4113 - mae: 16.4113\n",
            "Epoch 476/500\n",
            "2/2 [==============================] - 0s 7ms/step - loss: 13.8785 - mae: 13.8785\n",
            "Epoch 477/500\n",
            "2/2 [==============================] - 0s 4ms/step - loss: 30.6702 - mae: 30.6702\n",
            "Epoch 478/500\n",
            "2/2 [==============================] - 0s 5ms/step - loss: 8.5880 - mae: 8.5880\n",
            "Epoch 479/500\n",
            "2/2 [==============================] - 0s 5ms/step - loss: 10.7384 - mae: 10.7384\n",
            "Epoch 480/500\n",
            "2/2 [==============================] - 0s 8ms/step - loss: 17.9051 - mae: 17.9051\n",
            "Epoch 481/500\n",
            "2/2 [==============================] - 0s 5ms/step - loss: 15.8095 - mae: 15.8095\n",
            "Epoch 482/500\n",
            "2/2 [==============================] - 0s 5ms/step - loss: 21.3054 - mae: 21.3054\n",
            "Epoch 483/500\n",
            "2/2 [==============================] - 0s 5ms/step - loss: 25.3845 - mae: 25.3845\n",
            "Epoch 484/500\n",
            "2/2 [==============================] - 0s 5ms/step - loss: 23.9815 - mae: 23.9815\n",
            "Epoch 485/500\n",
            "2/2 [==============================] - 0s 5ms/step - loss: 5.7734 - mae: 5.7734\n",
            "Epoch 486/500\n",
            "2/2 [==============================] - 0s 7ms/step - loss: 20.0010 - mae: 20.0010\n",
            "Epoch 487/500\n",
            "2/2 [==============================] - 0s 5ms/step - loss: 14.0419 - mae: 14.0419\n",
            "Epoch 488/500\n",
            "2/2 [==============================] - 0s 7ms/step - loss: 30.6088 - mae: 30.6088\n",
            "Epoch 489/500\n",
            "2/2 [==============================] - 0s 6ms/step - loss: 11.9409 - mae: 11.9409\n",
            "Epoch 490/500\n",
            "2/2 [==============================] - 0s 5ms/step - loss: 12.7352 - mae: 12.7352\n",
            "Epoch 491/500\n",
            "2/2 [==============================] - 0s 6ms/step - loss: 23.6139 - mae: 23.6139\n",
            "Epoch 492/500\n",
            "2/2 [==============================] - 0s 6ms/step - loss: 20.5365 - mae: 20.5365\n",
            "Epoch 493/500\n",
            "2/2 [==============================] - 0s 8ms/step - loss: 4.9942 - mae: 4.9942\n",
            "Epoch 494/500\n",
            "2/2 [==============================] - 0s 6ms/step - loss: 12.7986 - mae: 12.7986\n",
            "Epoch 495/500\n",
            "2/2 [==============================] - 0s 7ms/step - loss: 13.3772 - mae: 13.3772\n",
            "Epoch 496/500\n",
            "2/2 [==============================] - 0s 6ms/step - loss: 12.6727 - mae: 12.6727\n",
            "Epoch 497/500\n",
            "2/2 [==============================] - 0s 7ms/step - loss: 17.6192 - mae: 17.6192\n",
            "Epoch 498/500\n",
            "2/2 [==============================] - 0s 5ms/step - loss: 23.5629 - mae: 23.5629\n",
            "Epoch 499/500\n",
            "2/2 [==============================] - 0s 10ms/step - loss: 9.3755 - mae: 9.3755\n",
            "Epoch 500/500\n",
            "2/2 [==============================] - 0s 5ms/step - loss: 14.6316 - mae: 14.6316\n"
          ]
        },
        {
          "output_type": "execute_result",
          "data": {
            "text/plain": [
              "<keras.callbacks.History at 0x7f3bee76d210>"
            ]
          },
          "metadata": {},
          "execution_count": 70
        }
      ]
    },
    {
      "cell_type": "code",
      "source": [
        "# Make and plot some predictions\n",
        "\n",
        "Y_preds_3 = model_3.predict(X_test)\n",
        "plot_predictions(X_train, Y_train, X_test, Y_test, Y_preds_3)"
      ],
      "metadata": {
        "colab": {
          "base_uri": "https://localhost:8080/",
          "height": 428
        },
        "id": "so8r2bHPjxEE",
        "outputId": "f823bde4-f31b-4aa4-e15e-8a873dda56f4"
      },
      "execution_count": null,
      "outputs": [
        {
          "output_type": "display_data",
          "data": {
            "text/plain": [
              "<Figure size 720x504 with 1 Axes>"
            ],
            "image/png": "[encoded data removed]"
          },
          "metadata": {
            "needs_background": "light"
          }
        }
      ]
    },
    {
      "cell_type": "code",
      "source": [
        "# Calculate model_3 evaluation metrics\n",
        "mae_3 = mae(Y_test, Y_preds_3)\n",
        "mse_3 = mse(Y_test, Y_preds_3)\n",
        "mae_3, mse_3 "
      ],
      "metadata": {
        "colab": {
          "base_uri": "https://localhost:8080/"
        },
        "id": "Rju9mTWWkuSA",
        "outputId": "749dea2c-8258-4ed6-84d1-cc3b04b32844"
      },
      "execution_count": null,
      "outputs": [
        {
          "output_type": "execute_result",
          "data": {
            "text/plain": [
              "(<tf.Tensor: shape=(), dtype=float32, numpy=68.713615>,\n",
              " <tf.Tensor: shape=(), dtype=float32, numpy=4808.0273>)"
            ]
          },
          "metadata": {},
          "execution_count": 72
        }
      ]
    },
    {
      "cell_type": "markdown",
      "source": [
        "## Comparing the results of our experiments\n",
        "\n",
        "We've run a few experiments, let's compare the results"
      ],
      "metadata": {
        "id": "hyKnEDEMlE2y"
      }
    },
    {
      "cell_type": "code",
      "source": [
        "# Let's compare our model's results using a pandas DataFrame\n",
        "import pandas as pd\n",
        "\n",
        "model_results = [[\"model_1\", mae_1.numpy(), mse_1.numpy()],\n",
        "                 [\"model_2\", mae_2.numpy(), mse_2.numpy()],\n",
        "                 [\"model_3\", mae_3.numpy(), mse_3.numpy()]]\n",
        "\n",
        "all_results = pd.DataFrame(model_results, columns=[\"model\", \"mae\", \"mse\"])\n",
        "all_results"
      ],
      "metadata": {
        "colab": {
          "base_uri": "https://localhost:8080/",
          "height": 143
        },
        "id": "uticfgjVlbxg",
        "outputId": "2b4d1ef3-3c5e-4b47-9021-c600698cc590"
      },
      "execution_count": null,
      "outputs": [
        {
          "output_type": "execute_result",
          "data": {
            "text/plain": [
              "     model        mae          mse\n",
              "0  model_1  18.745327   353.573364\n",
              "1  model_2   3.196941    13.070143\n",
              "2  model_3  68.713615  4808.027344"
            ],
            "text/html": [
              "\n",
              "  <div id=\"df-13553842-bd63-448b-9cff-b8e0b7cfd9ed\">\n",
              "    <div class=\"colab-df-container\">\n",
              "      <div>\n",
              "<style scoped>\n",
              "    .dataframe tbody tr th:only-of-type {\n",
              "        vertical-align: middle;\n",
              "    }\n",
              "\n",
              "    .dataframe tbody tr th {\n",
              "        vertical-align: top;\n",
              "    }\n",
              "\n",
              "    .dataframe thead th {\n",
              "        text-align: right;\n",
              "    }\n",
              "</style>\n",
              "<table border=\"1\" class=\"dataframe\">\n",
              "  <thead>\n",
              "    <tr style=\"text-align: right;\">\n",
              "      <th></th>\n",
              "      <th>model</th>\n",
              "      <th>mae</th>\n",
              "      <th>mse</th>\n",
              "    </tr>\n",
              "  </thead>\n",
              "  <tbody>\n",
              "    <tr>\n",
              "      <th>0</th>\n",
              "      <td>model_1</td>\n",
              "      <td>18.745327</td>\n",
              "      <td>353.573364</td>\n",
              "    </tr>\n",
              "    <tr>\n",
              "      <th>1</th>\n",
              "      <td>model_2</td>\n",
              "      <td>3.196941</td>\n",
              "      <td>13.070143</td>\n",
              "    </tr>\n",
              "    <tr>\n",
              "      <th>2</th>\n",
              "      <td>model_3</td>\n",
              "      <td>68.713615</td>\n",
              "      <td>4808.027344</td>\n",
              "    </tr>\n",
              "  </tbody>\n",
              "</table>\n",
              "</div>\n",
              "      <button class=\"colab-df-convert\" onclick=\"convertToInteractive('df-13553842-bd63-448b-9cff-b8e0b7cfd9ed')\"\n",
              "              title=\"Convert this dataframe to an interactive table.\"\n",
              "              style=\"display:none;\">\n",
              "        \n",
              "  <svg xmlns=\"http://www.w3.org/2000/svg\" height=\"24px\"viewBox=\"0 0 24 24\"\n",
              "       width=\"24px\">\n",
              "    <path d=\"M0 0h24v24H0V0z\" fill=\"none\"/>\n",
              "    <path d=\"M18.56 5.44l.94 2.06.94-2.06 2.06-.94-2.06-.94-.94-2.06-.94 2.06-2.06.94zm-11 1L8.5 8.5l.94-2.06 2.06-.94-2.06-.94L8.5 2.5l-.94 2.06-2.06.94zm10 10l.94 2.06.94-2.06 2.06-.94-2.06-.94-.94-2.06-.94 2.06-2.06.94z\"/><path d=\"M17.41 7.96l-1.37-1.37c-.4-.4-.92-.59-1.43-.59-.52 0-1.04.2-1.43.59L10.3 9.45l-7.72 7.72c-.78.78-.78 2.05 0 2.83L4 21.41c.39.39.9.59 1.41.59.51 0 1.02-.2 1.41-.59l7.78-7.78 2.81-2.81c.8-.78.8-2.07 0-2.86zM5.41 20L4 18.59l7.72-7.72 1.47 1.35L5.41 20z\"/>\n",
              "  </svg>\n",
              "      </button>\n",
              "      \n",
              "  <style>\n",
              "    .colab-df-container {\n",
              "      display:flex;\n",
              "      flex-wrap:wrap;\n",
              "      gap: 12px;\n",
              "    }\n",
              "\n",
              "    .colab-df-convert {\n",
              "      background-color: #E8F0FE;\n",
              "      border: none;\n",
              "      border-radius: 50%;\n",
              "      cursor: pointer;\n",
              "      display: none;\n",
              "      fill: #1967D2;\n",
              "      height: 32px;\n",
              "      padding: 0 0 0 0;\n",
              "      width: 32px;\n",
              "    }\n",
              "\n",
              "    .colab-df-convert:hover {\n",
              "      background-color: #E2EBFA;\n",
              "      box-shadow: 0px 1px 2px rgba(60, 64, 67, 0.3), 0px 1px 3px 1px rgba(60, 64, 67, 0.15);\n",
              "      fill: #174EA6;\n",
              "    }\n",
              "\n",
              "    [theme=dark] .colab-df-convert {\n",
              "      background-color: #3B4455;\n",
              "      fill: #D2E3FC;\n",
              "    }\n",
              "\n",
              "    [theme=dark] .colab-df-convert:hover {\n",
              "      background-color: #434B5C;\n",
              "      box-shadow: 0px 1px 3px 1px rgba(0, 0, 0, 0.15);\n",
              "      filter: drop-shadow(0px 1px 2px rgba(0, 0, 0, 0.3));\n",
              "      fill: #FFFFFF;\n",
              "    }\n",
              "  </style>\n",
              "\n",
              "      <script>\n",
              "        const buttonEl =\n",
              "          document.querySelector('#df-13553842-bd63-448b-9cff-b8e0b7cfd9ed button.colab-df-convert');\n",
              "        buttonEl.style.display =\n",
              "          google.colab.kernel.accessAllowed ? 'block' : 'none';\n",
              "\n",
              "        async function convertToInteractive(key) {\n",
              "          const element = document.querySelector('#df-13553842-bd63-448b-9cff-b8e0b7cfd9ed');\n",
              "          const dataTable =\n",
              "            await google.colab.kernel.invokeFunction('convertToInteractive',\n",
              "                                                     [key], {});\n",
              "          if (!dataTable) return;\n",
              "\n",
              "          const docLinkHtml = 'Like what you see? Visit the ' +\n",
              "            '<a target=\"_blank\" href=https://colab.research.google.com/notebooks/data_table.ipynb>data table notebook</a>'\n",
              "            + ' to learn more about interactive tables.';\n",
              "          element.innerHTML = '';\n",
              "          dataTable['output_type'] = 'display_data';\n",
              "          await google.colab.output.renderOutput(dataTable, element);\n",
              "          const docLink = document.createElement('div');\n",
              "          docLink.innerHTML = docLinkHtml;\n",
              "          element.appendChild(docLink);\n",
              "        }\n",
              "      </script>\n",
              "    </div>\n",
              "  </div>\n",
              "  "
            ]
          },
          "metadata": {},
          "execution_count": 75
        }
      ]
    },
    {
      "cell_type": "code",
      "source": [
        "model_2.summary()"
      ],
      "metadata": {
        "colab": {
          "base_uri": "https://localhost:8080/"
        },
        "id": "tx-a_Y0b370E",
        "outputId": "02a3d2ff-8e91-4c2a-b5ff-66df4f3fa060"
      },
      "execution_count": null,
      "outputs": [
        {
          "output_type": "stream",
          "name": "stdout",
          "text": [
            "Model: \"sequential_5\"\n",
            "_________________________________________________________________\n",
            " Layer (type)                Output Shape              Param #   \n",
            "=================================================================\n",
            " dense_7 (Dense)             (None, 10)                20        \n",
            "                                                                 \n",
            " dense_8 (Dense)             (None, 1)                 11        \n",
            "                                                                 \n",
            "=================================================================\n",
            "Total params: 31\n",
            "Trainable params: 31\n",
            "Non-trainable params: 0\n",
            "_________________________________________________________________\n"
          ]
        }
      ]
    },
    {
      "cell_type": "markdown",
      "source": [
        "> **Note:** One of your main goals should be to minimize the time between your experiments. The more experiments you do, the more things you'll figure out which don't work and in turn , get closer to figuring out what does work. Remeber the machine learning practioner's motto: \"experiment, experiment, experiment\"."
      ],
      "metadata": {
        "id": "4XN0aU6L4RFE"
      }
    },
    {
      "cell_type": "markdown",
      "source": [
        "## Tracking your experiments\n",
        "\n",
        "One really good habit in mahcine learning modelling is to track the results of your experiments.\n",
        "\n",
        "And when doing so, it can be tedious if you're \n",
        "running lots of experiments.\n",
        "\n",
        "Luckily, there are tools to help us!\n",
        "\n",
        "**Resource:** As you build more models, you'll want to look into using:\n",
        "\n",
        "* TensorBoard - a component of the TensorFlow library to help track modelling experiments (we'll see this one later).\n",
        "* Weights & Biases - a tool for tracking all kinds of machine learning experiments (plugs straigt into TensorBoard)."
      ],
      "metadata": {
        "id": "gb4GZt4u5Lgi"
      }
    },
    {
      "cell_type": "markdown",
      "source": [
        "## Saving our models\n",
        "Saving our models allows us to use them outside of Google Colab (or wherever they were trained) such as in a web application or a mobile app.\n",
        "\n",
        "THere are two main formtas we can save our model's too:\n",
        "> 1. The SavedModel format\n",
        "> 2. The HDF5 format"
      ],
      "metadata": {
        "id": "2BnRJH2U593j"
      }
    },
    {
      "cell_type": "code",
      "source": [
        "# Save model using the SavedModel format\n",
        "model_2.save(\"best_model_SavedModel_format\")"
      ],
      "metadata": {
        "colab": {
          "base_uri": "https://localhost:8080/"
        },
        "id": "kn3EBQLt-6QA",
        "outputId": "581597c1-cbe1-45b9-9086-d0b1d86a8fbd"
      },
      "execution_count": null,
      "outputs": [
        {
          "output_type": "stream",
          "name": "stdout",
          "text": [
            "INFO:tensorflow:Assets written to: best_model_SavedModel_format/assets\n"
          ]
        }
      ]
    },
    {
      "cell_type": "code",
      "source": [
        "# Save model using the HDF5 format\n",
        "model_2.save(\"best_model_HDF5_format.h5\")"
      ],
      "metadata": {
        "id": "toWiNDTD_jkG"
      },
      "execution_count": null,
      "outputs": []
    },
    {
      "cell_type": "markdown",
      "source": [
        "## Loading in a save model"
      ],
      "metadata": {
        "id": "tmzY8A2nARho"
      }
    },
    {
      "cell_type": "code",
      "source": [
        "# Load in the SavedModel format model\n",
        "loaded_SavedModal_format = tf.keras.models.load_model(\"best_model_SavedModel_format\")"
      ],
      "metadata": {
        "id": "N4_TvF2qAsZo"
      },
      "execution_count": null,
      "outputs": []
    },
    {
      "cell_type": "code",
      "source": [
        "loaded_SavedModal_format.summary()"
      ],
      "metadata": {
        "colab": {
          "base_uri": "https://localhost:8080/"
        },
        "id": "YtXVJElBBJnJ",
        "outputId": "032bf000-eefe-4f41-b8ce-33f516ee86d3"
      },
      "execution_count": null,
      "outputs": [
        {
          "output_type": "stream",
          "name": "stdout",
          "text": [
            "Model: \"sequential_5\"\n",
            "_________________________________________________________________\n",
            " Layer (type)                Output Shape              Param #   \n",
            "=================================================================\n",
            " dense_7 (Dense)             (None, 10)                20        \n",
            "                                                                 \n",
            " dense_8 (Dense)             (None, 1)                 11        \n",
            "                                                                 \n",
            "=================================================================\n",
            "Total params: 31\n",
            "Trainable params: 31\n",
            "Non-trainable params: 0\n",
            "_________________________________________________________________\n"
          ]
        }
      ]
    },
    {
      "cell_type": "code",
      "source": [
        "model_2.summary()"
      ],
      "metadata": {
        "colab": {
          "base_uri": "https://localhost:8080/"
        },
        "id": "vhQju_BEBOgb",
        "outputId": "107f5901-00c3-43ea-dd9f-1c7d003caf6a"
      },
      "execution_count": null,
      "outputs": [
        {
          "output_type": "stream",
          "name": "stdout",
          "text": [
            "Model: \"sequential_5\"\n",
            "_________________________________________________________________\n",
            " Layer (type)                Output Shape              Param #   \n",
            "=================================================================\n",
            " dense_7 (Dense)             (None, 10)                20        \n",
            "                                                                 \n",
            " dense_8 (Dense)             (None, 1)                 11        \n",
            "                                                                 \n",
            "=================================================================\n",
            "Total params: 31\n",
            "Trainable params: 31\n",
            "Non-trainable params: 0\n",
            "_________________________________________________________________\n"
          ]
        }
      ]
    },
    {
      "cell_type": "code",
      "source": [
        "# Compare model_2 predictions with SaveModelformat model predictions \n",
        "model_2_preds = model_2.predict(X_test)\n",
        "loaded_SavedModal_format_preds = loaded_SavedModal_format.predict(X_test)\n",
        "model_2_preds == loaded_SavedModal_format_preds"
      ],
      "metadata": {
        "colab": {
          "base_uri": "https://localhost:8080/"
        },
        "id": "Tdi7R-swBXsZ",
        "outputId": "432867a5-5d05-498e-8ddf-eacef26a8edd"
      },
      "execution_count": null,
      "outputs": [
        {
          "output_type": "execute_result",
          "data": {
            "text/plain": [
              "array([[ True],\n",
              "       [ True],\n",
              "       [ True],\n",
              "       [ True],\n",
              "       [ True],\n",
              "       [ True],\n",
              "       [ True],\n",
              "       [ True],\n",
              "       [ True],\n",
              "       [ True]])"
            ]
          },
          "metadata": {},
          "execution_count": 88
        }
      ]
    },
    {
      "cell_type": "code",
      "source": [
        "# Load in a model using the .h5 format\n",
        "loaded_h5_model = tf.keras.models.load_model(\"best_model_HDF5_format.h5\")\n",
        "loaded_h5_model.summary()"
      ],
      "metadata": {
        "colab": {
          "base_uri": "https://localhost:8080/"
        },
        "id": "3q1VFDhFBzHb",
        "outputId": "cbefbbb7-d21e-4c1e-e1ec-b51ea428283a"
      },
      "execution_count": null,
      "outputs": [
        {
          "output_type": "stream",
          "name": "stdout",
          "text": [
            "Model: \"sequential_5\"\n",
            "_________________________________________________________________\n",
            " Layer (type)                Output Shape              Param #   \n",
            "=================================================================\n",
            " dense_7 (Dense)             (None, 10)                20        \n",
            "                                                                 \n",
            " dense_8 (Dense)             (None, 1)                 11        \n",
            "                                                                 \n",
            "=================================================================\n",
            "Total params: 31\n",
            "Trainable params: 31\n",
            "Non-trainable params: 0\n",
            "_________________________________________________________________\n"
          ]
        }
      ]
    },
    {
      "cell_type": "code",
      "source": [
        "model_2.summary()"
      ],
      "metadata": {
        "colab": {
          "base_uri": "https://localhost:8080/"
        },
        "id": "6Q-iSKptDG1N",
        "outputId": "01c9b264-84cb-423e-89f8-0a292c7c7b7b"
      },
      "execution_count": null,
      "outputs": [
        {
          "output_type": "stream",
          "name": "stdout",
          "text": [
            "Model: \"sequential_5\"\n",
            "_________________________________________________________________\n",
            " Layer (type)                Output Shape              Param #   \n",
            "=================================================================\n",
            " dense_7 (Dense)             (None, 10)                20        \n",
            "                                                                 \n",
            " dense_8 (Dense)             (None, 1)                 11        \n",
            "                                                                 \n",
            "=================================================================\n",
            "Total params: 31\n",
            "Trainable params: 31\n",
            "Non-trainable params: 0\n",
            "_________________________________________________________________\n"
          ]
        }
      ]
    },
    {
      "cell_type": "code",
      "source": [
        "# Check to see if loaded .h5 model predictions match model_2\n",
        "model_2_preds = model_2.predict(X_test)\n",
        "loaded_h5_model_preds = loaded_h5_model.predict(X_test)\n",
        "model_2_preds == loaded_h5_model_preds"
      ],
      "metadata": {
        "colab": {
          "base_uri": "https://localhost:8080/"
        },
        "id": "NVRHIqS9DKv5",
        "outputId": "2f860dc9-9293-4b34-f85a-9472102acba1"
      },
      "execution_count": null,
      "outputs": [
        {
          "output_type": "execute_result",
          "data": {
            "text/plain": [
              "array([[ True],\n",
              "       [ True],\n",
              "       [ True],\n",
              "       [ True],\n",
              "       [ True],\n",
              "       [ True],\n",
              "       [ True],\n",
              "       [ True],\n",
              "       [ True],\n",
              "       [ True]])"
            ]
          },
          "metadata": {},
          "execution_count": 91
        }
      ]
    },
    {
      "cell_type": "code",
      "source": [
        "loaded_h5_model.predict([19])"
      ],
      "metadata": {
        "colab": {
          "base_uri": "https://localhost:8080/"
        },
        "id": "Hk4DjdcwDqmi",
        "outputId": "04e4650a-3615-45d5-fc7e-fba71eaf96e4"
      },
      "execution_count": null,
      "outputs": [
        {
          "output_type": "execute_result",
          "data": {
            "text/plain": [
              "array([[23.52802]], dtype=float32)"
            ]
          },
          "metadata": {},
          "execution_count": 93
        }
      ]
    },
    {
      "cell_type": "markdown",
      "source": [
        "## Download a model (or any other file) from Google Colab\n",
        "\n",
        "If you want to download your files from Google Colab:\n",
        "\n",
        "1. You can go to the \"files\" tab and right child on the file you're after and click \"download\"\n",
        "\n",
        "2. Use code (see the cell below)."
      ],
      "metadata": {
        "id": "Cv1zJiGVD4KL"
      }
    },
    {
      "cell_type": "code",
      "source": [
        " # Download a file from google colab\n",
        " from google.colab import files\n",
        " files.download(\"/content/best_model_HDF5_format.h5\")"
      ],
      "metadata": {
        "colab": {
          "base_uri": "https://localhost:8080/",
          "height": 17
        },
        "id": "49DIQoz8EYwu",
        "outputId": "4c2355f2-c141-421f-b007-45fb43db07d5"
      },
      "execution_count": null,
      "outputs": [
        {
          "output_type": "display_data",
          "data": {
            "text/plain": [
              "<IPython.core.display.Javascript object>"
            ],
            "application/javascript": [
              "\n",
              "    async function download(id, filename, size) {\n",
              "      if (!google.colab.kernel.accessAllowed) {\n",
              "        return;\n",
              "      }\n",
              "      const div = document.createElement('div');\n",
              "      const label = document.createElement('label');\n",
              "      label.textContent = `Downloading \"${filename}\": `;\n",
              "      div.appendChild(label);\n",
              "      const progress = document.createElement('progress');\n",
              "      progress.max = size;\n",
              "      div.appendChild(progress);\n",
              "      document.body.appendChild(div);\n",
              "\n",
              "      const buffers = [];\n",
              "      let downloaded = 0;\n",
              "\n",
              "      const channel = await google.colab.kernel.comms.open(id);\n",
              "      // Send a message to notify the kernel that we're ready.\n",
              "      channel.send({})\n",
              "\n",
              "      for await (const message of channel.messages) {\n",
              "        // Send a message to notify the kernel that we're ready.\n",
              "        channel.send({})\n",
              "        if (message.buffers) {\n",
              "          for (const buffer of message.buffers) {\n",
              "            buffers.push(buffer);\n",
              "            downloaded += buffer.byteLength;\n",
              "            progress.value = downloaded;\n",
              "          }\n",
              "        }\n",
              "      }\n",
              "      const blob = new Blob(buffers, {type: 'application/binary'});\n",
              "      const a = document.createElement('a');\n",
              "      a.href = window.URL.createObjectURL(blob);\n",
              "      a.download = filename;\n",
              "      div.appendChild(a);\n",
              "      a.click();\n",
              "      div.remove();\n",
              "    }\n",
              "  "
            ]
          },
          "metadata": {}
        },
        {
          "output_type": "display_data",
          "data": {
            "text/plain": [
              "<IPython.core.display.Javascript object>"
            ],
            "application/javascript": [
              "download(\"download_2cf262a5-f154-41e1-ae6d-cdd043f1b351\", \"best_model_HDF5_format.h5\", 17872)"
            ]
          },
          "metadata": {}
        }
      ]
    },
    {
      "cell_type": "code",
      "source": [
        "# Save a file from Google Colab to Google Drive (requires mounting Google Drive)\n",
        "!cp /content/best_model_HDF5_format.h5 /content/drive/MyDrive/TensorFlow_Course"
      ],
      "metadata": {
        "id": "uEmoyQdTFjzf"
      },
      "execution_count": null,
      "outputs": []
    },
    {
      "cell_type": "code",
      "source": [
        "!ls /content/drive/MyDrive/TensorFlow_Course"
      ],
      "metadata": {
        "colab": {
          "base_uri": "https://localhost:8080/"
        },
        "id": "lITyevtHK6KZ",
        "outputId": "802aed66-7a57-4eae-bbae-a070e3e38e83"
      },
      "execution_count": null,
      "outputs": [
        {
          "output_type": "stream",
          "name": "stdout",
          "text": [
            "best_model_HDF5_format.h5\n"
          ]
        }
      ]
    }
  ]
}